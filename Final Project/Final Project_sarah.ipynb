{
 "cells": [
  {
   "cell_type": "markdown",
   "metadata": {
    "colab_type": "text",
    "id": "zRywxwdX6Xnr"
   },
   "source": [
    "# Final Project"
   ]
  },
  {
   "cell_type": "code",
   "execution_count": 68,
   "metadata": {
    "colab": {
     "base_uri": "https://localhost:8080/",
     "height": 55
    },
    "colab_type": "code",
    "executionInfo": {
     "elapsed": 281,
     "status": "ok",
     "timestamp": 1576188206219,
     "user": {
      "displayName": "莎娜shana",
      "photoUrl": "",
      "userId": "06539486535699047543"
     },
     "user_tz": 360
    },
    "id": "5g5vpCRa1SZm",
    "outputId": "3e2ce70c-a251-44e0-f8c5-11c8951526c5"
   },
   "outputs": [
    {
     "name": "stdout",
     "output_type": "stream",
     "text": [
      "Drive already mounted at /content/drive; to attempt to forcibly remount, call drive.mount(\"/content/drive\", force_remount=True).\n"
     ]
    }
   ],
   "source": [
    "import pandas as pd\n",
    "import pickle\n",
    "from fastai.text import *\n",
    "from fastai import *\n",
    "from google.colab import drive\n",
    "drive.mount('/content/drive')"
   ]
  },
  {
   "cell_type": "markdown",
   "metadata": {
    "colab_type": "text",
    "id": "VOhbpOi56jWW"
   },
   "source": [
    "## 1. Load Data & Construct Databunch object"
   ]
  },
  {
   "cell_type": "code",
   "execution_count": 69,
   "metadata": {
    "colab": {
     "base_uri": "https://localhost:8080/",
     "height": 107
    },
    "colab_type": "code",
    "executionInfo": {
     "elapsed": 265,
     "status": "ok",
     "timestamp": 1576188208355,
     "user": {
      "displayName": "莎娜shana",
      "photoUrl": "",
      "userId": "06539486535699047543"
     },
     "user_tz": 360
    },
    "id": "KTxP9M_XxzJH",
    "outputId": "f119de10-71c6-475c-9951-43d54cd0d8f1"
   },
   "outputs": [
    {
     "data": {
      "text/plain": [
       "[PosixPath('/content/drive/My Drive/Colab Notebooks/Final Project/IMDB movie review example'),\n",
       " PosixPath('/content/drive/My Drive/Colab Notebooks/Final Project/Final Project.ipynb'),\n",
       " PosixPath('/content/drive/My Drive/Colab Notebooks/Final Project/df_work.csv'),\n",
       " PosixPath('/content/drive/My Drive/Colab Notebooks/Final Project/output')]"
      ]
     },
     "execution_count": 69,
     "metadata": {
      "tags": []
     },
     "output_type": "execute_result"
    }
   ],
   "source": [
    "path = Path('/content/drive/My Drive/Colab Notebooks/Final Project/')\n",
    "path.ls()"
   ]
  },
  {
   "cell_type": "code",
   "execution_count": 0,
   "metadata": {
    "colab": {},
    "colab_type": "code",
    "id": "v7g84utL12jr"
   },
   "outputs": [],
   "source": [
    "df = pd.read_csv(path/\"df_work.csv\", index_col=0)"
   ]
  },
  {
   "cell_type": "code",
   "execution_count": 71,
   "metadata": {
    "colab": {
     "base_uri": "https://localhost:8080/",
     "height": 17
    },
    "colab_type": "code",
    "executionInfo": {
     "elapsed": 28312,
     "status": "ok",
     "timestamp": 1576188244732,
     "user": {
      "displayName": "莎娜shana",
      "photoUrl": "",
      "userId": "06539486535699047543"
     },
     "user_tz": 360
    },
    "id": "63-B9ls3JXxN",
    "outputId": "f2cb70d4-95f1-4bd4-bb80-e31e202932f7"
   },
   "outputs": [
    {
     "data": {
      "text/html": [],
      "text/plain": [
       "<IPython.core.display.HTML object>"
      ]
     },
     "metadata": {
      "tags": []
     },
     "output_type": "display_data"
    },
    {
     "data": {
      "text/html": [],
      "text/plain": [
       "<IPython.core.display.HTML object>"
      ]
     },
     "metadata": {
      "tags": []
     },
     "output_type": "display_data"
    }
   ],
   "source": [
    "data_lm = (TextList.from_df(df, path=path, cols='TEXT')\n",
    "           .split_by_rand_pct(seed=67)\n",
    "           .label_for_lm()\n",
    "           .databunch(bs=64, num_workers=2))  # batchsize = 64"
   ]
  },
  {
   "cell_type": "code",
   "execution_count": 72,
   "metadata": {
    "colab": {
     "base_uri": "https://localhost:8080/",
     "height": 35
    },
    "colab_type": "code",
    "executionInfo": {
     "elapsed": 25892,
     "status": "ok",
     "timestamp": 1576188244735,
     "user": {
      "displayName": "莎娜shana",
      "photoUrl": "",
      "userId": "06539486535699047543"
     },
     "user_tz": 360
    },
    "id": "lPQZLDyH4ov4",
    "outputId": "76403534-73b7-4ec9-ab3e-5430282a224d"
   },
   "outputs": [
    {
     "data": {
      "text/plain": [
       "(19984, 9898)"
      ]
     },
     "execution_count": 72,
     "metadata": {
      "tags": []
     },
     "output_type": "execute_result"
    }
   ],
   "source": [
    "len(data_lm.vocab.itos), len(data_lm.train_ds)"
   ]
  },
  {
   "cell_type": "code",
   "execution_count": 0,
   "metadata": {
    "colab": {},
    "colab_type": "code",
    "id": "LWyC3M05DCwN"
   },
   "outputs": [],
   "source": [
    "new_path = path/'output'"
   ]
  },
  {
   "cell_type": "code",
   "execution_count": 0,
   "metadata": {
    "colab": {},
    "colab_type": "code",
    "id": "S_49rO_k4u_e"
   },
   "outputs": [],
   "source": [
    "data_lm.save(new_path/'lm_data')"
   ]
  },
  {
   "cell_type": "code",
   "execution_count": 0,
   "metadata": {
    "colab": {},
    "colab_type": "code",
    "id": "cp4XheQi4yiw"
   },
   "outputs": [],
   "source": [
    "data_lm = load_data(new_path,'lm_data')"
   ]
  },
  {
   "cell_type": "code",
   "execution_count": 76,
   "metadata": {
    "colab": {
     "base_uri": "https://localhost:8080/",
     "height": 549
    },
    "colab_type": "code",
    "executionInfo": {
     "elapsed": 24278,
     "status": "ok",
     "timestamp": 1576188246203,
     "user": {
      "displayName": "莎娜shana",
      "photoUrl": "",
      "userId": "06539486535699047543"
     },
     "user_tz": 360
    },
    "id": "sCrKMMhnFZHb",
    "outputId": "4f7afb74-2347-460a-de2d-08ff0141889f"
   },
   "outputs": [
    {
     "data": {
      "text/html": [
       "<table border=\"1\" class=\"dataframe\">\n",
       "  <thead>\n",
       "    <tr style=\"text-align: right;\">\n",
       "      <th>idx</th>\n",
       "      <th>text</th>\n",
       "    </tr>\n",
       "  </thead>\n",
       "  <tbody>\n",
       "    <tr>\n",
       "      <td>0</td>\n",
       "      <td>orders being placed . xxmaj typically purchase orders outstanding with delivery dates within 30 days are non - cancelable . xxmaj therefore , only approximately 55 percent of our reported purchase commitments arising from these agreements are firm , non - cancelable , and unconditional commitments . xxmaj we expect to fulfill most of our purchase commitments for inventory within one year . xxmaj in addition to the above mentioned</td>\n",
       "    </tr>\n",
       "    <tr>\n",
       "      <td>1</td>\n",
       "      <td>. xxmaj for purposes of estimating the fair value of each stock option unit on the date of grant , we utilized the xxmaj black - xxmaj scholes option - pricing model . xxmaj the xxmaj black - xxmaj scholes option valuation model was developed for use in estimating the fair value of traded options , which have no vesting restrictions and are fully transferable . xxmaj in addition ,</td>\n",
       "    </tr>\n",
       "    <tr>\n",
       "      <td>2</td>\n",
       "      <td>( 469 ) ( 411 ) xxmaj basic loss per share ( 0.04 ) ( 0.12 ) ( 0.11 ) ( 0.07 ) ( 0.01 ) ( 0.03 ) ( 0.06 ) ( 0.05 ) xxmaj diluted loss per share ( 0.04 ) ( 0.12 ) ( 0.11 ) ( 0.07 ) ( 0.01 ) ( 0.03 ) ( 0.06 ) ( 0.05 ) xxmaj earnings per share is computed</td>\n",
       "    </tr>\n",
       "    <tr>\n",
       "      <td>3</td>\n",
       "      <td>, which primarily services most of the programming networks included in the xxmaj national xxmaj networks segment . xxmaj international and xxmaj other : xxmaj principally includes xxup amc xxmaj networks xxmaj international , the xxmaj company s international programming businesses consisting of a portfolio of channels in xxmaj europe , xxmaj latin xxmaj america , the xxmaj middle xxmaj east and parts of xxmaj asia and xxmaj africa ;</td>\n",
       "    </tr>\n",
       "    <tr>\n",
       "      <td>4</td>\n",
       "      <td>with finite lives upon significant changes in the xxmaj company s business environment . xxmaj the testing resulted in approximately $ 33,000 , $ 45,000 , and $ 275,000 of patent impairment charges during the years ended xxmaj december 31 , 2013 , 2012 , and 2011 respectively . xxmaj long - xxmaj lived xxmaj assets : xxmaj the xxmaj company records property and equipment at cost . xxmaj depreciation</td>\n",
       "    </tr>\n",
       "  </tbody>\n",
       "</table>"
      ],
      "text/plain": [
       "<IPython.core.display.HTML object>"
      ]
     },
     "metadata": {
      "tags": []
     },
     "output_type": "display_data"
    }
   ],
   "source": [
    "data_lm.show_batch()"
   ]
  },
  {
   "cell_type": "markdown",
   "metadata": {
    "colab_type": "text",
    "id": "MYtBgRraG3UM"
   },
   "source": [
    "## 2. Finetune Language Model \n",
    "\n",
    "### Construct Language Model learner using AWD_LSTM model.\n"
   ]
  },
  {
   "cell_type": "code",
   "execution_count": 0,
   "metadata": {
    "colab": {},
    "colab_type": "code",
    "id": "JmduJw3dFZLi"
   },
   "outputs": [],
   "source": [
    "learn_lm = language_model_learner(data_lm, AWD_LSTM, drop_mult=0.3)"
   ]
  },
  {
   "cell_type": "markdown",
   "metadata": {
    "colab_type": "text",
    "id": "pm5z5QOA6eel"
   },
   "source": [
    "### Test the Language Model Learner."
   ]
  },
  {
   "cell_type": "code",
   "execution_count": 0,
   "metadata": {
    "colab": {},
    "colab_type": "code",
    "id": "ut0d63Gl6hBB"
   },
   "outputs": [],
   "source": [
    "vocab = data_lm.vocab"
   ]
  },
  {
   "cell_type": "code",
   "execution_count": 0,
   "metadata": {
    "colab": {},
    "colab_type": "code",
    "id": "4ATzjZhQCLlq"
   },
   "outputs": [],
   "source": [
    "TEXT = \"The company stock drops because\"\n",
    "N_WORDS = 30\n",
    "N_SENTENCES = 2"
   ]
  },
  {
   "cell_type": "code",
   "execution_count": 82,
   "metadata": {
    "colab": {
     "base_uri": "https://localhost:8080/",
     "height": 72
    },
    "colab_type": "code",
    "executionInfo": {
     "elapsed": 11186,
     "status": "ok",
     "timestamp": 1576188247523,
     "user": {
      "displayName": "莎娜shana",
      "photoUrl": "",
      "userId": "06539486535699047543"
     },
     "user_tz": 360
    },
    "id": "6wXuDp0MCK9Z",
    "outputId": "6aee0ba5-e5da-4297-c888-164eb03feb24"
   },
   "outputs": [
    {
     "name": "stdout",
     "output_type": "stream",
     "text": [
      "The company stock drops because of the lack of money to buy out different companies . The company was later converted to a sales software company , but lost its products . During\n",
      "The company stock drops because of the increase in prices and launch rates , and the loss of the company 's equipment . The company then sold the company to American Chemical\n"
     ]
    }
   ],
   "source": [
    "print(\"\\n\".join(learn_lm.predict(TEXT, N_WORDS, temperature=0.75) for _ in range(N_SENTENCES)))"
   ]
  },
  {
   "cell_type": "markdown",
   "metadata": {
    "colab_type": "text",
    "id": "YpnMSxyO6b0A"
   },
   "source": [
    "### Finetune the Language Model Learner to the texts in the 10-K forms in our data."
   ]
  },
  {
   "cell_type": "code",
   "execution_count": 83,
   "metadata": {
    "colab": {
     "base_uri": "https://localhost:8080/",
     "height": 35
    },
    "colab_type": "code",
    "executionInfo": {
     "elapsed": 22297,
     "status": "ok",
     "timestamp": 1576188261092,
     "user": {
      "displayName": "莎娜shana",
      "photoUrl": "",
      "userId": "06539486535699047543"
     },
     "user_tz": 360
    },
    "id": "ieV2a_upGYAO",
    "outputId": "6158bbf7-ba2f-429d-e332-2c6e98ceffca"
   },
   "outputs": [
    {
     "data": {
      "text/html": [],
      "text/plain": [
       "<IPython.core.display.HTML object>"
      ]
     },
     "metadata": {
      "tags": []
     },
     "output_type": "display_data"
    },
    {
     "name": "stdout",
     "output_type": "stream",
     "text": [
      "LR Finder is complete, type {learner_name}.recorder.plot() to see the graph.\n"
     ]
    }
   ],
   "source": [
    "learn_lm.lr_find()"
   ]
  },
  {
   "cell_type": "code",
   "execution_count": 84,
   "metadata": {
    "colab": {
     "base_uri": "https://localhost:8080/",
     "height": 279
    },
    "colab_type": "code",
    "executionInfo": {
     "elapsed": 22147,
     "status": "ok",
     "timestamp": 1576188261475,
     "user": {
      "displayName": "莎娜shana",
      "photoUrl": "",
      "userId": "06539486535699047543"
     },
     "user_tz": 360
    },
    "id": "nfjR_sowGYCz",
    "outputId": "af33d4e2-f8e8-48ac-e63b-da81585142d9"
   },
   "outputs": [
    {
     "data": {
      "image/png": "[encoded data removed]",
      "text/plain": [
       "<Figure size 432x288 with 1 Axes>"
      ]
     },
     "metadata": {
      "tags": []
     },
     "output_type": "display_data"
    }
   ],
   "source": [
    "learn_lm.recorder.plot(skip_end=15)"
   ]
  },
  {
   "cell_type": "code",
   "execution_count": 0,
   "metadata": {
    "colab": {},
    "colab_type": "code",
    "id": "h57AnTxYLDof"
   },
   "outputs": [],
   "source": [
    "lr = 1e-3   # set learning rate according to the plot"
   ]
  },
  {
   "cell_type": "code",
   "execution_count": 0,
   "metadata": {
    "colab": {},
    "colab_type": "code",
    "id": "2YKGLNvTKx99"
   },
   "outputs": [],
   "source": [
    "learn_lm.to_fp16();"
   ]
  },
  {
   "cell_type": "code",
   "execution_count": 101,
   "metadata": {
    "colab": {
     "base_uri": "https://localhost:8080/",
     "height": 79
    },
    "colab_type": "code",
    "executionInfo": {
     "elapsed": 197634,
     "status": "ok",
     "timestamp": 1576189177839,
     "user": {
      "displayName": "莎娜shana",
      "photoUrl": "",
      "userId": "06539486535699047543"
     },
     "user_tz": 360
    },
    "id": "theoxr8gK0o7",
    "outputId": "ba88a012-15dd-4b10-a43f-67848e64e6d0"
   },
   "outputs": [
    {
     "data": {
      "text/html": [
       "<table border=\"1\" class=\"dataframe\">\n",
       "  <thead>\n",
       "    <tr style=\"text-align: left;\">\n",
       "      <th>epoch</th>\n",
       "      <th>train_loss</th>\n",
       "      <th>valid_loss</th>\n",
       "      <th>accuracy</th>\n",
       "      <th>time</th>\n",
       "    </tr>\n",
       "  </thead>\n",
       "  <tbody>\n",
       "    <tr>\n",
       "      <td>0</td>\n",
       "      <td>1.891466</td>\n",
       "      <td>2.302822</td>\n",
       "      <td>0.571429</td>\n",
       "      <td>03:17</td>\n",
       "    </tr>\n",
       "  </tbody>\n",
       "</table>"
      ],
      "text/plain": [
       "<IPython.core.display.HTML object>"
      ]
     },
     "metadata": {
      "tags": []
     },
     "output_type": "display_data"
    }
   ],
   "source": [
    "learn_lm.fit_one_cycle(1, lr, moms=(0.8,0.7))"
   ]
  },
  {
   "cell_type": "code",
   "execution_count": 0,
   "metadata": {
    "colab": {},
    "colab_type": "code",
    "id": "XOWj94pZLCNS"
   },
   "outputs": [],
   "source": [
    "learn_lm.save(new_path/'fit_1')"
   ]
  },
  {
   "cell_type": "code",
   "execution_count": 0,
   "metadata": {
    "colab": {},
    "colab_type": "code",
    "id": "BAEiR3LZLCTh"
   },
   "outputs": [],
   "source": [
    "learn_lm.load(new_path/'fit_1');"
   ]
  },
  {
   "cell_type": "code",
   "execution_count": 0,
   "metadata": {
    "colab": {},
    "colab_type": "code",
    "id": "EiRg5QS4GYHG"
   },
   "outputs": [],
   "source": [
    "learn_lm.unfreeze()"
   ]
  },
  {
   "cell_type": "code",
   "execution_count": 105,
   "metadata": {
    "colab": {
     "base_uri": "https://localhost:8080/",
     "height": 202
    },
    "colab_type": "code",
    "executionInfo": {
     "elapsed": 986640,
     "status": "ok",
     "timestamp": 1576190254730,
     "user": {
      "displayName": "莎娜shana",
      "photoUrl": "",
      "userId": "06539486535699047543"
     },
     "user_tz": 360
    },
    "id": "2R50IpxJGYJn",
    "outputId": "14e734a2-3f14-4151-8c19-fae65f1fe61d"
   },
   "outputs": [
    {
     "data": {
      "text/html": [
       "<table border=\"1\" class=\"dataframe\">\n",
       "  <thead>\n",
       "    <tr style=\"text-align: left;\">\n",
       "      <th>epoch</th>\n",
       "      <th>train_loss</th>\n",
       "      <th>valid_loss</th>\n",
       "      <th>accuracy</th>\n",
       "      <th>time</th>\n",
       "    </tr>\n",
       "  </thead>\n",
       "  <tbody>\n",
       "    <tr>\n",
       "      <td>0</td>\n",
       "      <td>1.840808</td>\n",
       "      <td>2.275537</td>\n",
       "      <td>0.585714</td>\n",
       "      <td>03:16</td>\n",
       "    </tr>\n",
       "    <tr>\n",
       "      <td>1</td>\n",
       "      <td>1.656230</td>\n",
       "      <td>2.200438</td>\n",
       "      <td>0.571429</td>\n",
       "      <td>03:16</td>\n",
       "    </tr>\n",
       "    <tr>\n",
       "      <td>2</td>\n",
       "      <td>1.563748</td>\n",
       "      <td>2.167121</td>\n",
       "      <td>0.600000</td>\n",
       "      <td>03:18</td>\n",
       "    </tr>\n",
       "    <tr>\n",
       "      <td>3</td>\n",
       "      <td>1.413669</td>\n",
       "      <td>2.121336</td>\n",
       "      <td>0.585714</td>\n",
       "      <td>03:17</td>\n",
       "    </tr>\n",
       "    <tr>\n",
       "      <td>4</td>\n",
       "      <td>1.333790</td>\n",
       "      <td>2.131405</td>\n",
       "      <td>0.585714</td>\n",
       "      <td>03:18</td>\n",
       "    </tr>\n",
       "  </tbody>\n",
       "</table>"
      ],
      "text/plain": [
       "<IPython.core.display.HTML object>"
      ]
     },
     "metadata": {
      "tags": []
     },
     "output_type": "display_data"
    }
   ],
   "source": [
    "learn_lm.fit_one_cycle(5, lr, moms=(0.8,0.7))"
   ]
  },
  {
   "cell_type": "markdown",
   "metadata": {},
   "source": [
    "The 1st, 4th, and 5th epochs all have the same highest accuracy, which is 0.585714."
   ]
  },
  {
   "cell_type": "markdown",
   "metadata": {
    "colab_type": "text",
    "id": "Q2FNeYn1GWQ2"
   },
   "source": [
    "### Test the finetuned Language Model Learner again."
   ]
  },
  {
   "cell_type": "code",
   "execution_count": 0,
   "metadata": {
    "colab": {},
    "colab_type": "code",
    "id": "0pw5TrLsGevw"
   },
   "outputs": [],
   "source": [
    "TEXT = \"The company stock drops because\"\n",
    "N_WORDS = 30\n",
    "N_SENTENCES = 2"
   ]
  },
  {
   "cell_type": "code",
   "execution_count": 107,
   "metadata": {
    "colab": {
     "base_uri": "https://localhost:8080/",
     "height": 72
    },
    "colab_type": "code",
    "executionInfo": {
     "elapsed": 350,
     "status": "ok",
     "timestamp": 1576190572138,
     "user": {
      "displayName": "莎娜shana",
      "photoUrl": "",
      "userId": "06539486535699047543"
     },
     "user_tz": 360
    },
    "id": "Pc5sri68HtCU",
    "outputId": "83ed41e0-7a89-4117-9d37-a1c660ef8eef"
   },
   "outputs": [
    {
     "name": "stdout",
     "output_type": "stream",
     "text": [
      "The company stock drops because the Company has established a policy that allows the Company to issue shares of common stock which enables the Company to realize the expected stock price volatility\n",
      "The company stock drops because the Company s policy has been consistently applied . This model requires the Company to use estimates of future cash flows , including stock price volatility ,\n"
     ]
    }
   ],
   "source": [
    "print(\"\\n\".join(learn_lm.predict(TEXT, N_WORDS, temperature=0.75) for _ in range(N_SENTENCES)))"
   ]
  },
  {
   "cell_type": "markdown",
   "metadata": {
    "colab_type": "text",
    "id": "hcdTgWfq9him"
   },
   "source": [
    "Save the finetuned model, which will be used as encoder."
   ]
  },
  {
   "cell_type": "code",
   "execution_count": 0,
   "metadata": {
    "colab": {},
    "colab_type": "code",
    "id": "b3HZWzGVHbws"
   },
   "outputs": [],
   "source": [
    "learn_lm.save(new_path/'fine_tuned')\n",
    "learn_lm.save_encoder(new_path/'fine_tuned_enc')"
   ]
  },
  {
   "cell_type": "markdown",
   "metadata": {
    "colab_type": "text",
    "id": "lp1BibWNgDD6"
   },
   "source": [
    "## 3. Stock Performance Classification\n",
    "\n",
    "- We will classify the performance of the company's stock for 1 day, 1 week, and 2 weeks. \n",
    "\n",
    "### Load the finetuned encoder."
   ]
  },
  {
   "cell_type": "code",
   "execution_count": 109,
   "metadata": {
    "colab": {
     "base_uri": "https://localhost:8080/",
     "height": 1000
    },
    "colab_type": "code",
    "executionInfo": {
     "elapsed": 897,
     "status": "ok",
     "timestamp": 1576190606508,
     "user": {
      "displayName": "莎娜shana",
      "photoUrl": "",
      "userId": "06539486535699047543"
     },
     "user_tz": 360
    },
    "id": "M6w_T0FqAPCL",
    "outputId": "5df723e1-865a-4728-bb5b-3011143a3d77"
   },
   "outputs": [
    {
     "data": {
      "text/plain": [
       "LanguageLearner(data=TextLMDataBunch;\n",
       "\n",
       "Train: LabelList (9898 items)\n",
       "x: LMTextList\n",
       "xxbos suppliers and use several contract manufacturers to provide manufacturing services for our products . xxmaj during the normal course of business , we issue purchase orders with estimates of our requirements several months ahead of the delivery dates . xxmaj however , our agreements with these suppliers usually provide us the option to cancel , reschedule , and adjust our requirements based on our business needs prior to firm orders being placed . xxmaj typically purchase orders outstanding with delivery dates within 30 days are non - cancelable . xxmaj therefore , only approximately 55 percent of our reported purchase commitments arising from these agreements are firm , non - cancelable , and unconditional commitments . xxmaj we expect to fulfill most of our purchase commitments for inventory within one year . xxmaj in addition to the above mentioned commitments to contract manufacturers and suppliers , we record a liability for firm , non - cancelable and unconditional purchase commitments for quantities in excess of our future demand forecasts consistent with our policy relating to excess inventory . xxmaj as of xxmaj october 31 , 2013 , the liability for our firm , non - cancelable and unconditional purchase commitments was $ 5 million , compared to $ 5 million as of xxmaj october 31 , 2012 and 2011 . xxmaj these amounts are included in other accrued liabilities in our consolidated balance sheet . xxmaj other purchase commitments . xxmaj we have categorized \" other purchase commitments \" related to contracts with professional services suppliers . xxmaj typically we can cancel these contracts within 90 days without penalties . xxmaj for those contracts that are not cancelable within 90 days without penalties , we are disclosing the amounts we are obligated to pay to a supplier under each contract in that period before such contract can be cancelled . xxmaj our contractual obligations with these suppliers under \" other purchase commitments \" were approximately $ 70 million within the next year . xxmaj retirement xxmaj plans . xxmaj commitments under the retirement plans relate to expected contributions to be made to our xxup u.s. and non - xxup u.s. defined benefit plans and to our post - retirement medical plans for the next year only . xxmaj contributions after next year are xxunk to estimate . xxmaj we had no material off - balance sheet arrangements as of xxmaj october 31 , 2013 or xxmaj october 31 , 2012 . xxmaj on xxmaj balance xxmaj sheet xxmaj arrangements xxmaj the following table summarizes our total contractual obligations recorded in our consolidated balance sheet pertaining to our long - term debt as of xxmaj october 31 , 2013 ( in millions ) : xxmaj less than one year xxmaj one to three years xxmaj three to five years xxmaj more than five years xxmaj senior notes $ $ 1,100 $ $ 1,500 xxmaj other debt 46 xxmaj total $ $ 1,100 $ $ 1,546 xxmaj we have contractual obligations for interest payments on the above debts . xxmaj interest rates and payment dates are detailed in 50 xxmaj table of xxmaj contents \" xxmaj long - term debt \" . xxmaj other long - term liabilities include $ 341 million and $ 320 million of liabilities for uncertain tax positions as of xxmaj october 31 , 2013 and xxmaj october 31 , 2012 , respectively . xxmaj we are unable to accurately predict when these amounts will be realized or released . xxmaj however , it is reasonably possible that there could be significant changes to our unrecognized tax benefits in the next twelve months due to either the expiration of a statute of limitations or a tax audit settlement . 51 xxmaj table of xxmaj contents,xxbos xxmaj we purchase components from a variety of suppliers and use several contract manufacturers to provide manufacturing services for our products . xxmaj during the normal course of business , we issue purchase orders with estimates of our requirements several months ahead of the delivery dates . xxmaj however , our agreements with these suppliers usually provide us the option to cancel , reschedule , and adjust our requirements based on our business needs prior to firm orders being placed . xxmaj typically purchase orders outstanding with delivery dates within 30 days are non - cancelable . xxmaj therefore , only approximately 38 percent of our reported purchase commitments arising from these agreements are firm , non - cancelable , and unconditional commitments . xxmaj we expect to fulfill most of our purchase commitments for inventory within one year . xxmaj in addition to the above mentioned commitments to contract manufacturers and suppliers , we record a liability for firm , non - cancelable and unconditional purchase commitments for quantities in excess of our future demand forecasts consistent with our policy relating to excess inventory . xxmaj as of xxmaj october 31 , 2015 , the liability for our firm , non - cancelable and unconditional purchase commitments was $ 5 million compared to $ 10 million , as of xxmaj october 31 , 2014 and less than $ 1 million as of xxmaj october 31 , 2013 . xxmaj these amounts are included in other accrued liabilities in our consolidated balance sheet . xxmaj other purchase commitments . xxmaj we have categorized \" other purchase commitments \" related to contracts with professional services suppliers . xxmaj typically we can cancel contracts without penalties . xxmaj for those contracts that are not cancelable without penalties , we are disclosing the termination fees and costs or commitments for continued spending that we are obligated to pay to a supplier under each contact 's termination period before such contract can be cancelled . xxmaj our contractual obligations with these suppliers under \" other purchase commitments \" were approximately $ 53 million within the next year . xxmaj retirement xxmaj plans . xxmaj commitments under the retirement plans relate to expected contributions to be made to our xxup u.s. and non - xxup u.s. defined benefit plans and to our post - retirement medical plans for the next year only . xxmaj contributions after next year are xxunk to estimate . 48 xxmaj table of xxmaj contents xxmaj we had no material off - balance sheet arrangements as of xxmaj october 31 , 2015 or xxmaj october 31 , 2014 . xxmaj on xxmaj balance xxmaj sheet xxmaj arrangements xxmaj the following table summarizes our total contractual obligations at xxmaj october 31 , 2015 related to our long - term debt and interest expense ( in millions ) : xxmaj less than one year xxmaj one to three years xxmaj three to five years xxmaj more than five years xxmaj senior notes $ $ 100 $ 500 $ 1,000 xxmaj other debt 38 xxmaj interest expense 68 132 123 96 xxmaj total $ 68 $ 232 $ 623 $ 1,134 xxmaj other long - term liabilities include $ 227 million and $ 286 million of liabilities for uncertain tax positions as of xxmaj october 31 , 2015 and xxmaj october 31 , 2014 , respectively . xxmaj we are unable to accurately predict when these amounts will be realized or released . xxmaj however , it is reasonably possible that there could be significant changes to our unrecognized tax benefits in the next twelve months due to either the expiration of a statute of limitations or a tax audit settlement . 49 xxmaj table of xxmaj contents,xxbos are also sold directly to customers and through distributors , serve the aerospace , automotive , commercial transportation , and industrial products markets . xxmaj on xxmaj march 9 , 2011 , xxmaj alcoa completed an acquisition of the aerospace fastener business of transdigm xxmaj group xxmaj inc. for $ 240 . xxmaj this business is a leading global designer , producer , and supplier of highly engineered aircraft components , with three locations ( one in the state of xxmaj california and two in the xxmaj united xxmaj kingdom ) that employ a combined 400 people ( at time of acquisition ) . xxmaj specifically , this business provides a wide variety of high - strength , high temperature nickel alloy specialty engine fasteners , airframe xxunk , and xxunk entry xxunk . xxmaj in 2010 , this business generated sales of $ 61 . xxmaj the assets and liabilities of this business were included in the xxmaj engineered xxmaj products and xxmaj solutions segment as of xxmaj march 31 , 2011 ; this business results of operations were included in this segment beginning xxmaj march 9 , 2011 . xxmaj in xxmaj july 2010 , xxmaj alcoa completed an acquisition of the commercial building and construction business of a privately - held company , xxmaj xxunk , for $ 77 . xxmaj this business , located in xxmaj xxunk , xxmaj pennsylvania , employing 650 people ( at time of acquisition ) , is a premier manufacturer of xxunk and xxunk for the commercial building and construction market and generated sales of approximately $ 100 in 2009 . xxmaj the assets and liabilities of this business were included in the xxmaj engineered xxmaj products and xxmaj solutions segment as of the end of xxmaj july 2010 and this business results of operations were included in this segment since the beginning of xxmaj august 2010 . 63 xxmaj table of xxmaj contents xxmaj third - party sales for the xxmaj engineered xxmaj products and xxmaj solutions segment increased 3 % in 2012 compared with 2011 , primarily due to higher volumes , slightly offset by unfavorable foreign currency movements due to a weaker euro . xxmaj the higher volumes were mostly related to the aerospace , industrial gas turbine , and commercial transportation end markets , slightly offset by lower volumes from the building and construction end market . xxmaj third - party sales for this segment climbed 17 % in 2011 compared with 2010 , largely attributable to higher volumes across all businesses , especially related to the aerospace and commercial transportation end markets . xxmaj additionally , sales from the acquired fastener business ( $ 58 ) and from the acquired building and construction business ( increase of $ 40 ) and favorable foreign currency movements due to a stronger euro were positive impacts . xxmaj slightly offsetting the positive contributions was the absence of sales related to the xxmaj april 2010 divestiture of the xxmaj transportation xxmaj products xxmaj europe business ( $ 28 ) . xxup atoi for the xxmaj engineered xxmaj products and xxmaj solutions segment climbed $ 73 in 2012 compared with 2011 , mainly due to net productivity improvements in four of the five businesses and the previously mentioned higher volumes . xxup atoi for this segment rose $ 124 in 2011 compared with 2010 , principally the result of the previously mentioned volume impacts and net productivity improvements across most businesses , somewhat offset by unfavorable price / product mix . xxmaj in 2013 , the aerospace end market is expected to remain strong , while the commercial transportation and building and construction end markets are expected to weaken . xxmaj also , continued net productivity improvements are anticipated . xxmaj reconciliation of xxup atoi to xxmaj consolidated xxmaj net xxmaj income xxmaj attributable to xxmaj alcoa,xxbos both auto and xxunk sheet , while industrial volumes are expected to strengthen with the recovering economies in the xxup u.s. and xxmaj europe . xxmaj also , volume and continued pricing pressures are expected to negatively impact the aerospace ( due to high original equipment manufacturer inventories ) and packaging end markets . xxmaj engineered xxmaj products and xxmaj solutions 2013 2012 2011 xxmaj third - party aluminum shipments ( xxunk ) 229 222 221 xxmaj third - party sales $ xxunk $ xxunk $ 5,345 xxup atoi $ 726 $ 612 $ 537 xxmaj this segment represents xxmaj alcoa s downstream operations and includes titanium , aluminum , and super alloy investment castings ; fasteners ; aluminum wheels ; integrated aluminum structural systems ; architectural extrusions ; and xxunk and hard alloy extrusions . xxmaj these products , which are used in the aerospace , automotive , building and construction , commercial transportation , power generation , and industrial products end markets , are sold directly to customers and through distributors . xxmaj on xxmaj march 9 , 2011 , xxmaj alcoa completed an acquisition of the aerospace fastener business of transdigm xxmaj group xxmaj inc. for $ 240 . xxmaj this business is a leading global designer , producer , and supplier of highly engineered aircraft components , with three locations ( one in the state of xxmaj california and two in the xxmaj united xxmaj kingdom ) that employ a combined 400 people ( at time of acquisition ) . xxmaj specifically , this business provides a wide variety of high - strength , high temperature nickel alloy specialty engine fasteners , airframe xxunk , and xxunk entry xxunk . xxmaj in 2010 , this business generated sales of $ 61 . xxmaj the assets and liabilities of this business were included in the xxmaj engineered xxmaj products and xxmaj solutions segment as of xxmaj march 31 , 2011 ; this business results of operations were included in this segment beginning xxmaj march 9 , 2011 . xxmaj third - party sales for the xxmaj engineered xxmaj products and xxmaj solutions segment improved 4 % in 2013 compared with 2012 , largely attributable to higher volumes related to the aerospace end market . xxmaj third - party sales for this segment increased 3 % in 2012 compared with 2011 , primarily due to higher volumes , slightly offset by unfavorable foreign currency movements due to a weaker euro . xxmaj the higher volumes were mostly related to the aerospace , industrial gas turbine , and commercial transportation end markets , slightly offset by lower volumes from the building and construction end market . xxup atoi for the xxmaj engineered xxmaj products and xxmaj solutions segment rose $ 114 in 2013 compared with 2012 , principally the result of net productivity improvements across all businesses and the previously mentioned volume impact , somewhat offset by higher costs , including labor and research and development expenses , and unfavorable price / product mix . xxup atoi for this segment climbed $ 75 in 2012 compared with 2011 , mainly due to net productivity improvements in four of the five businesses and the previously mentioned higher volumes . xxmaj in 2014 , the aerospace end market is expected to remain strong , while the building and construction end market is expected to improve as the gradual recovery in xxmaj north xxmaj america continues and the decline in xxmaj europe slows down . xxmaj also , weaker global demand in the industrial gas turbine end market is anticipated , while stronger xxmaj north xxmaj america build rates in the commercial transportation end market will be offset by declines in xxmaj europe . xxmaj reconciliation of xxup atoi to xxmaj consolidated xxmaj net ( xxmaj loss ) xxmaj income xxmaj attributable to xxmaj alcoa,xxbos in this segment s organic businesses . xxmaj these positive impacts were partially offset by unfavorable price / product mix , higher costs related to growth projects , and net unfavorable foreign currency movements , primarily related to a weaker euro . xxup atoi for this segment climbed $ 10 in 2014 compared with 2013 , mainly due to net productivity improvements across all businesses and overall higher volumes , partially offset by higher costs , primarily labor , and unfavorable product mix . xxmaj in 2016 , demand in the commercial aerospace end market is expected to remain strong , driven by significant order backlog . xxmaj also , third - party sales will include a positive impact due to a full year of sales related to the acquisitions of xxup rti and xxup xxunk . xxmaj additionally , net productivity improvements are anticipated while pricing pressure across all markets is expected . xxmaj transportation and xxmaj construction xxmaj solutions 2015 2014 2013 xxmaj third - party sales $ 1,882 $ 2,021 $ xxunk xxup atoi $ 166 $ 180 $ 167 xxmaj this segment represents a portion of xxmaj alcoa s downstream operations and produces products that are used mostly in the nonresidential building and construction and commercial transportation end markets . xxmaj such products include integrated aluminum structural systems , architectural extrusions , and xxunk aluminum commercial vehicle wheels , which are sold directly to customers and through distributors . a small part of this segment also produces aluminum products for the industrial products end market . xxmaj generally , the sales and costs and expenses of this segment are transacted in the local currency of the respective operations , which are mostly the xxup u.s. dollar , the euro , and the xxmaj brazilian real . xxmaj third - party sales for the xxmaj transportation and xxmaj construction xxmaj solutions segment decreased 7 % in 2015 compared with 2014 , primarily driven by unfavorable foreign currency movements , principally caused by a weaker euro and xxmaj brazilian real , and lower volume related to the building and construction end market , somewhat offset by higher volume related to the commercial transportation end market . xxmaj third - party sales for this segment increased 4 % in 2014 compared with 2013 , mostly the result of higher volume related to the commercial transportation and building and construction end markets , somewhat offset by lower volume in the industrial products and market . xxup atoi for the xxmaj transportation and xxmaj construction xxmaj solutions segment declined $ 14 in 2015 compared with 2014 , mainly due to higher costs , net unfavorable foreign currency movements , primarily related to a weaker euro and xxmaj brazilian real , and unfavorable price / product mix . xxmaj these negative impacts were mostly offset by net productivity improvements across all businesses . xxup atoi for this segment improved $ 13 in 2014 compared with 2013 , principally attributable to net productivity improvements across all businesses and overall higher volumes , partially offset by unfavorable product mix and higher costs , primarily labor . xxmaj in 2016 , the non - residential building and construction end market is expected to improve through growth in xxmaj north xxmaj america but will be slightly offset by overall weakness in xxmaj europe . xxmaj also , xxmaj north xxmaj america build rates in the commercial 71 xxmaj table of xxmaj contents transportation end market are expected to decline while improvements in xxmaj europe are anticipated . xxmaj additionally , net productivity improvements are anticipated . xxmaj reconciliation of xxup atoi to xxmaj consolidated xxmaj net ( xxmaj loss ) xxmaj income xxmaj attributable to xxmaj alcoa\n",
       "y: LMLabelList\n",
       ",,,,\n",
       "Path: /content/drive/My Drive/Colab Notebooks/Final Project;\n",
       "\n",
       "Valid: LabelList (2474 items)\n",
       "x: LMTextList\n",
       "xxbos used to continue development of our gevokizumab and xxunk product candidate and for other working capital and general corporate purposes . 57 xxmaj table of xxmaj contents * * * xxmaj we have incurred operating losses since inception and have an accumulated deficit of $ 1.1 billion at xxmaj december 31 , 2014 . xxmaj management expects operating losses and negative cash flows to continue for the foreseeable future . xxmaj as of xxmaj december 31 , 2014 , we had $ xxunk million in cash and cash equivalents , which is available to fund future operations . xxmaj taking into account the repayment of our outstanding debt classified within current liabilities on our xxmaj consolidated xxmaj balance xxmaj sheet as of xxmaj december 31 , 2014 , we anticipate that we will be required to seek additional equity or debt financing or to increase the level of collaborative revenue to fund operations through at least xxmaj december 31 , 2015 . xxmaj if we are unable to achieve the level of revenues from licensing , development and collaboration agreements and the level of government funding and external financing during 2015 , as contemplated in our operating plan , we have plans to implement certain cost cutting actions commencing early in the fourth quarter of 2015 to reduce our working capital requirements . xxmaj consistent with the actions we have taken in the past , we will xxunk necessary and appropriate steps to enable the continued operations of the business and preservation of the value of our assets beyond the next twelve months , including but not limited to actions , such as reduced personnel - related costs , additional curtailment of our development activities and other discretionary expenditures that are within our control . xxmaj these reductions in expenditures , if required , may have an adverse impact on our ability to achieve certain of our planned objectives during 2015 . xxmaj in addition to seeking equity or debt financing , we may seek to access additional capital to support future operations through licensing , partnering or other strategic collaborative arrangements . xxmaj it is unclear if or when any such transactions will occur , on satisfactory terms or at all . xxmaj our ability to raise additional capital in the equity and debt markets , should we choose to do so , is dependent on a number of factors , including , but not limited to , the market demand for our common stock , which itself is subject to a number of pharmaceutical development and business risks and uncertainties , as well as the uncertainty that we would be able to raise such additional capital at a price or on terms that are favorable to us . xxmaj commitments and xxmaj contingencies xxmaj schedule of xxmaj contractual xxmaj obligations xxmaj payments by period due under contractual obligations at xxmaj december 31 , 2014 , are as follows ( in thousands ) : xxmaj contractual xxmaj obligations xxmaj total xxmaj less than 1 year 1 to 3 years 3 to 5 years xxmaj more than 5 years xxmaj operating leases ( 1 ) $ xxunk $ 3,428 $ xxunk $ xxunk $ xxunk xxmaj debt xxmaj obligations ( 2 ) xxmaj principal xxunk xxunk xxunk - - xxmaj interest 1,926 1,711 215 - - xxmaj total $ xxunk $ xxunk $ xxunk $ xxunk $ xxunk ( 1 ) xxmaj see xxmaj note 11 : xxmaj commitment and xxmaj contingencies to the accompanying consolidated financial statements for further discussion . ( 2 ) xxmaj see,xxbos xxmaj an impairment loss would be recognized for amortizable intangible assets and property , plant and equipment when estimated undiscounted future cash flows expected to result from use of the asset are less than its carrying amount . xxmaj management determines fair value by estimating future cash flows as a result of forecasting sales and costs . xxmaj impairment , if any , is measured as the amount by which the carrying amount of a long - lived asset exceeds its fair value . xxmaj no factors indicating the carrying value of our tangible long - lived assets may not be recoverable were present in fiscal 2015 , and accordingly , no impairment 49 xxmaj table of xxmaj contents testing was performed on these assets . xxmaj no factors indicating the carrying value of our long - lived assets may not be recoverable were present in fiscal 2014 , and accordingly , no impairment testing was performed on these assets . xxmaj however , due to changes in our operations and related plans for future xxup sap xxunk , we determined that certain software costs previously incurred had no future value and accordingly , a charge of $ 5.9 million was recorded in the fourth quarter of fiscal 2014 . xxmaj should market conditions or the assumptions used by us in determining the fair value of assets change , or management change plans regarding the future usage of certain assets , additional charges to operations may be required in the period in which such conditions occur . xxmaj accruals for xxmaj self - xxmaj insurance xxmaj we maintain insurance for certain risks , including workers compensation , general liability and vehicle liability , and are self - insured for employee related health care benefits . xxmaj our workers compensation , general liability and vehicle liability insurance policies include deductibles of $ 250,000 to $ 350,000 per occurrence , with a separate deductible of $ 50,000 for physical damage . xxmaj we maintain excess loss insurance that covers any health care claims in excess of $ 700,000 per person per year . xxmaj we maintain a self - insurance reserve for losses , determined with assistance from a third party actuary , based on claims filed and actuarial estimates of the ultimate loss amount inherent in the claims , including losses for claims incurred but not reported . xxmaj any actuarial projection of losses concerning workers compensation and general liability is subject to a high degree of variability . xxmaj among the causes of this variability are unpredictable external factors affecting future inflation rates , discount rates , litigation trends , legal interpretations , benefit level changes and claim settlement patterns . xxmaj we do not believe there is a reasonable likelihood that there will be a material change in the estimates or assumptions we use to calculate our self - insurance liabilities . xxmaj however , any differences in estimates and assumptions could result in accrual requirements materially different from the calculated accruals . xxmaj acquisitions xxmaj in connection with businesses we acquire , management must determine the fair values of assets acquired and liabilities assumed . xxmaj considerable judgment and estimates are required to determine such amounts , particularly as they relate to identifiable intangible assets , and the applicable useful lives related thereto . xxmaj under different assumptions , the resulting valuations could be materially different , which could materially impact the operating results we report . xxmaj our contractual commitments are presented under the caption xxmaj liquidity and xxmaj capital xxmaj resources .,xxbos impaired , we will record an impairment loss for the difference between the net book value of the properties and the fair value of the properties . xxmaj the fair value of the properties typically is estimated using discounted cash flows . 43 xxmaj we may also recognize impairments of capitalized costs for unproved properties . xxmaj the greatest portion of these costs generally relate to the acquisition of leasehold . xxmaj the costs are capitalized and periodically evaluated as to recoverability , based on changes brought about by exploration activities , changes in economic factors and potential shifts in business strategy employed by management . xxmaj we consider a combination of geologic and economic factors to evaluate the need for impairment of these costs . xxmaj certain impairments were recognized during 2015 as discussed under xxmaj asset xxmaj impairment in our xxmaj results of xxmaj operations . a further decline in our price assumptions by 10 percent ( assuming all other assumptions are held constant ) would result in approximately $ 240 million of impairment expense on properties , primarily in the xxmaj central xxmaj basin xxmaj platform , not impaired at xxmaj december 31 , 2015 . xxmaj no additional expense would be recognized on properties previously impaired . xxmaj other assumptions such as operating costs , transportation costs , well and reservoir performance , severance and ad valorem taxes , operating and development plans may also change given an assumed 10 percent commodity price decline . xxmaj however , we are unable to estimate their correlation to the price change and these other assumptions may worsen or partially mitigate some of the estimated impairment . xxmaj derivatives : xxmaj xxunk periodically enters into derivative commodity instruments to manage its exposure to oil , natural gas liquids and natural gas price volatility . xxmaj we enter into derivative transactions that are accounted for as mark - to - market transactions with gains and losses reported in current period gain ( loss ) on derivative instruments , net . xxmaj xxunk does not enter into derivatives or other financial instruments for trading purposes . xxmaj the use of derivative contracts to mitigate price risk may cause the xxmaj company s financial position , results of operations and cash flow to be materially different from results that would have been obtained had such risk mitigation activities not occurred . xxmaj asset xxmaj retirement xxmaj obligation : xxmaj xxunk records the fair value of a liability for an asset retirement obligation in the period in which it is incurred . xxmaj subsequent to initial measurement , liabilities are required to be accreted to their present value each period and capitalized costs are depreciated over the estimated useful life of the related assets . xxmaj upon settlement of the liability , xxmaj xxunk will settle the obligation for its recorded amount and recognize the resulting gain or loss . xxmaj xxunk has an obligation to remove tangible equipment and restore land at the end of oil and natural gas production operations . xxmaj the estimate of future restoration and removal costs includes numerous assumptions and uncertainties , including but not limited to , inflation factors , discount rates , timing of settlement , and changes in contractual , regulatory , political , environmental , safety and public relations considerations . xxup recent xxup pronouncements xxup of xxup the xxup financial xxup accounting xxup standards xxup board xxmaj see xxmaj note 19 , xxmaj recently xxmaj issued xxmaj accounting xxmaj standards , in the xxmaj notes to xxmaj financial xxmaj statements for information regarding recently issued accounting standards . 44,xxbos collectability of accounts receivable based on our analysis of historical bad debt experience in conjunction with our assessment of the financial condition of individual companies with which we do business . xxmaj in times of domestic or global economic turmoil , our estimates and judgments with respect to the collectability of our receivables are subject to greater uncertainty than in more stable periods . xxmaj if our estimate of uncollectible accounts is too low , costs and expenses may increase in future periods , and if it is too high , costs and expenses may decrease in future periods . xxmaj contingencies and xxmaj litigation xxmaj we are currently involved in certain legal proceedings and , as required , have accrued estimates of the probable and estimable losses for the resolution of these claims . xxmaj these estimates have been developed in consultation with outside counsel and are based upon an analysis of potential results , assuming a combination of litigation and settlement strategies . xxmaj it is possible , however , that future results of operations for any particular quarterly or annual period could be materially affected by changes in our assumptions or the effectiveness of our strategies related to these proceedings . xxmaj see xxmaj note 14 to the xxmaj consolidated xxmaj financial xxmaj statements for more detailed information on litigation exposure . xxmaj income xxmaj tax xxmaj audits xxmaj as a matter of course , the xxmaj company is regularly audited by federal , state and foreign tax authorities . xxmaj from time to time , these audits result in proposed assessments . xxmaj our determinations regarding the recognition of income tax benefits are made in consultation with outside tax and legal counsel , where appropriate , and are based upon the technical merits of our tax positions in consideration of applicable tax statutes and related interpretations and precedents and upon the expected outcome of proceedings ( or negotiations ) with taxing and legal authorities . xxmaj the tax benefits ultimately realized by the xxmaj company may differ from those recognized in our future financial statements based on a number of factors , including the xxmaj company s decision to settle rather than litigate a matter , relevant legal precedent related to similar matters and the xxmaj company s success in supporting its filing positions with taxing authorities . 46 xxup table xxup of xxup contents xxup forward - xxup looking xxup statements xxmaj the xxmaj private xxmaj securities xxmaj litigation xxmaj reform xxmaj act of 1995 provides a safe harbor for forward - looking statements made by or on behalf of the xxmaj company . xxmaj we may from time to time make written or oral statements that are forward - looking , including statements contained in this report and other filings with the xxup sec and in reports to our shareholders . xxmaj such statements may , for example , express expectations or projections about future actions that we may take , including restructuring or strategic initiatives , or about developments beyond our control including changes in domestic or global economic conditions . xxmaj these statements are made on the basis of management s views and assumptions as of the time the statements are made and we undertake no obligation to update these statements . xxmaj there can be no assurance , however , that our expectations will necessarily come to pass . xxmaj significant factors affecting these expectations are set forth under xxmaj item xxup 1a xxmaj risk xxmaj factors of this xxmaj report on xxmaj form xxup 10-k.,xxbos common equity . 30 xxmaj at xxmaj december 31 , 2012 , we had approximately $ xxunk in cash and cash equivalents compared to $ xxunk at xxmaj december 31 , 2011 . xxmaj our working capital ( current assets minus current liabilities ) was $ xxunk at xxmaj december 31 , 2012 and $ xxunk at xxmaj december 31 , 2011 . xxmaj during the year ended xxmaj december 31 , 2012 , we did not record any expenses in relation to rights offerings as compared to $ xxunk recorded during the year ended xxmaj december 31 , 2011 in respect of the rights offering completed in xxmaj july 2011 . xxmaj net cash provided by financing activities was $ xxunk . xxmaj net cash used for investment in our unproved oil and gas properties was $ xxunk for the year ended xxmaj december 31 , 2012 and $ xxunk for the year ended xxmaj december 31 , 2011 ; these amounts were primarily drilling related expenditures . xxmaj we expect to incur additional significant expenditures to further our exploration programs . xxmaj we estimate that , when we are not actively drilling a well , our monthly non operational expenditure is approximately $ xxunk per month . xxmaj however , when we are engaged in active drilling operations , we estimate that there is an additional cost of approximately $ 2,500,000 per month . xxmaj the above estimates are subject to change . xxmaj management believes that our existing cash balance will be sufficient to satisfy our current obligations and maintain our operations through xxmaj january 31 , 2014 . xxmaj however , there are factors that can adversely impact our ability to fund our operating needs through such date , including ( without limitation ) , unexpected or unforeseen cost overruns in planned non - drilling exploratory work ( i.e. , seismic acquisitions ) in existing and newly sought license areas and the costs associated with extended delays in undertaking the required exploratory work , which is typical of what we have experienced in the past , or plugging and abandoning activities . xxmaj we are considering various alternatives with respect to raising additional capital but to date have no commitments for such financing . xxmaj we expect that when we seek to raise additional capital it will be through the sale of equity securities , debt or other financing arrangements . xxmaj because of the absence of any oil and natural gas reserves , there can be no assurance this capital will be available and if it is not , we may be forced to substantially curtail or cease exploration , appraisal and development expenditures . xxmaj tabular xxmaj disclosure of xxmaj contractual xxmaj obligations xxmaj the following summarizes our contractual financial obligations for continuing operations at xxmaj december 31 , 2012 and the effect such obligations is expected to have on our liquidity and cash flow in future periods . xxmaj payment due by period ( in xxmaj thousands of xxup usd ) 2013 2014 2015 2016 xxmaj thereafter xxmaj total xxmaj exploration xxmaj related xxmaj commitments 1,511 - - - - 1,511 xxmaj operating xxmaj leases 190 128 81 - - 399 xxmaj employment xxmaj agreements 472 - - - - 472 xxup total xxunk 128 81 - - 2,382 xxmaj off - xxmaj balance xxmaj sheet xxmaj arrangements xxmaj we do not currently use any off - balance sheet arrangements to enhance our liquidity or capital resource position , or for any other purpose . xxmaj recently xxmaj issued xxmaj accounting xxmaj pronouncements xxmaj during 2012 , there were no recently issued accounting pronouncements which were issued and which have xxunk to our business . 31\n",
       "y: LMLabelList\n",
       ",,,,\n",
       "Path: /content/drive/My Drive/Colab Notebooks/Final Project;\n",
       "\n",
       "Test: None, model=SequentialRNN(\n",
       "  (0): AWD_LSTM(\n",
       "    (encoder): Embedding(19984, 400, padding_idx=1)\n",
       "    (encoder_dp): EmbeddingDropout(\n",
       "      (emb): Embedding(19984, 400, padding_idx=1)\n",
       "    )\n",
       "    (rnns): ModuleList(\n",
       "      (0): WeightDropout(\n",
       "        (module): LSTM(400, 1152, batch_first=True)\n",
       "      )\n",
       "      (1): WeightDropout(\n",
       "        (module): LSTM(1152, 1152, batch_first=True)\n",
       "      )\n",
       "      (2): WeightDropout(\n",
       "        (module): LSTM(1152, 400, batch_first=True)\n",
       "      )\n",
       "    )\n",
       "    (input_dp): RNNDropout()\n",
       "    (hidden_dps): ModuleList(\n",
       "      (0): RNNDropout()\n",
       "      (1): RNNDropout()\n",
       "      (2): RNNDropout()\n",
       "    )\n",
       "  )\n",
       "  (1): LinearDecoder(\n",
       "    (decoder): Linear(in_features=400, out_features=19984, bias=True)\n",
       "    (output_dp): RNNDropout()\n",
       "  )\n",
       "), opt_func=functools.partial(<class 'torch.optim.adam.Adam'>, betas=(0.9, 0.99)), loss_func=FlattenedLoss of CrossEntropyLoss(), metrics=[<function accuracy at 0x7f66237b8378>], true_wd=True, bn_wd=True, wd=0.01, train_bn=True, path=PosixPath('/content/drive/My Drive/Colab Notebooks/Final Project/output'), model_dir='models', callback_fns=[functools.partial(<class 'fastai.basic_train.Recorder'>, add_time=True, silent=False)], callbacks=[RNNTrainer\n",
       "learn: LanguageLearner(data=TextLMDataBunch;\n",
       "\n",
       "Train: LabelList (9898 items)\n",
       "x: LMTextList\n",
       "xxbos suppliers and use several contract manufacturers to provide manufacturing services for our products . xxmaj during the normal course of business , we issue purchase orders with estimates of our requirements several months ahead of the delivery dates . xxmaj however , our agreements with these suppliers usually provide us the option to cancel , reschedule , and adjust our requirements based on our business needs prior to firm orders being placed . xxmaj typically purchase orders outstanding with delivery dates within 30 days are non - cancelable . xxmaj therefore , only approximately 55 percent of our reported purchase commitments arising from these agreements are firm , non - cancelable , and unconditional commitments . xxmaj we expect to fulfill most of our purchase commitments for inventory within one year . xxmaj in addition to the above mentioned commitments to contract manufacturers and suppliers , we record a liability for firm , non - cancelable and unconditional purchase commitments for quantities in excess of our future demand forecasts consistent with our policy relating to excess inventory . xxmaj as of xxmaj october 31 , 2013 , the liability for our firm , non - cancelable and unconditional purchase commitments was $ 5 million , compared to $ 5 million as of xxmaj october 31 , 2012 and 2011 . xxmaj these amounts are included in other accrued liabilities in our consolidated balance sheet . xxmaj other purchase commitments . xxmaj we have categorized \" other purchase commitments \" related to contracts with professional services suppliers . xxmaj typically we can cancel these contracts within 90 days without penalties . xxmaj for those contracts that are not cancelable within 90 days without penalties , we are disclosing the amounts we are obligated to pay to a supplier under each contract in that period before such contract can be cancelled . xxmaj our contractual obligations with these suppliers under \" other purchase commitments \" were approximately $ 70 million within the next year . xxmaj retirement xxmaj plans . xxmaj commitments under the retirement plans relate to expected contributions to be made to our xxup u.s. and non - xxup u.s. defined benefit plans and to our post - retirement medical plans for the next year only . xxmaj contributions after next year are xxunk to estimate . xxmaj we had no material off - balance sheet arrangements as of xxmaj october 31 , 2013 or xxmaj october 31 , 2012 . xxmaj on xxmaj balance xxmaj sheet xxmaj arrangements xxmaj the following table summarizes our total contractual obligations recorded in our consolidated balance sheet pertaining to our long - term debt as of xxmaj october 31 , 2013 ( in millions ) : xxmaj less than one year xxmaj one to three years xxmaj three to five years xxmaj more than five years xxmaj senior notes $ $ 1,100 $ $ 1,500 xxmaj other debt 46 xxmaj total $ $ 1,100 $ $ 1,546 xxmaj we have contractual obligations for interest payments on the above debts . xxmaj interest rates and payment dates are detailed in 50 xxmaj table of xxmaj contents \" xxmaj long - term debt \" . xxmaj other long - term liabilities include $ 341 million and $ 320 million of liabilities for uncertain tax positions as of xxmaj october 31 , 2013 and xxmaj october 31 , 2012 , respectively . xxmaj we are unable to accurately predict when these amounts will be realized or released . xxmaj however , it is reasonably possible that there could be significant changes to our unrecognized tax benefits in the next twelve months due to either the expiration of a statute of limitations or a tax audit settlement . 51 xxmaj table of xxmaj contents,xxbos xxmaj we purchase components from a variety of suppliers and use several contract manufacturers to provide manufacturing services for our products . xxmaj during the normal course of business , we issue purchase orders with estimates of our requirements several months ahead of the delivery dates . xxmaj however , our agreements with these suppliers usually provide us the option to cancel , reschedule , and adjust our requirements based on our business needs prior to firm orders being placed . xxmaj typically purchase orders outstanding with delivery dates within 30 days are non - cancelable . xxmaj therefore , only approximately 38 percent of our reported purchase commitments arising from these agreements are firm , non - cancelable , and unconditional commitments . xxmaj we expect to fulfill most of our purchase commitments for inventory within one year . xxmaj in addition to the above mentioned commitments to contract manufacturers and suppliers , we record a liability for firm , non - cancelable and unconditional purchase commitments for quantities in excess of our future demand forecasts consistent with our policy relating to excess inventory . xxmaj as of xxmaj october 31 , 2015 , the liability for our firm , non - cancelable and unconditional purchase commitments was $ 5 million compared to $ 10 million , as of xxmaj october 31 , 2014 and less than $ 1 million as of xxmaj october 31 , 2013 . xxmaj these amounts are included in other accrued liabilities in our consolidated balance sheet . xxmaj other purchase commitments . xxmaj we have categorized \" other purchase commitments \" related to contracts with professional services suppliers . xxmaj typically we can cancel contracts without penalties . xxmaj for those contracts that are not cancelable without penalties , we are disclosing the termination fees and costs or commitments for continued spending that we are obligated to pay to a supplier under each contact 's termination period before such contract can be cancelled . xxmaj our contractual obligations with these suppliers under \" other purchase commitments \" were approximately $ 53 million within the next year . xxmaj retirement xxmaj plans . xxmaj commitments under the retirement plans relate to expected contributions to be made to our xxup u.s. and non - xxup u.s. defined benefit plans and to our post - retirement medical plans for the next year only . xxmaj contributions after next year are xxunk to estimate . 48 xxmaj table of xxmaj contents xxmaj we had no material off - balance sheet arrangements as of xxmaj october 31 , 2015 or xxmaj october 31 , 2014 . xxmaj on xxmaj balance xxmaj sheet xxmaj arrangements xxmaj the following table summarizes our total contractual obligations at xxmaj october 31 , 2015 related to our long - term debt and interest expense ( in millions ) : xxmaj less than one year xxmaj one to three years xxmaj three to five years xxmaj more than five years xxmaj senior notes $ $ 100 $ 500 $ 1,000 xxmaj other debt 38 xxmaj interest expense 68 132 123 96 xxmaj total $ 68 $ 232 $ 623 $ 1,134 xxmaj other long - term liabilities include $ 227 million and $ 286 million of liabilities for uncertain tax positions as of xxmaj october 31 , 2015 and xxmaj october 31 , 2014 , respectively . xxmaj we are unable to accurately predict when these amounts will be realized or released . xxmaj however , it is reasonably possible that there could be significant changes to our unrecognized tax benefits in the next twelve months due to either the expiration of a statute of limitations or a tax audit settlement . 49 xxmaj table of xxmaj contents,xxbos are also sold directly to customers and through distributors , serve the aerospace , automotive , commercial transportation , and industrial products markets . xxmaj on xxmaj march 9 , 2011 , xxmaj alcoa completed an acquisition of the aerospace fastener business of transdigm xxmaj group xxmaj inc. for $ 240 . xxmaj this business is a leading global designer , producer , and supplier of highly engineered aircraft components , with three locations ( one in the state of xxmaj california and two in the xxmaj united xxmaj kingdom ) that employ a combined 400 people ( at time of acquisition ) . xxmaj specifically , this business provides a wide variety of high - strength , high temperature nickel alloy specialty engine fasteners , airframe xxunk , and xxunk entry xxunk . xxmaj in 2010 , this business generated sales of $ 61 . xxmaj the assets and liabilities of this business were included in the xxmaj engineered xxmaj products and xxmaj solutions segment as of xxmaj march 31 , 2011 ; this business results of operations were included in this segment beginning xxmaj march 9 , 2011 . xxmaj in xxmaj july 2010 , xxmaj alcoa completed an acquisition of the commercial building and construction business of a privately - held company , xxmaj xxunk , for $ 77 . xxmaj this business , located in xxmaj xxunk , xxmaj pennsylvania , employing 650 people ( at time of acquisition ) , is a premier manufacturer of xxunk and xxunk for the commercial building and construction market and generated sales of approximately $ 100 in 2009 . xxmaj the assets and liabilities of this business were included in the xxmaj engineered xxmaj products and xxmaj solutions segment as of the end of xxmaj july 2010 and this business results of operations were included in this segment since the beginning of xxmaj august 2010 . 63 xxmaj table of xxmaj contents xxmaj third - party sales for the xxmaj engineered xxmaj products and xxmaj solutions segment increased 3 % in 2012 compared with 2011 , primarily due to higher volumes , slightly offset by unfavorable foreign currency movements due to a weaker euro . xxmaj the higher volumes were mostly related to the aerospace , industrial gas turbine , and commercial transportation end markets , slightly offset by lower volumes from the building and construction end market . xxmaj third - party sales for this segment climbed 17 % in 2011 compared with 2010 , largely attributable to higher volumes across all businesses , especially related to the aerospace and commercial transportation end markets . xxmaj additionally , sales from the acquired fastener business ( $ 58 ) and from the acquired building and construction business ( increase of $ 40 ) and favorable foreign currency movements due to a stronger euro were positive impacts . xxmaj slightly offsetting the positive contributions was the absence of sales related to the xxmaj april 2010 divestiture of the xxmaj transportation xxmaj products xxmaj europe business ( $ 28 ) . xxup atoi for the xxmaj engineered xxmaj products and xxmaj solutions segment climbed $ 73 in 2012 compared with 2011 , mainly due to net productivity improvements in four of the five businesses and the previously mentioned higher volumes . xxup atoi for this segment rose $ 124 in 2011 compared with 2010 , principally the result of the previously mentioned volume impacts and net productivity improvements across most businesses , somewhat offset by unfavorable price / product mix . xxmaj in 2013 , the aerospace end market is expected to remain strong , while the commercial transportation and building and construction end markets are expected to weaken . xxmaj also , continued net productivity improvements are anticipated . xxmaj reconciliation of xxup atoi to xxmaj consolidated xxmaj net xxmaj income xxmaj attributable to xxmaj alcoa,xxbos both auto and xxunk sheet , while industrial volumes are expected to strengthen with the recovering economies in the xxup u.s. and xxmaj europe . xxmaj also , volume and continued pricing pressures are expected to negatively impact the aerospace ( due to high original equipment manufacturer inventories ) and packaging end markets . xxmaj engineered xxmaj products and xxmaj solutions 2013 2012 2011 xxmaj third - party aluminum shipments ( xxunk ) 229 222 221 xxmaj third - party sales $ xxunk $ xxunk $ 5,345 xxup atoi $ 726 $ 612 $ 537 xxmaj this segment represents xxmaj alcoa s downstream operations and includes titanium , aluminum , and super alloy investment castings ; fasteners ; aluminum wheels ; integrated aluminum structural systems ; architectural extrusions ; and xxunk and hard alloy extrusions . xxmaj these products , which are used in the aerospace , automotive , building and construction , commercial transportation , power generation , and industrial products end markets , are sold directly to customers and through distributors . xxmaj on xxmaj march 9 , 2011 , xxmaj alcoa completed an acquisition of the aerospace fastener business of transdigm xxmaj group xxmaj inc. for $ 240 . xxmaj this business is a leading global designer , producer , and supplier of highly engineered aircraft components , with three locations ( one in the state of xxmaj california and two in the xxmaj united xxmaj kingdom ) that employ a combined 400 people ( at time of acquisition ) . xxmaj specifically , this business provides a wide variety of high - strength , high temperature nickel alloy specialty engine fasteners , airframe xxunk , and xxunk entry xxunk . xxmaj in 2010 , this business generated sales of $ 61 . xxmaj the assets and liabilities of this business were included in the xxmaj engineered xxmaj products and xxmaj solutions segment as of xxmaj march 31 , 2011 ; this business results of operations were included in this segment beginning xxmaj march 9 , 2011 . xxmaj third - party sales for the xxmaj engineered xxmaj products and xxmaj solutions segment improved 4 % in 2013 compared with 2012 , largely attributable to higher volumes related to the aerospace end market . xxmaj third - party sales for this segment increased 3 % in 2012 compared with 2011 , primarily due to higher volumes , slightly offset by unfavorable foreign currency movements due to a weaker euro . xxmaj the higher volumes were mostly related to the aerospace , industrial gas turbine , and commercial transportation end markets , slightly offset by lower volumes from the building and construction end market . xxup atoi for the xxmaj engineered xxmaj products and xxmaj solutions segment rose $ 114 in 2013 compared with 2012 , principally the result of net productivity improvements across all businesses and the previously mentioned volume impact , somewhat offset by higher costs , including labor and research and development expenses , and unfavorable price / product mix . xxup atoi for this segment climbed $ 75 in 2012 compared with 2011 , mainly due to net productivity improvements in four of the five businesses and the previously mentioned higher volumes . xxmaj in 2014 , the aerospace end market is expected to remain strong , while the building and construction end market is expected to improve as the gradual recovery in xxmaj north xxmaj america continues and the decline in xxmaj europe slows down . xxmaj also , weaker global demand in the industrial gas turbine end market is anticipated , while stronger xxmaj north xxmaj america build rates in the commercial transportation end market will be offset by declines in xxmaj europe . xxmaj reconciliation of xxup atoi to xxmaj consolidated xxmaj net ( xxmaj loss ) xxmaj income xxmaj attributable to xxmaj alcoa,xxbos in this segment s organic businesses . xxmaj these positive impacts were partially offset by unfavorable price / product mix , higher costs related to growth projects , and net unfavorable foreign currency movements , primarily related to a weaker euro . xxup atoi for this segment climbed $ 10 in 2014 compared with 2013 , mainly due to net productivity improvements across all businesses and overall higher volumes , partially offset by higher costs , primarily labor , and unfavorable product mix . xxmaj in 2016 , demand in the commercial aerospace end market is expected to remain strong , driven by significant order backlog . xxmaj also , third - party sales will include a positive impact due to a full year of sales related to the acquisitions of xxup rti and xxup xxunk . xxmaj additionally , net productivity improvements are anticipated while pricing pressure across all markets is expected . xxmaj transportation and xxmaj construction xxmaj solutions 2015 2014 2013 xxmaj third - party sales $ 1,882 $ 2,021 $ xxunk xxup atoi $ 166 $ 180 $ 167 xxmaj this segment represents a portion of xxmaj alcoa s downstream operations and produces products that are used mostly in the nonresidential building and construction and commercial transportation end markets . xxmaj such products include integrated aluminum structural systems , architectural extrusions , and xxunk aluminum commercial vehicle wheels , which are sold directly to customers and through distributors . a small part of this segment also produces aluminum products for the industrial products end market . xxmaj generally , the sales and costs and expenses of this segment are transacted in the local currency of the respective operations , which are mostly the xxup u.s. dollar , the euro , and the xxmaj brazilian real . xxmaj third - party sales for the xxmaj transportation and xxmaj construction xxmaj solutions segment decreased 7 % in 2015 compared with 2014 , primarily driven by unfavorable foreign currency movements , principally caused by a weaker euro and xxmaj brazilian real , and lower volume related to the building and construction end market , somewhat offset by higher volume related to the commercial transportation end market . xxmaj third - party sales for this segment increased 4 % in 2014 compared with 2013 , mostly the result of higher volume related to the commercial transportation and building and construction end markets , somewhat offset by lower volume in the industrial products and market . xxup atoi for the xxmaj transportation and xxmaj construction xxmaj solutions segment declined $ 14 in 2015 compared with 2014 , mainly due to higher costs , net unfavorable foreign currency movements , primarily related to a weaker euro and xxmaj brazilian real , and unfavorable price / product mix . xxmaj these negative impacts were mostly offset by net productivity improvements across all businesses . xxup atoi for this segment improved $ 13 in 2014 compared with 2013 , principally attributable to net productivity improvements across all businesses and overall higher volumes , partially offset by unfavorable product mix and higher costs , primarily labor . xxmaj in 2016 , the non - residential building and construction end market is expected to improve through growth in xxmaj north xxmaj america but will be slightly offset by overall weakness in xxmaj europe . xxmaj also , xxmaj north xxmaj america build rates in the commercial 71 xxmaj table of xxmaj contents transportation end market are expected to decline while improvements in xxmaj europe are anticipated . xxmaj additionally , net productivity improvements are anticipated . xxmaj reconciliation of xxup atoi to xxmaj consolidated xxmaj net ( xxmaj loss ) xxmaj income xxmaj attributable to xxmaj alcoa\n",
       "y: LMLabelList\n",
       ",,,,\n",
       "Path: /content/drive/My Drive/Colab Notebooks/Final Project;\n",
       "\n",
       "Valid: LabelList (2474 items)\n",
       "x: LMTextList\n",
       "xxbos used to continue development of our gevokizumab and xxunk product candidate and for other working capital and general corporate purposes . 57 xxmaj table of xxmaj contents * * * xxmaj we have incurred operating losses since inception and have an accumulated deficit of $ 1.1 billion at xxmaj december 31 , 2014 . xxmaj management expects operating losses and negative cash flows to continue for the foreseeable future . xxmaj as of xxmaj december 31 , 2014 , we had $ xxunk million in cash and cash equivalents , which is available to fund future operations . xxmaj taking into account the repayment of our outstanding debt classified within current liabilities on our xxmaj consolidated xxmaj balance xxmaj sheet as of xxmaj december 31 , 2014 , we anticipate that we will be required to seek additional equity or debt financing or to increase the level of collaborative revenue to fund operations through at least xxmaj december 31 , 2015 . xxmaj if we are unable to achieve the level of revenues from licensing , development and collaboration agreements and the level of government funding and external financing during 2015 , as contemplated in our operating plan , we have plans to implement certain cost cutting actions commencing early in the fourth quarter of 2015 to reduce our working capital requirements . xxmaj consistent with the actions we have taken in the past , we will xxunk necessary and appropriate steps to enable the continued operations of the business and preservation of the value of our assets beyond the next twelve months , including but not limited to actions , such as reduced personnel - related costs , additional curtailment of our development activities and other discretionary expenditures that are within our control . xxmaj these reductions in expenditures , if required , may have an adverse impact on our ability to achieve certain of our planned objectives during 2015 . xxmaj in addition to seeking equity or debt financing , we may seek to access additional capital to support future operations through licensing , partnering or other strategic collaborative arrangements . xxmaj it is unclear if or when any such transactions will occur , on satisfactory terms or at all . xxmaj our ability to raise additional capital in the equity and debt markets , should we choose to do so , is dependent on a number of factors , including , but not limited to , the market demand for our common stock , which itself is subject to a number of pharmaceutical development and business risks and uncertainties , as well as the uncertainty that we would be able to raise such additional capital at a price or on terms that are favorable to us . xxmaj commitments and xxmaj contingencies xxmaj schedule of xxmaj contractual xxmaj obligations xxmaj payments by period due under contractual obligations at xxmaj december 31 , 2014 , are as follows ( in thousands ) : xxmaj contractual xxmaj obligations xxmaj total xxmaj less than 1 year 1 to 3 years 3 to 5 years xxmaj more than 5 years xxmaj operating leases ( 1 ) $ xxunk $ 3,428 $ xxunk $ xxunk $ xxunk xxmaj debt xxmaj obligations ( 2 ) xxmaj principal xxunk xxunk xxunk - - xxmaj interest 1,926 1,711 215 - - xxmaj total $ xxunk $ xxunk $ xxunk $ xxunk $ xxunk ( 1 ) xxmaj see xxmaj note 11 : xxmaj commitment and xxmaj contingencies to the accompanying consolidated financial statements for further discussion . ( 2 ) xxmaj see,xxbos xxmaj an impairment loss would be recognized for amortizable intangible assets and property , plant and equipment when estimated undiscounted future cash flows expected to result from use of the asset are less than its carrying amount . xxmaj management determines fair value by estimating future cash flows as a result of forecasting sales and costs . xxmaj impairment , if any , is measured as the amount by which the carrying amount of a long - lived asset exceeds its fair value . xxmaj no factors indicating the carrying value of our tangible long - lived assets may not be recoverable were present in fiscal 2015 , and accordingly , no impairment 49 xxmaj table of xxmaj contents testing was performed on these assets . xxmaj no factors indicating the carrying value of our long - lived assets may not be recoverable were present in fiscal 2014 , and accordingly , no impairment testing was performed on these assets . xxmaj however , due to changes in our operations and related plans for future xxup sap xxunk , we determined that certain software costs previously incurred had no future value and accordingly , a charge of $ 5.9 million was recorded in the fourth quarter of fiscal 2014 . xxmaj should market conditions or the assumptions used by us in determining the fair value of assets change , or management change plans regarding the future usage of certain assets , additional charges to operations may be required in the period in which such conditions occur . xxmaj accruals for xxmaj self - xxmaj insurance xxmaj we maintain insurance for certain risks , including workers compensation , general liability and vehicle liability , and are self - insured for employee related health care benefits . xxmaj our workers compensation , general liability and vehicle liability insurance policies include deductibles of $ 250,000 to $ 350,000 per occurrence , with a separate deductible of $ 50,000 for physical damage . xxmaj we maintain excess loss insurance that covers any health care claims in excess of $ 700,000 per person per year . xxmaj we maintain a self - insurance reserve for losses , determined with assistance from a third party actuary , based on claims filed and actuarial estimates of the ultimate loss amount inherent in the claims , including losses for claims incurred but not reported . xxmaj any actuarial projection of losses concerning workers compensation and general liability is subject to a high degree of variability . xxmaj among the causes of this variability are unpredictable external factors affecting future inflation rates , discount rates , litigation trends , legal interpretations , benefit level changes and claim settlement patterns . xxmaj we do not believe there is a reasonable likelihood that there will be a material change in the estimates or assumptions we use to calculate our self - insurance liabilities . xxmaj however , any differences in estimates and assumptions could result in accrual requirements materially different from the calculated accruals . xxmaj acquisitions xxmaj in connection with businesses we acquire , management must determine the fair values of assets acquired and liabilities assumed . xxmaj considerable judgment and estimates are required to determine such amounts , particularly as they relate to identifiable intangible assets , and the applicable useful lives related thereto . xxmaj under different assumptions , the resulting valuations could be materially different , which could materially impact the operating results we report . xxmaj our contractual commitments are presented under the caption xxmaj liquidity and xxmaj capital xxmaj resources .,xxbos impaired , we will record an impairment loss for the difference between the net book value of the properties and the fair value of the properties . xxmaj the fair value of the properties typically is estimated using discounted cash flows . 43 xxmaj we may also recognize impairments of capitalized costs for unproved properties . xxmaj the greatest portion of these costs generally relate to the acquisition of leasehold . xxmaj the costs are capitalized and periodically evaluated as to recoverability , based on changes brought about by exploration activities , changes in economic factors and potential shifts in business strategy employed by management . xxmaj we consider a combination of geologic and economic factors to evaluate the need for impairment of these costs . xxmaj certain impairments were recognized during 2015 as discussed under xxmaj asset xxmaj impairment in our xxmaj results of xxmaj operations . a further decline in our price assumptions by 10 percent ( assuming all other assumptions are held constant ) would result in approximately $ 240 million of impairment expense on properties , primarily in the xxmaj central xxmaj basin xxmaj platform , not impaired at xxmaj december 31 , 2015 . xxmaj no additional expense would be recognized on properties previously impaired . xxmaj other assumptions such as operating costs , transportation costs , well and reservoir performance , severance and ad valorem taxes , operating and development plans may also change given an assumed 10 percent commodity price decline . xxmaj however , we are unable to estimate their correlation to the price change and these other assumptions may worsen or partially mitigate some of the estimated impairment . xxmaj derivatives : xxmaj xxunk periodically enters into derivative commodity instruments to manage its exposure to oil , natural gas liquids and natural gas price volatility . xxmaj we enter into derivative transactions that are accounted for as mark - to - market transactions with gains and losses reported in current period gain ( loss ) on derivative instruments , net . xxmaj xxunk does not enter into derivatives or other financial instruments for trading purposes . xxmaj the use of derivative contracts to mitigate price risk may cause the xxmaj company s financial position , results of operations and cash flow to be materially different from results that would have been obtained had such risk mitigation activities not occurred . xxmaj asset xxmaj retirement xxmaj obligation : xxmaj xxunk records the fair value of a liability for an asset retirement obligation in the period in which it is incurred . xxmaj subsequent to initial measurement , liabilities are required to be accreted to their present value each period and capitalized costs are depreciated over the estimated useful life of the related assets . xxmaj upon settlement of the liability , xxmaj xxunk will settle the obligation for its recorded amount and recognize the resulting gain or loss . xxmaj xxunk has an obligation to remove tangible equipment and restore land at the end of oil and natural gas production operations . xxmaj the estimate of future restoration and removal costs includes numerous assumptions and uncertainties , including but not limited to , inflation factors , discount rates , timing of settlement , and changes in contractual , regulatory , political , environmental , safety and public relations considerations . xxup recent xxup pronouncements xxup of xxup the xxup financial xxup accounting xxup standards xxup board xxmaj see xxmaj note 19 , xxmaj recently xxmaj issued xxmaj accounting xxmaj standards , in the xxmaj notes to xxmaj financial xxmaj statements for information regarding recently issued accounting standards . 44,xxbos collectability of accounts receivable based on our analysis of historical bad debt experience in conjunction with our assessment of the financial condition of individual companies with which we do business . xxmaj in times of domestic or global economic turmoil , our estimates and judgments with respect to the collectability of our receivables are subject to greater uncertainty than in more stable periods . xxmaj if our estimate of uncollectible accounts is too low , costs and expenses may increase in future periods , and if it is too high , costs and expenses may decrease in future periods . xxmaj contingencies and xxmaj litigation xxmaj we are currently involved in certain legal proceedings and , as required , have accrued estimates of the probable and estimable losses for the resolution of these claims . xxmaj these estimates have been developed in consultation with outside counsel and are based upon an analysis of potential results , assuming a combination of litigation and settlement strategies . xxmaj it is possible , however , that future results of operations for any particular quarterly or annual period could be materially affected by changes in our assumptions or the effectiveness of our strategies related to these proceedings . xxmaj see xxmaj note 14 to the xxmaj consolidated xxmaj financial xxmaj statements for more detailed information on litigation exposure . xxmaj income xxmaj tax xxmaj audits xxmaj as a matter of course , the xxmaj company is regularly audited by federal , state and foreign tax authorities . xxmaj from time to time , these audits result in proposed assessments . xxmaj our determinations regarding the recognition of income tax benefits are made in consultation with outside tax and legal counsel , where appropriate , and are based upon the technical merits of our tax positions in consideration of applicable tax statutes and related interpretations and precedents and upon the expected outcome of proceedings ( or negotiations ) with taxing and legal authorities . xxmaj the tax benefits ultimately realized by the xxmaj company may differ from those recognized in our future financial statements based on a number of factors , including the xxmaj company s decision to settle rather than litigate a matter , relevant legal precedent related to similar matters and the xxmaj company s success in supporting its filing positions with taxing authorities . 46 xxup table xxup of xxup contents xxup forward - xxup looking xxup statements xxmaj the xxmaj private xxmaj securities xxmaj litigation xxmaj reform xxmaj act of 1995 provides a safe harbor for forward - looking statements made by or on behalf of the xxmaj company . xxmaj we may from time to time make written or oral statements that are forward - looking , including statements contained in this report and other filings with the xxup sec and in reports to our shareholders . xxmaj such statements may , for example , express expectations or projections about future actions that we may take , including restructuring or strategic initiatives , or about developments beyond our control including changes in domestic or global economic conditions . xxmaj these statements are made on the basis of management s views and assumptions as of the time the statements are made and we undertake no obligation to update these statements . xxmaj there can be no assurance , however , that our expectations will necessarily come to pass . xxmaj significant factors affecting these expectations are set forth under xxmaj item xxup 1a xxmaj risk xxmaj factors of this xxmaj report on xxmaj form xxup 10-k.,xxbos common equity . 30 xxmaj at xxmaj december 31 , 2012 , we had approximately $ xxunk in cash and cash equivalents compared to $ xxunk at xxmaj december 31 , 2011 . xxmaj our working capital ( current assets minus current liabilities ) was $ xxunk at xxmaj december 31 , 2012 and $ xxunk at xxmaj december 31 , 2011 . xxmaj during the year ended xxmaj december 31 , 2012 , we did not record any expenses in relation to rights offerings as compared to $ xxunk recorded during the year ended xxmaj december 31 , 2011 in respect of the rights offering completed in xxmaj july 2011 . xxmaj net cash provided by financing activities was $ xxunk . xxmaj net cash used for investment in our unproved oil and gas properties was $ xxunk for the year ended xxmaj december 31 , 2012 and $ xxunk for the year ended xxmaj december 31 , 2011 ; these amounts were primarily drilling related expenditures . xxmaj we expect to incur additional significant expenditures to further our exploration programs . xxmaj we estimate that , when we are not actively drilling a well , our monthly non operational expenditure is approximately $ xxunk per month . xxmaj however , when we are engaged in active drilling operations , we estimate that there is an additional cost of approximately $ 2,500,000 per month . xxmaj the above estimates are subject to change . xxmaj management believes that our existing cash balance will be sufficient to satisfy our current obligations and maintain our operations through xxmaj january 31 , 2014 . xxmaj however , there are factors that can adversely impact our ability to fund our operating needs through such date , including ( without limitation ) , unexpected or unforeseen cost overruns in planned non - drilling exploratory work ( i.e. , seismic acquisitions ) in existing and newly sought license areas and the costs associated with extended delays in undertaking the required exploratory work , which is typical of what we have experienced in the past , or plugging and abandoning activities . xxmaj we are considering various alternatives with respect to raising additional capital but to date have no commitments for such financing . xxmaj we expect that when we seek to raise additional capital it will be through the sale of equity securities , debt or other financing arrangements . xxmaj because of the absence of any oil and natural gas reserves , there can be no assurance this capital will be available and if it is not , we may be forced to substantially curtail or cease exploration , appraisal and development expenditures . xxmaj tabular xxmaj disclosure of xxmaj contractual xxmaj obligations xxmaj the following summarizes our contractual financial obligations for continuing operations at xxmaj december 31 , 2012 and the effect such obligations is expected to have on our liquidity and cash flow in future periods . xxmaj payment due by period ( in xxmaj thousands of xxup usd ) 2013 2014 2015 2016 xxmaj thereafter xxmaj total xxmaj exploration xxmaj related xxmaj commitments 1,511 - - - - 1,511 xxmaj operating xxmaj leases 190 128 81 - - 399 xxmaj employment xxmaj agreements 472 - - - - 472 xxup total xxunk 128 81 - - 2,382 xxmaj off - xxmaj balance xxmaj sheet xxmaj arrangements xxmaj we do not currently use any off - balance sheet arrangements to enhance our liquidity or capital resource position , or for any other purpose . xxmaj recently xxmaj issued xxmaj accounting xxmaj pronouncements xxmaj during 2012 , there were no recently issued accounting pronouncements which were issued and which have xxunk to our business . 31\n",
       "y: LMLabelList\n",
       ",,,,\n",
       "Path: /content/drive/My Drive/Colab Notebooks/Final Project;\n",
       "\n",
       "Test: None, model=SequentialRNN(\n",
       "  (0): AWD_LSTM(\n",
       "    (encoder): Embedding(19984, 400, padding_idx=1)\n",
       "    (encoder_dp): EmbeddingDropout(\n",
       "      (emb): Embedding(19984, 400, padding_idx=1)\n",
       "    )\n",
       "    (rnns): ModuleList(\n",
       "      (0): WeightDropout(\n",
       "        (module): LSTM(400, 1152, batch_first=True)\n",
       "      )\n",
       "      (1): WeightDropout(\n",
       "        (module): LSTM(1152, 1152, batch_first=True)\n",
       "      )\n",
       "      (2): WeightDropout(\n",
       "        (module): LSTM(1152, 400, batch_first=True)\n",
       "      )\n",
       "    )\n",
       "    (input_dp): RNNDropout()\n",
       "    (hidden_dps): ModuleList(\n",
       "      (0): RNNDropout()\n",
       "      (1): RNNDropout()\n",
       "      (2): RNNDropout()\n",
       "    )\n",
       "  )\n",
       "  (1): LinearDecoder(\n",
       "    (decoder): Linear(in_features=400, out_features=19984, bias=True)\n",
       "    (output_dp): RNNDropout()\n",
       "  )\n",
       "), opt_func=functools.partial(<class 'torch.optim.adam.Adam'>, betas=(0.9, 0.99)), loss_func=FlattenedLoss of CrossEntropyLoss(), metrics=[<function accuracy at 0x7f66237b8378>], true_wd=True, bn_wd=True, wd=0.01, train_bn=True, path=PosixPath('/content/drive/My Drive/Colab Notebooks/Final Project/output'), model_dir='models', callback_fns=[functools.partial(<class 'fastai.basic_train.Recorder'>, add_time=True, silent=False)], callbacks=[...], layer_groups=[Sequential(\n",
       "  (0): WeightDropout(\n",
       "    (module): LSTM(400, 1152, batch_first=True)\n",
       "  )\n",
       "  (1): RNNDropout()\n",
       "), Sequential(\n",
       "  (0): WeightDropout(\n",
       "    (module): LSTM(1152, 1152, batch_first=True)\n",
       "  )\n",
       "  (1): RNNDropout()\n",
       "), Sequential(\n",
       "  (0): WeightDropout(\n",
       "    (module): LSTM(1152, 400, batch_first=True)\n",
       "  )\n",
       "  (1): RNNDropout()\n",
       "), Sequential(\n",
       "  (0): Embedding(19984, 400, padding_idx=1)\n",
       "  (1): EmbeddingDropout(\n",
       "    (emb): Embedding(19984, 400, padding_idx=1)\n",
       "  )\n",
       "  (2): LinearDecoder(\n",
       "    (decoder): Linear(in_features=400, out_features=19984, bias=True)\n",
       "    (output_dp): RNNDropout()\n",
       "  )\n",
       ")], add_time=True, silent=False)\n",
       "alpha: 2.0\n",
       "beta: 1.0, MixedPrecision\n",
       "learn: LanguageLearner(data=TextLMDataBunch;\n",
       "\n",
       "Train: LabelList (9898 items)\n",
       "x: LMTextList\n",
       "xxbos suppliers and use several contract manufacturers to provide manufacturing services for our products . xxmaj during the normal course of business , we issue purchase orders with estimates of our requirements several months ahead of the delivery dates . xxmaj however , our agreements with these suppliers usually provide us the option to cancel , reschedule , and adjust our requirements based on our business needs prior to firm orders being placed . xxmaj typically purchase orders outstanding with delivery dates within 30 days are non - cancelable . xxmaj therefore , only approximately 55 percent of our reported purchase commitments arising from these agreements are firm , non - cancelable , and unconditional commitments . xxmaj we expect to fulfill most of our purchase commitments for inventory within one year . xxmaj in addition to the above mentioned commitments to contract manufacturers and suppliers , we record a liability for firm , non - cancelable and unconditional purchase commitments for quantities in excess of our future demand forecasts consistent with our policy relating to excess inventory . xxmaj as of xxmaj october 31 , 2013 , the liability for our firm , non - cancelable and unconditional purchase commitments was $ 5 million , compared to $ 5 million as of xxmaj october 31 , 2012 and 2011 . xxmaj these amounts are included in other accrued liabilities in our consolidated balance sheet . xxmaj other purchase commitments . xxmaj we have categorized \" other purchase commitments \" related to contracts with professional services suppliers . xxmaj typically we can cancel these contracts within 90 days without penalties . xxmaj for those contracts that are not cancelable within 90 days without penalties , we are disclosing the amounts we are obligated to pay to a supplier under each contract in that period before such contract can be cancelled . xxmaj our contractual obligations with these suppliers under \" other purchase commitments \" were approximately $ 70 million within the next year . xxmaj retirement xxmaj plans . xxmaj commitments under the retirement plans relate to expected contributions to be made to our xxup u.s. and non - xxup u.s. defined benefit plans and to our post - retirement medical plans for the next year only . xxmaj contributions after next year are xxunk to estimate . xxmaj we had no material off - balance sheet arrangements as of xxmaj october 31 , 2013 or xxmaj october 31 , 2012 . xxmaj on xxmaj balance xxmaj sheet xxmaj arrangements xxmaj the following table summarizes our total contractual obligations recorded in our consolidated balance sheet pertaining to our long - term debt as of xxmaj october 31 , 2013 ( in millions ) : xxmaj less than one year xxmaj one to three years xxmaj three to five years xxmaj more than five years xxmaj senior notes $ $ 1,100 $ $ 1,500 xxmaj other debt 46 xxmaj total $ $ 1,100 $ $ 1,546 xxmaj we have contractual obligations for interest payments on the above debts . xxmaj interest rates and payment dates are detailed in 50 xxmaj table of xxmaj contents \" xxmaj long - term debt \" . xxmaj other long - term liabilities include $ 341 million and $ 320 million of liabilities for uncertain tax positions as of xxmaj october 31 , 2013 and xxmaj october 31 , 2012 , respectively . xxmaj we are unable to accurately predict when these amounts will be realized or released . xxmaj however , it is reasonably possible that there could be significant changes to our unrecognized tax benefits in the next twelve months due to either the expiration of a statute of limitations or a tax audit settlement . 51 xxmaj table of xxmaj contents,xxbos xxmaj we purchase components from a variety of suppliers and use several contract manufacturers to provide manufacturing services for our products . xxmaj during the normal course of business , we issue purchase orders with estimates of our requirements several months ahead of the delivery dates . xxmaj however , our agreements with these suppliers usually provide us the option to cancel , reschedule , and adjust our requirements based on our business needs prior to firm orders being placed . xxmaj typically purchase orders outstanding with delivery dates within 30 days are non - cancelable . xxmaj therefore , only approximately 38 percent of our reported purchase commitments arising from these agreements are firm , non - cancelable , and unconditional commitments . xxmaj we expect to fulfill most of our purchase commitments for inventory within one year . xxmaj in addition to the above mentioned commitments to contract manufacturers and suppliers , we record a liability for firm , non - cancelable and unconditional purchase commitments for quantities in excess of our future demand forecasts consistent with our policy relating to excess inventory . xxmaj as of xxmaj october 31 , 2015 , the liability for our firm , non - cancelable and unconditional purchase commitments was $ 5 million compared to $ 10 million , as of xxmaj october 31 , 2014 and less than $ 1 million as of xxmaj october 31 , 2013 . xxmaj these amounts are included in other accrued liabilities in our consolidated balance sheet . xxmaj other purchase commitments . xxmaj we have categorized \" other purchase commitments \" related to contracts with professional services suppliers . xxmaj typically we can cancel contracts without penalties . xxmaj for those contracts that are not cancelable without penalties , we are disclosing the termination fees and costs or commitments for continued spending that we are obligated to pay to a supplier under each contact 's termination period before such contract can be cancelled . xxmaj our contractual obligations with these suppliers under \" other purchase commitments \" were approximately $ 53 million within the next year . xxmaj retirement xxmaj plans . xxmaj commitments under the retirement plans relate to expected contributions to be made to our xxup u.s. and non - xxup u.s. defined benefit plans and to our post - retirement medical plans for the next year only . xxmaj contributions after next year are xxunk to estimate . 48 xxmaj table of xxmaj contents xxmaj we had no material off - balance sheet arrangements as of xxmaj october 31 , 2015 or xxmaj october 31 , 2014 . xxmaj on xxmaj balance xxmaj sheet xxmaj arrangements xxmaj the following table summarizes our total contractual obligations at xxmaj october 31 , 2015 related to our long - term debt and interest expense ( in millions ) : xxmaj less than one year xxmaj one to three years xxmaj three to five years xxmaj more than five years xxmaj senior notes $ $ 100 $ 500 $ 1,000 xxmaj other debt 38 xxmaj interest expense 68 132 123 96 xxmaj total $ 68 $ 232 $ 623 $ 1,134 xxmaj other long - term liabilities include $ 227 million and $ 286 million of liabilities for uncertain tax positions as of xxmaj october 31 , 2015 and xxmaj october 31 , 2014 , respectively . xxmaj we are unable to accurately predict when these amounts will be realized or released . xxmaj however , it is reasonably possible that there could be significant changes to our unrecognized tax benefits in the next twelve months due to either the expiration of a statute of limitations or a tax audit settlement . 49 xxmaj table of xxmaj contents,xxbos are also sold directly to customers and through distributors , serve the aerospace , automotive , commercial transportation , and industrial products markets . xxmaj on xxmaj march 9 , 2011 , xxmaj alcoa completed an acquisition of the aerospace fastener business of transdigm xxmaj group xxmaj inc. for $ 240 . xxmaj this business is a leading global designer , producer , and supplier of highly engineered aircraft components , with three locations ( one in the state of xxmaj california and two in the xxmaj united xxmaj kingdom ) that employ a combined 400 people ( at time of acquisition ) . xxmaj specifically , this business provides a wide variety of high - strength , high temperature nickel alloy specialty engine fasteners , airframe xxunk , and xxunk entry xxunk . xxmaj in 2010 , this business generated sales of $ 61 . xxmaj the assets and liabilities of this business were included in the xxmaj engineered xxmaj products and xxmaj solutions segment as of xxmaj march 31 , 2011 ; this business results of operations were included in this segment beginning xxmaj march 9 , 2011 . xxmaj in xxmaj july 2010 , xxmaj alcoa completed an acquisition of the commercial building and construction business of a privately - held company , xxmaj xxunk , for $ 77 . xxmaj this business , located in xxmaj xxunk , xxmaj pennsylvania , employing 650 people ( at time of acquisition ) , is a premier manufacturer of xxunk and xxunk for the commercial building and construction market and generated sales of approximately $ 100 in 2009 . xxmaj the assets and liabilities of this business were included in the xxmaj engineered xxmaj products and xxmaj solutions segment as of the end of xxmaj july 2010 and this business results of operations were included in this segment since the beginning of xxmaj august 2010 . 63 xxmaj table of xxmaj contents xxmaj third - party sales for the xxmaj engineered xxmaj products and xxmaj solutions segment increased 3 % in 2012 compared with 2011 , primarily due to higher volumes , slightly offset by unfavorable foreign currency movements due to a weaker euro . xxmaj the higher volumes were mostly related to the aerospace , industrial gas turbine , and commercial transportation end markets , slightly offset by lower volumes from the building and construction end market . xxmaj third - party sales for this segment climbed 17 % in 2011 compared with 2010 , largely attributable to higher volumes across all businesses , especially related to the aerospace and commercial transportation end markets . xxmaj additionally , sales from the acquired fastener business ( $ 58 ) and from the acquired building and construction business ( increase of $ 40 ) and favorable foreign currency movements due to a stronger euro were positive impacts . xxmaj slightly offsetting the positive contributions was the absence of sales related to the xxmaj april 2010 divestiture of the xxmaj transportation xxmaj products xxmaj europe business ( $ 28 ) . xxup atoi for the xxmaj engineered xxmaj products and xxmaj solutions segment climbed $ 73 in 2012 compared with 2011 , mainly due to net productivity improvements in four of the five businesses and the previously mentioned higher volumes . xxup atoi for this segment rose $ 124 in 2011 compared with 2010 , principally the result of the previously mentioned volume impacts and net productivity improvements across most businesses , somewhat offset by unfavorable price / product mix . xxmaj in 2013 , the aerospace end market is expected to remain strong , while the commercial transportation and building and construction end markets are expected to weaken . xxmaj also , continued net productivity improvements are anticipated . xxmaj reconciliation of xxup atoi to xxmaj consolidated xxmaj net xxmaj income xxmaj attributable to xxmaj alcoa,xxbos both auto and xxunk sheet , while industrial volumes are expected to strengthen with the recovering economies in the xxup u.s. and xxmaj europe . xxmaj also , volume and continued pricing pressures are expected to negatively impact the aerospace ( due to high original equipment manufacturer inventories ) and packaging end markets . xxmaj engineered xxmaj products and xxmaj solutions 2013 2012 2011 xxmaj third - party aluminum shipments ( xxunk ) 229 222 221 xxmaj third - party sales $ xxunk $ xxunk $ 5,345 xxup atoi $ 726 $ 612 $ 537 xxmaj this segment represents xxmaj alcoa s downstream operations and includes titanium , aluminum , and super alloy investment castings ; fasteners ; aluminum wheels ; integrated aluminum structural systems ; architectural extrusions ; and xxunk and hard alloy extrusions . xxmaj these products , which are used in the aerospace , automotive , building and construction , commercial transportation , power generation , and industrial products end markets , are sold directly to customers and through distributors . xxmaj on xxmaj march 9 , 2011 , xxmaj alcoa completed an acquisition of the aerospace fastener business of transdigm xxmaj group xxmaj inc. for $ 240 . xxmaj this business is a leading global designer , producer , and supplier of highly engineered aircraft components , with three locations ( one in the state of xxmaj california and two in the xxmaj united xxmaj kingdom ) that employ a combined 400 people ( at time of acquisition ) . xxmaj specifically , this business provides a wide variety of high - strength , high temperature nickel alloy specialty engine fasteners , airframe xxunk , and xxunk entry xxunk . xxmaj in 2010 , this business generated sales of $ 61 . xxmaj the assets and liabilities of this business were included in the xxmaj engineered xxmaj products and xxmaj solutions segment as of xxmaj march 31 , 2011 ; this business results of operations were included in this segment beginning xxmaj march 9 , 2011 . xxmaj third - party sales for the xxmaj engineered xxmaj products and xxmaj solutions segment improved 4 % in 2013 compared with 2012 , largely attributable to higher volumes related to the aerospace end market . xxmaj third - party sales for this segment increased 3 % in 2012 compared with 2011 , primarily due to higher volumes , slightly offset by unfavorable foreign currency movements due to a weaker euro . xxmaj the higher volumes were mostly related to the aerospace , industrial gas turbine , and commercial transportation end markets , slightly offset by lower volumes from the building and construction end market . xxup atoi for the xxmaj engineered xxmaj products and xxmaj solutions segment rose $ 114 in 2013 compared with 2012 , principally the result of net productivity improvements across all businesses and the previously mentioned volume impact , somewhat offset by higher costs , including labor and research and development expenses , and unfavorable price / product mix . xxup atoi for this segment climbed $ 75 in 2012 compared with 2011 , mainly due to net productivity improvements in four of the five businesses and the previously mentioned higher volumes . xxmaj in 2014 , the aerospace end market is expected to remain strong , while the building and construction end market is expected to improve as the gradual recovery in xxmaj north xxmaj america continues and the decline in xxmaj europe slows down . xxmaj also , weaker global demand in the industrial gas turbine end market is anticipated , while stronger xxmaj north xxmaj america build rates in the commercial transportation end market will be offset by declines in xxmaj europe . xxmaj reconciliation of xxup atoi to xxmaj consolidated xxmaj net ( xxmaj loss ) xxmaj income xxmaj attributable to xxmaj alcoa,xxbos in this segment s organic businesses . xxmaj these positive impacts were partially offset by unfavorable price / product mix , higher costs related to growth projects , and net unfavorable foreign currency movements , primarily related to a weaker euro . xxup atoi for this segment climbed $ 10 in 2014 compared with 2013 , mainly due to net productivity improvements across all businesses and overall higher volumes , partially offset by higher costs , primarily labor , and unfavorable product mix . xxmaj in 2016 , demand in the commercial aerospace end market is expected to remain strong , driven by significant order backlog . xxmaj also , third - party sales will include a positive impact due to a full year of sales related to the acquisitions of xxup rti and xxup xxunk . xxmaj additionally , net productivity improvements are anticipated while pricing pressure across all markets is expected . xxmaj transportation and xxmaj construction xxmaj solutions 2015 2014 2013 xxmaj third - party sales $ 1,882 $ 2,021 $ xxunk xxup atoi $ 166 $ 180 $ 167 xxmaj this segment represents a portion of xxmaj alcoa s downstream operations and produces products that are used mostly in the nonresidential building and construction and commercial transportation end markets . xxmaj such products include integrated aluminum structural systems , architectural extrusions , and xxunk aluminum commercial vehicle wheels , which are sold directly to customers and through distributors . a small part of this segment also produces aluminum products for the industrial products end market . xxmaj generally , the sales and costs and expenses of this segment are transacted in the local currency of the respective operations , which are mostly the xxup u.s. dollar , the euro , and the xxmaj brazilian real . xxmaj third - party sales for the xxmaj transportation and xxmaj construction xxmaj solutions segment decreased 7 % in 2015 compared with 2014 , primarily driven by unfavorable foreign currency movements , principally caused by a weaker euro and xxmaj brazilian real , and lower volume related to the building and construction end market , somewhat offset by higher volume related to the commercial transportation end market . xxmaj third - party sales for this segment increased 4 % in 2014 compared with 2013 , mostly the result of higher volume related to the commercial transportation and building and construction end markets , somewhat offset by lower volume in the industrial products and market . xxup atoi for the xxmaj transportation and xxmaj construction xxmaj solutions segment declined $ 14 in 2015 compared with 2014 , mainly due to higher costs , net unfavorable foreign currency movements , primarily related to a weaker euro and xxmaj brazilian real , and unfavorable price / product mix . xxmaj these negative impacts were mostly offset by net productivity improvements across all businesses . xxup atoi for this segment improved $ 13 in 2014 compared with 2013 , principally attributable to net productivity improvements across all businesses and overall higher volumes , partially offset by unfavorable product mix and higher costs , primarily labor . xxmaj in 2016 , the non - residential building and construction end market is expected to improve through growth in xxmaj north xxmaj america but will be slightly offset by overall weakness in xxmaj europe . xxmaj also , xxmaj north xxmaj america build rates in the commercial 71 xxmaj table of xxmaj contents transportation end market are expected to decline while improvements in xxmaj europe are anticipated . xxmaj additionally , net productivity improvements are anticipated . xxmaj reconciliation of xxup atoi to xxmaj consolidated xxmaj net ( xxmaj loss ) xxmaj income xxmaj attributable to xxmaj alcoa\n",
       "y: LMLabelList\n",
       ",,,,\n",
       "Path: /content/drive/My Drive/Colab Notebooks/Final Project;\n",
       "\n",
       "Valid: LabelList (2474 items)\n",
       "x: LMTextList\n",
       "xxbos used to continue development of our gevokizumab and xxunk product candidate and for other working capital and general corporate purposes . 57 xxmaj table of xxmaj contents * * * xxmaj we have incurred operating losses since inception and have an accumulated deficit of $ 1.1 billion at xxmaj december 31 , 2014 . xxmaj management expects operating losses and negative cash flows to continue for the foreseeable future . xxmaj as of xxmaj december 31 , 2014 , we had $ xxunk million in cash and cash equivalents , which is available to fund future operations . xxmaj taking into account the repayment of our outstanding debt classified within current liabilities on our xxmaj consolidated xxmaj balance xxmaj sheet as of xxmaj december 31 , 2014 , we anticipate that we will be required to seek additional equity or debt financing or to increase the level of collaborative revenue to fund operations through at least xxmaj december 31 , 2015 . xxmaj if we are unable to achieve the level of revenues from licensing , development and collaboration agreements and the level of government funding and external financing during 2015 , as contemplated in our operating plan , we have plans to implement certain cost cutting actions commencing early in the fourth quarter of 2015 to reduce our working capital requirements . xxmaj consistent with the actions we have taken in the past , we will xxunk necessary and appropriate steps to enable the continued operations of the business and preservation of the value of our assets beyond the next twelve months , including but not limited to actions , such as reduced personnel - related costs , additional curtailment of our development activities and other discretionary expenditures that are within our control . xxmaj these reductions in expenditures , if required , may have an adverse impact on our ability to achieve certain of our planned objectives during 2015 . xxmaj in addition to seeking equity or debt financing , we may seek to access additional capital to support future operations through licensing , partnering or other strategic collaborative arrangements . xxmaj it is unclear if or when any such transactions will occur , on satisfactory terms or at all . xxmaj our ability to raise additional capital in the equity and debt markets , should we choose to do so , is dependent on a number of factors , including , but not limited to , the market demand for our common stock , which itself is subject to a number of pharmaceutical development and business risks and uncertainties , as well as the uncertainty that we would be able to raise such additional capital at a price or on terms that are favorable to us . xxmaj commitments and xxmaj contingencies xxmaj schedule of xxmaj contractual xxmaj obligations xxmaj payments by period due under contractual obligations at xxmaj december 31 , 2014 , are as follows ( in thousands ) : xxmaj contractual xxmaj obligations xxmaj total xxmaj less than 1 year 1 to 3 years 3 to 5 years xxmaj more than 5 years xxmaj operating leases ( 1 ) $ xxunk $ 3,428 $ xxunk $ xxunk $ xxunk xxmaj debt xxmaj obligations ( 2 ) xxmaj principal xxunk xxunk xxunk - - xxmaj interest 1,926 1,711 215 - - xxmaj total $ xxunk $ xxunk $ xxunk $ xxunk $ xxunk ( 1 ) xxmaj see xxmaj note 11 : xxmaj commitment and xxmaj contingencies to the accompanying consolidated financial statements for further discussion . ( 2 ) xxmaj see,xxbos xxmaj an impairment loss would be recognized for amortizable intangible assets and property , plant and equipment when estimated undiscounted future cash flows expected to result from use of the asset are less than its carrying amount . xxmaj management determines fair value by estimating future cash flows as a result of forecasting sales and costs . xxmaj impairment , if any , is measured as the amount by which the carrying amount of a long - lived asset exceeds its fair value . xxmaj no factors indicating the carrying value of our tangible long - lived assets may not be recoverable were present in fiscal 2015 , and accordingly , no impairment 49 xxmaj table of xxmaj contents testing was performed on these assets . xxmaj no factors indicating the carrying value of our long - lived assets may not be recoverable were present in fiscal 2014 , and accordingly , no impairment testing was performed on these assets . xxmaj however , due to changes in our operations and related plans for future xxup sap xxunk , we determined that certain software costs previously incurred had no future value and accordingly , a charge of $ 5.9 million was recorded in the fourth quarter of fiscal 2014 . xxmaj should market conditions or the assumptions used by us in determining the fair value of assets change , or management change plans regarding the future usage of certain assets , additional charges to operations may be required in the period in which such conditions occur . xxmaj accruals for xxmaj self - xxmaj insurance xxmaj we maintain insurance for certain risks , including workers compensation , general liability and vehicle liability , and are self - insured for employee related health care benefits . xxmaj our workers compensation , general liability and vehicle liability insurance policies include deductibles of $ 250,000 to $ 350,000 per occurrence , with a separate deductible of $ 50,000 for physical damage . xxmaj we maintain excess loss insurance that covers any health care claims in excess of $ 700,000 per person per year . xxmaj we maintain a self - insurance reserve for losses , determined with assistance from a third party actuary , based on claims filed and actuarial estimates of the ultimate loss amount inherent in the claims , including losses for claims incurred but not reported . xxmaj any actuarial projection of losses concerning workers compensation and general liability is subject to a high degree of variability . xxmaj among the causes of this variability are unpredictable external factors affecting future inflation rates , discount rates , litigation trends , legal interpretations , benefit level changes and claim settlement patterns . xxmaj we do not believe there is a reasonable likelihood that there will be a material change in the estimates or assumptions we use to calculate our self - insurance liabilities . xxmaj however , any differences in estimates and assumptions could result in accrual requirements materially different from the calculated accruals . xxmaj acquisitions xxmaj in connection with businesses we acquire , management must determine the fair values of assets acquired and liabilities assumed . xxmaj considerable judgment and estimates are required to determine such amounts , particularly as they relate to identifiable intangible assets , and the applicable useful lives related thereto . xxmaj under different assumptions , the resulting valuations could be materially different , which could materially impact the operating results we report . xxmaj our contractual commitments are presented under the caption xxmaj liquidity and xxmaj capital xxmaj resources .,xxbos impaired , we will record an impairment loss for the difference between the net book value of the properties and the fair value of the properties . xxmaj the fair value of the properties typically is estimated using discounted cash flows . 43 xxmaj we may also recognize impairments of capitalized costs for unproved properties . xxmaj the greatest portion of these costs generally relate to the acquisition of leasehold . xxmaj the costs are capitalized and periodically evaluated as to recoverability , based on changes brought about by exploration activities , changes in economic factors and potential shifts in business strategy employed by management . xxmaj we consider a combination of geologic and economic factors to evaluate the need for impairment of these costs . xxmaj certain impairments were recognized during 2015 as discussed under xxmaj asset xxmaj impairment in our xxmaj results of xxmaj operations . a further decline in our price assumptions by 10 percent ( assuming all other assumptions are held constant ) would result in approximately $ 240 million of impairment expense on properties , primarily in the xxmaj central xxmaj basin xxmaj platform , not impaired at xxmaj december 31 , 2015 . xxmaj no additional expense would be recognized on properties previously impaired . xxmaj other assumptions such as operating costs , transportation costs , well and reservoir performance , severance and ad valorem taxes , operating and development plans may also change given an assumed 10 percent commodity price decline . xxmaj however , we are unable to estimate their correlation to the price change and these other assumptions may worsen or partially mitigate some of the estimated impairment . xxmaj derivatives : xxmaj xxunk periodically enters into derivative commodity instruments to manage its exposure to oil , natural gas liquids and natural gas price volatility . xxmaj we enter into derivative transactions that are accounted for as mark - to - market transactions with gains and losses reported in current period gain ( loss ) on derivative instruments , net . xxmaj xxunk does not enter into derivatives or other financial instruments for trading purposes . xxmaj the use of derivative contracts to mitigate price risk may cause the xxmaj company s financial position , results of operations and cash flow to be materially different from results that would have been obtained had such risk mitigation activities not occurred . xxmaj asset xxmaj retirement xxmaj obligation : xxmaj xxunk records the fair value of a liability for an asset retirement obligation in the period in which it is incurred . xxmaj subsequent to initial measurement , liabilities are required to be accreted to their present value each period and capitalized costs are depreciated over the estimated useful life of the related assets . xxmaj upon settlement of the liability , xxmaj xxunk will settle the obligation for its recorded amount and recognize the resulting gain or loss . xxmaj xxunk has an obligation to remove tangible equipment and restore land at the end of oil and natural gas production operations . xxmaj the estimate of future restoration and removal costs includes numerous assumptions and uncertainties , including but not limited to , inflation factors , discount rates , timing of settlement , and changes in contractual , regulatory , political , environmental , safety and public relations considerations . xxup recent xxup pronouncements xxup of xxup the xxup financial xxup accounting xxup standards xxup board xxmaj see xxmaj note 19 , xxmaj recently xxmaj issued xxmaj accounting xxmaj standards , in the xxmaj notes to xxmaj financial xxmaj statements for information regarding recently issued accounting standards . 44,xxbos collectability of accounts receivable based on our analysis of historical bad debt experience in conjunction with our assessment of the financial condition of individual companies with which we do business . xxmaj in times of domestic or global economic turmoil , our estimates and judgments with respect to the collectability of our receivables are subject to greater uncertainty than in more stable periods . xxmaj if our estimate of uncollectible accounts is too low , costs and expenses may increase in future periods , and if it is too high , costs and expenses may decrease in future periods . xxmaj contingencies and xxmaj litigation xxmaj we are currently involved in certain legal proceedings and , as required , have accrued estimates of the probable and estimable losses for the resolution of these claims . xxmaj these estimates have been developed in consultation with outside counsel and are based upon an analysis of potential results , assuming a combination of litigation and settlement strategies . xxmaj it is possible , however , that future results of operations for any particular quarterly or annual period could be materially affected by changes in our assumptions or the effectiveness of our strategies related to these proceedings . xxmaj see xxmaj note 14 to the xxmaj consolidated xxmaj financial xxmaj statements for more detailed information on litigation exposure . xxmaj income xxmaj tax xxmaj audits xxmaj as a matter of course , the xxmaj company is regularly audited by federal , state and foreign tax authorities . xxmaj from time to time , these audits result in proposed assessments . xxmaj our determinations regarding the recognition of income tax benefits are made in consultation with outside tax and legal counsel , where appropriate , and are based upon the technical merits of our tax positions in consideration of applicable tax statutes and related interpretations and precedents and upon the expected outcome of proceedings ( or negotiations ) with taxing and legal authorities . xxmaj the tax benefits ultimately realized by the xxmaj company may differ from those recognized in our future financial statements based on a number of factors , including the xxmaj company s decision to settle rather than litigate a matter , relevant legal precedent related to similar matters and the xxmaj company s success in supporting its filing positions with taxing authorities . 46 xxup table xxup of xxup contents xxup forward - xxup looking xxup statements xxmaj the xxmaj private xxmaj securities xxmaj litigation xxmaj reform xxmaj act of 1995 provides a safe harbor for forward - looking statements made by or on behalf of the xxmaj company . xxmaj we may from time to time make written or oral statements that are forward - looking , including statements contained in this report and other filings with the xxup sec and in reports to our shareholders . xxmaj such statements may , for example , express expectations or projections about future actions that we may take , including restructuring or strategic initiatives , or about developments beyond our control including changes in domestic or global economic conditions . xxmaj these statements are made on the basis of management s views and assumptions as of the time the statements are made and we undertake no obligation to update these statements . xxmaj there can be no assurance , however , that our expectations will necessarily come to pass . xxmaj significant factors affecting these expectations are set forth under xxmaj item xxup 1a xxmaj risk xxmaj factors of this xxmaj report on xxmaj form xxup 10-k.,xxbos common equity . 30 xxmaj at xxmaj december 31 , 2012 , we had approximately $ xxunk in cash and cash equivalents compared to $ xxunk at xxmaj december 31 , 2011 . xxmaj our working capital ( current assets minus current liabilities ) was $ xxunk at xxmaj december 31 , 2012 and $ xxunk at xxmaj december 31 , 2011 . xxmaj during the year ended xxmaj december 31 , 2012 , we did not record any expenses in relation to rights offerings as compared to $ xxunk recorded during the year ended xxmaj december 31 , 2011 in respect of the rights offering completed in xxmaj july 2011 . xxmaj net cash provided by financing activities was $ xxunk . xxmaj net cash used for investment in our unproved oil and gas properties was $ xxunk for the year ended xxmaj december 31 , 2012 and $ xxunk for the year ended xxmaj december 31 , 2011 ; these amounts were primarily drilling related expenditures . xxmaj we expect to incur additional significant expenditures to further our exploration programs . xxmaj we estimate that , when we are not actively drilling a well , our monthly non operational expenditure is approximately $ xxunk per month . xxmaj however , when we are engaged in active drilling operations , we estimate that there is an additional cost of approximately $ 2,500,000 per month . xxmaj the above estimates are subject to change . xxmaj management believes that our existing cash balance will be sufficient to satisfy our current obligations and maintain our operations through xxmaj january 31 , 2014 . xxmaj however , there are factors that can adversely impact our ability to fund our operating needs through such date , including ( without limitation ) , unexpected or unforeseen cost overruns in planned non - drilling exploratory work ( i.e. , seismic acquisitions ) in existing and newly sought license areas and the costs associated with extended delays in undertaking the required exploratory work , which is typical of what we have experienced in the past , or plugging and abandoning activities . xxmaj we are considering various alternatives with respect to raising additional capital but to date have no commitments for such financing . xxmaj we expect that when we seek to raise additional capital it will be through the sale of equity securities , debt or other financing arrangements . xxmaj because of the absence of any oil and natural gas reserves , there can be no assurance this capital will be available and if it is not , we may be forced to substantially curtail or cease exploration , appraisal and development expenditures . xxmaj tabular xxmaj disclosure of xxmaj contractual xxmaj obligations xxmaj the following summarizes our contractual financial obligations for continuing operations at xxmaj december 31 , 2012 and the effect such obligations is expected to have on our liquidity and cash flow in future periods . xxmaj payment due by period ( in xxmaj thousands of xxup usd ) 2013 2014 2015 2016 xxmaj thereafter xxmaj total xxmaj exploration xxmaj related xxmaj commitments 1,511 - - - - 1,511 xxmaj operating xxmaj leases 190 128 81 - - 399 xxmaj employment xxmaj agreements 472 - - - - 472 xxup total xxunk 128 81 - - 2,382 xxmaj off - xxmaj balance xxmaj sheet xxmaj arrangements xxmaj we do not currently use any off - balance sheet arrangements to enhance our liquidity or capital resource position , or for any other purpose . xxmaj recently xxmaj issued xxmaj accounting xxmaj pronouncements xxmaj during 2012 , there were no recently issued accounting pronouncements which were issued and which have xxunk to our business . 31\n",
       "y: LMLabelList\n",
       ",,,,\n",
       "Path: /content/drive/My Drive/Colab Notebooks/Final Project;\n",
       "\n",
       "Test: None, model=SequentialRNN(\n",
       "  (0): AWD_LSTM(\n",
       "    (encoder): Embedding(19984, 400, padding_idx=1)\n",
       "    (encoder_dp): EmbeddingDropout(\n",
       "      (emb): Embedding(19984, 400, padding_idx=1)\n",
       "    )\n",
       "    (rnns): ModuleList(\n",
       "      (0): WeightDropout(\n",
       "        (module): LSTM(400, 1152, batch_first=True)\n",
       "      )\n",
       "      (1): WeightDropout(\n",
       "        (module): LSTM(1152, 1152, batch_first=True)\n",
       "      )\n",
       "      (2): WeightDropout(\n",
       "        (module): LSTM(1152, 400, batch_first=True)\n",
       "      )\n",
       "    )\n",
       "    (input_dp): RNNDropout()\n",
       "    (hidden_dps): ModuleList(\n",
       "      (0): RNNDropout()\n",
       "      (1): RNNDropout()\n",
       "      (2): RNNDropout()\n",
       "    )\n",
       "  )\n",
       "  (1): LinearDecoder(\n",
       "    (decoder): Linear(in_features=400, out_features=19984, bias=True)\n",
       "    (output_dp): RNNDropout()\n",
       "  )\n",
       "), opt_func=functools.partial(<class 'torch.optim.adam.Adam'>, betas=(0.9, 0.99)), loss_func=FlattenedLoss of CrossEntropyLoss(), metrics=[<function accuracy at 0x7f66237b8378>], true_wd=True, bn_wd=True, wd=0.01, train_bn=True, path=PosixPath('/content/drive/My Drive/Colab Notebooks/Final Project/output'), model_dir='models', callback_fns=[functools.partial(<class 'fastai.basic_train.Recorder'>, add_time=True, silent=False)], callbacks=[...], layer_groups=[Sequential(\n",
       "  (0): WeightDropout(\n",
       "    (module): LSTM(400, 1152, batch_first=True)\n",
       "  )\n",
       "  (1): RNNDropout()\n",
       "), Sequential(\n",
       "  (0): WeightDropout(\n",
       "    (module): LSTM(1152, 1152, batch_first=True)\n",
       "  )\n",
       "  (1): RNNDropout()\n",
       "), Sequential(\n",
       "  (0): WeightDropout(\n",
       "    (module): LSTM(1152, 400, batch_first=True)\n",
       "  )\n",
       "  (1): RNNDropout()\n",
       "), Sequential(\n",
       "  (0): Embedding(19984, 400, padding_idx=1)\n",
       "  (1): EmbeddingDropout(\n",
       "    (emb): Embedding(19984, 400, padding_idx=1)\n",
       "  )\n",
       "  (2): LinearDecoder(\n",
       "    (decoder): Linear(in_features=400, out_features=19984, bias=True)\n",
       "    (output_dp): RNNDropout()\n",
       "  )\n",
       ")], add_time=True, silent=False)\n",
       "loss_scale: 2097152.0\n",
       "max_noskip: 1000\n",
       "dynamic: True\n",
       "clip: None\n",
       "flat_master: False\n",
       "max_scale: 16777216\n",
       "loss_fp32: True], layer_groups=[Sequential(\n",
       "  (0): WeightDropout(\n",
       "    (module): LSTM(400, 1152, batch_first=True)\n",
       "  )\n",
       "  (1): RNNDropout()\n",
       "), Sequential(\n",
       "  (0): WeightDropout(\n",
       "    (module): LSTM(1152, 1152, batch_first=True)\n",
       "  )\n",
       "  (1): RNNDropout()\n",
       "), Sequential(\n",
       "  (0): WeightDropout(\n",
       "    (module): LSTM(1152, 400, batch_first=True)\n",
       "  )\n",
       "  (1): RNNDropout()\n",
       "), Sequential(\n",
       "  (0): Embedding(19984, 400, padding_idx=1)\n",
       "  (1): EmbeddingDropout(\n",
       "    (emb): Embedding(19984, 400, padding_idx=1)\n",
       "  )\n",
       "  (2): LinearDecoder(\n",
       "    (decoder): Linear(in_features=400, out_features=19984, bias=True)\n",
       "    (output_dp): RNNDropout()\n",
       "  )\n",
       ")], add_time=True, silent=False)"
      ]
     },
     "execution_count": 109,
     "metadata": {
      "tags": []
     },
     "output_type": "execute_result"
    }
   ],
   "source": [
    "learn_lm.load(new_path/'fine_tuned')"
   ]
  },
  {
   "cell_type": "markdown",
   "metadata": {
    "colab_type": "text",
    "id": "Hjrd6NJngdWL"
   },
   "source": [
    "### (1) 1-Day Classification Model \n",
    "- Model for the stock performance 1 day after the release of the 10-K form"
   ]
  },
  {
   "cell_type": "code",
   "execution_count": 110,
   "metadata": {
    "colab": {
     "base_uri": "https://localhost:8080/",
     "height": 17
    },
    "colab_type": "code",
    "executionInfo": {
     "elapsed": 29574,
     "status": "ok",
     "timestamp": 1576190941978,
     "user": {
      "displayName": "莎娜shana",
      "photoUrl": "",
      "userId": "06539486535699047543"
     },
     "user_tz": 360
    },
    "id": "jLJV4fcyMjB4",
    "outputId": "f16501e5-afff-4e93-d0e9-3a198c7c82dd"
   },
   "outputs": [
    {
     "data": {
      "text/html": [],
      "text/plain": [
       "<IPython.core.display.HTML object>"
      ]
     },
     "metadata": {
      "tags": []
     },
     "output_type": "display_data"
    },
    {
     "data": {
      "text/html": [],
      "text/plain": [
       "<IPython.core.display.HTML object>"
      ]
     },
     "metadata": {
      "tags": []
     },
     "output_type": "display_data"
    }
   ],
   "source": [
    "data_clf = (TextList.from_df(df, path=path, cols='TEXT')\n",
    "           .split_by_rand_pct(seed=67)\n",
    "           .label_from_df(cols='PERF_1D',label_cls=CategoryList)\n",
    "           .databunch(bs=64, num_workers=2))"
   ]
  },
  {
   "cell_type": "code",
   "execution_count": 111,
   "metadata": {
    "colab": {
     "base_uri": "https://localhost:8080/",
     "height": 566
    },
    "colab_type": "code",
    "executionInfo": {
     "elapsed": 2024,
     "status": "ok",
     "timestamp": 1576190944032,
     "user": {
      "displayName": "莎娜shana",
      "photoUrl": "",
      "userId": "06539486535699047543"
     },
     "user_tz": 360
    },
    "id": "oCtJxMpMNkXP",
    "outputId": "65282bb5-1c34-4d25-ed2c-80c233308a9f"
   },
   "outputs": [
    {
     "data": {
      "text/html": [
       "<table border=\"1\" class=\"dataframe\">\n",
       "  <thead>\n",
       "    <tr style=\"text-align: right;\">\n",
       "      <th>text</th>\n",
       "      <th>target</th>\n",
       "    </tr>\n",
       "  </thead>\n",
       "  <tbody>\n",
       "    <tr>\n",
       "      <td>xxbos xxup llc 5 / 1 / 2015 4 / 30 / 2030 480 xxmaj eaglewood xxup xxunk xxmaj beacon xxmaj health xxmaj management 8 / 1 / 2015 7 / 31 / 2025 720 xxmaj eaglewood xxmaj care xxmaj center xxmaj beacon xxmaj health xxmaj management 8 / 1 / 2015 7 / 31 / 2025 720 h c of xxmaj xxunk xxmaj beacon xxmaj health xxmaj management 8</td>\n",
       "      <td>1</td>\n",
       "    </tr>\n",
       "    <tr>\n",
       "      <td>xxbos enforcement programs : 4 g xxmaj wireless technology ( 1 ) xxmaj messaging technology xxmaj application xxmaj authentication technology ( 1 ) xxmaj minimally xxmaj xxunk xxmaj surgery technology ( 1)(2 ) xxmaj audio xxmaj communications xxmaj fraud xxmaj detection technology xxmaj mobile xxmaj computer xxmaj synchronization technology xxmaj automotive xxmaj safety , xxmaj navigation and xxmaj diagnostics technology ( 1 ) xxmaj network xxmaj monitoring technology xxmaj bone</td>\n",
       "      <td>0</td>\n",
       "    </tr>\n",
       "    <tr>\n",
       "      <td>xxbos 6 / 17 / 2015 0.51563 8.25 % xxmaj series a 8 / 14 / 2015 8 / 31 / 2015 9 / 17 / 2015 0.51563 8.25 % xxmaj series a 11 / 13 / 2015 11 / 30 / 2015 12 / 17 / 2015 0.51563 xxmaj dividend xxmaj declaration xxmaj date xxmaj record xxmaj date xxmaj payment xxmaj date xxmaj dividend xxmaj per xxmaj share 8.00</td>\n",
       "      <td>-1</td>\n",
       "    </tr>\n",
       "    <tr>\n",
       "      <td>xxbos projected future taxable income , potential tax - planning strategies , and projected future reversals of deferred tax items . xxmaj these assessments are subjective and may change . xxmaj based on these criteria , and in particular our projections for future taxable income , we currently believe that it is more - likely - than - not that we will realize our net deferred tax asset in future</td>\n",
       "      <td>0</td>\n",
       "    </tr>\n",
       "    <tr>\n",
       "      <td>xxbos on industry data of loans of similar type segregated by year of origination , to the extent applicable , and estimated loss severity based on current loss rates for similar loans , our historical rescission rates and the current pipeline of unresolved demands . xxmaj our historical loss severity considers the historical loss experience that we incur upon sale or liquidation of a repurchased loan as well as current</td>\n",
       "      <td>1</td>\n",
       "    </tr>\n",
       "  </tbody>\n",
       "</table>"
      ],
      "text/plain": [
       "<IPython.core.display.HTML object>"
      ]
     },
     "metadata": {
      "tags": []
     },
     "output_type": "display_data"
    }
   ],
   "source": [
    "data_clf.show_batch()"
   ]
  },
  {
   "cell_type": "code",
   "execution_count": 0,
   "metadata": {
    "colab": {},
    "colab_type": "code",
    "id": "AXEENLrs12mX"
   },
   "outputs": [],
   "source": [
    "learn_c1 = text_classifier_learner(data_clf, AWD_LSTM, drop_mult=0.3)   #.to_fp16()\n",
    "learn_c1.load_encoder(new_path/'fine_tuned_enc')\n",
    "learn_c1.freeze()"
   ]
  },
  {
   "cell_type": "code",
   "execution_count": 115,
   "metadata": {
    "colab": {
     "base_uri": "https://localhost:8080/",
     "height": 35
    },
    "colab_type": "code",
    "executionInfo": {
     "elapsed": 36092,
     "status": "ok",
     "timestamp": 1576191100158,
     "user": {
      "displayName": "莎娜shana",
      "photoUrl": "",
      "userId": "06539486535699047543"
     },
     "user_tz": 360
    },
    "id": "peLu3mG_AcL_",
    "outputId": "9361c163-9ccd-41a9-d914-ddcf9152829b"
   },
   "outputs": [
    {
     "data": {
      "text/html": [],
      "text/plain": [
       "<IPython.core.display.HTML object>"
      ]
     },
     "metadata": {
      "tags": []
     },
     "output_type": "display_data"
    },
    {
     "name": "stdout",
     "output_type": "stream",
     "text": [
      "LR Finder is complete, type {learner_name}.recorder.plot() to see the graph.\n"
     ]
    }
   ],
   "source": [
    "learn_c1.lr_find()"
   ]
  },
  {
   "cell_type": "code",
   "execution_count": 116,
   "metadata": {
    "colab": {
     "base_uri": "https://localhost:8080/",
     "height": 279
    },
    "colab_type": "code",
    "executionInfo": {
     "elapsed": 32121,
     "status": "ok",
     "timestamp": 1576191100515,
     "user": {
      "displayName": "莎娜shana",
      "photoUrl": "",
      "userId": "06539486535699047543"
     },
     "user_tz": 360
    },
    "id": "B8jEaXgc5YDZ",
    "outputId": "3682eef8-d3dc-402d-f4de-33701a9f1780"
   },
   "outputs": [
    {
     "data": {
      "image/png": "[encoded data removed]",
      "text/plain": [
       "<Figure size 432x288 with 1 Axes>"
      ]
     },
     "metadata": {
      "tags": []
     },
     "output_type": "display_data"
    }
   ],
   "source": [
    "learn_c1.recorder.plot()"
   ]
  },
  {
   "cell_type": "code",
   "execution_count": 0,
   "metadata": {
    "colab": {},
    "colab_type": "code",
    "id": "qV05YhkwL3Dt"
   },
   "outputs": [],
   "source": [
    "lr = 1e-3   # set learning rate according to the plot"
   ]
  },
  {
   "cell_type": "code",
   "execution_count": 118,
   "metadata": {
    "colab": {
     "base_uri": "https://localhost:8080/",
     "height": 355
    },
    "colab_type": "code",
    "executionInfo": {
     "elapsed": 690739,
     "status": "ok",
     "timestamp": 1576191919816,
     "user": {
      "displayName": "莎娜shana",
      "photoUrl": "",
      "userId": "06539486535699047543"
     },
     "user_tz": 360
    },
    "id": "hLDHa0Ov5YFm",
    "outputId": "90bcd62e-08cf-4051-f75c-f030b0f3bedd"
   },
   "outputs": [
    {
     "data": {
      "text/html": [
       "<table border=\"1\" class=\"dataframe\">\n",
       "  <thead>\n",
       "    <tr style=\"text-align: left;\">\n",
       "      <th>epoch</th>\n",
       "      <th>train_loss</th>\n",
       "      <th>valid_loss</th>\n",
       "      <th>accuracy</th>\n",
       "      <th>time</th>\n",
       "    </tr>\n",
       "  </thead>\n",
       "  <tbody>\n",
       "    <tr>\n",
       "      <td>0</td>\n",
       "      <td>1.162032</td>\n",
       "      <td>1.086996</td>\n",
       "      <td>0.428860</td>\n",
       "      <td>01:10</td>\n",
       "    </tr>\n",
       "    <tr>\n",
       "      <td>1</td>\n",
       "      <td>1.087392</td>\n",
       "      <td>1.057042</td>\n",
       "      <td>0.451496</td>\n",
       "      <td>01:10</td>\n",
       "    </tr>\n",
       "    <tr>\n",
       "      <td>2</td>\n",
       "      <td>1.029701</td>\n",
       "      <td>1.044737</td>\n",
       "      <td>0.461601</td>\n",
       "      <td>01:09</td>\n",
       "    </tr>\n",
       "    <tr>\n",
       "      <td>3</td>\n",
       "      <td>1.007576</td>\n",
       "      <td>1.050638</td>\n",
       "      <td>0.467664</td>\n",
       "      <td>01:08</td>\n",
       "    </tr>\n",
       "    <tr>\n",
       "      <td>4</td>\n",
       "      <td>0.988402</td>\n",
       "      <td>1.016719</td>\n",
       "      <td>0.474939</td>\n",
       "      <td>01:09</td>\n",
       "    </tr>\n",
       "    <tr>\n",
       "      <td>5</td>\n",
       "      <td>0.974206</td>\n",
       "      <td>1.025467</td>\n",
       "      <td>0.470897</td>\n",
       "      <td>01:09</td>\n",
       "    </tr>\n",
       "    <tr>\n",
       "      <td>6</td>\n",
       "      <td>0.950541</td>\n",
       "      <td>1.022957</td>\n",
       "      <td>0.489491</td>\n",
       "      <td>01:08</td>\n",
       "    </tr>\n",
       "    <tr>\n",
       "      <td>7</td>\n",
       "      <td>0.932153</td>\n",
       "      <td>1.026013</td>\n",
       "      <td>0.485044</td>\n",
       "      <td>01:09</td>\n",
       "    </tr>\n",
       "    <tr>\n",
       "      <td>8</td>\n",
       "      <td>0.923151</td>\n",
       "      <td>1.031669</td>\n",
       "      <td>0.489087</td>\n",
       "      <td>01:07</td>\n",
       "    </tr>\n",
       "    <tr>\n",
       "      <td>9</td>\n",
       "      <td>0.902353</td>\n",
       "      <td>1.023295</td>\n",
       "      <td>0.479386</td>\n",
       "      <td>01:08</td>\n",
       "    </tr>\n",
       "  </tbody>\n",
       "</table>"
      ],
      "text/plain": [
       "<IPython.core.display.HTML object>"
      ]
     },
     "metadata": {
      "tags": []
     },
     "output_type": "display_data"
    }
   ],
   "source": [
    "learn_c1.fit_one_cycle(10, lr, moms=(0.8,0.7))"
   ]
  },
  {
   "cell_type": "markdown",
   "metadata": {
    "colab_type": "text",
    "id": "CghgJpTvn5aN"
   },
   "source": [
    "The 7th epoch has the highest accuracy, which is 0.489491."
   ]
  },
  {
   "cell_type": "code",
   "execution_count": 0,
   "metadata": {
    "colab": {},
    "colab_type": "code",
    "id": "wepnczPnWwts"
   },
   "outputs": [],
   "source": [
    "learn_c1.save(new_path/'1day_1st')"
   ]
  },
  {
   "cell_type": "markdown",
   "metadata": {
    "colab_type": "text",
    "id": "kkmJZ0N2YIbs"
   },
   "source": [
    "Try some other learning rates."
   ]
  },
  {
   "cell_type": "code",
   "execution_count": 123,
   "metadata": {
    "colab": {
     "base_uri": "https://localhost:8080/",
     "height": 79
    },
    "colab_type": "code",
    "executionInfo": {
     "elapsed": 67894,
     "status": "ok",
     "timestamp": 1576192193155,
     "user": {
      "displayName": "莎娜shana",
      "photoUrl": "",
      "userId": "06539486535699047543"
     },
     "user_tz": 360
    },
    "id": "xcQTJ-9OXiN0",
    "outputId": "61373c09-47bc-4d0c-8127-a60589ccc69c"
   },
   "outputs": [
    {
     "data": {
      "text/html": [
       "<table border=\"1\" class=\"dataframe\">\n",
       "  <thead>\n",
       "    <tr style=\"text-align: left;\">\n",
       "      <th>epoch</th>\n",
       "      <th>train_loss</th>\n",
       "      <th>valid_loss</th>\n",
       "      <th>accuracy</th>\n",
       "      <th>time</th>\n",
       "    </tr>\n",
       "  </thead>\n",
       "  <tbody>\n",
       "    <tr>\n",
       "      <td>0</td>\n",
       "      <td>0.978392</td>\n",
       "      <td>1.031522</td>\n",
       "      <td>0.474939</td>\n",
       "      <td>01:07</td>\n",
       "    </tr>\n",
       "  </tbody>\n",
       "</table>"
      ],
      "text/plain": [
       "<IPython.core.display.HTML object>"
      ]
     },
     "metadata": {
      "tags": []
     },
     "output_type": "display_data"
    }
   ],
   "source": [
    "learn_c1.fit_one_cycle(1, slice(1e-3/(2.6**4),1e-3), moms=(0.8,0.7))"
   ]
  },
  {
   "cell_type": "code",
   "execution_count": 122,
   "metadata": {
    "colab": {
     "base_uri": "https://localhost:8080/",
     "height": 79
    },
    "colab_type": "code",
    "executionInfo": {
     "elapsed": 71287,
     "status": "ok",
     "timestamp": 1576192082789,
     "user": {
      "displayName": "莎娜shana",
      "photoUrl": "",
      "userId": "06539486535699047543"
     },
     "user_tz": 360
    },
    "id": "lKLrbCzPWz0h",
    "outputId": "d018c10e-debd-4661-a313-21c8c56e36f3"
   },
   "outputs": [
    {
     "data": {
      "text/html": [
       "<table border=\"1\" class=\"dataframe\">\n",
       "  <thead>\n",
       "    <tr style=\"text-align: left;\">\n",
       "      <th>epoch</th>\n",
       "      <th>train_loss</th>\n",
       "      <th>valid_loss</th>\n",
       "      <th>accuracy</th>\n",
       "      <th>time</th>\n",
       "    </tr>\n",
       "  </thead>\n",
       "  <tbody>\n",
       "    <tr>\n",
       "      <td>0</td>\n",
       "      <td>1.019920</td>\n",
       "      <td>1.024831</td>\n",
       "      <td>0.476960</td>\n",
       "      <td>01:08</td>\n",
       "    </tr>\n",
       "  </tbody>\n",
       "</table>"
      ],
      "text/plain": [
       "<IPython.core.display.HTML object>"
      ]
     },
     "metadata": {
      "tags": []
     },
     "output_type": "display_data"
    }
   ],
   "source": [
    "learn_c1.fit_one_cycle(1, slice(1e-2/(2.6**4),1e-2), moms=(0.8,0.7))"
   ]
  },
  {
   "cell_type": "markdown",
   "metadata": {
    "colab_type": "text",
    "id": "9YVjZYMjYHLU"
   },
   "source": [
    "The results are not better than before, so we use the saved 1day_1st model."
   ]
  },
  {
   "cell_type": "markdown",
   "metadata": {
    "colab_type": "text",
    "id": "Pi2wuEy8qqAT"
   },
   "source": [
    "### (2) 1-Week Classification Model \n",
    "- Model for the stock performance 1 week after the release of the 10-K form"
   ]
  },
  {
   "cell_type": "code",
   "execution_count": 124,
   "metadata": {
    "colab": {
     "base_uri": "https://localhost:8080/",
     "height": 17
    },
    "colab_type": "code",
    "executionInfo": {
     "elapsed": 30261,
     "status": "ok",
     "timestamp": 1576192389208,
     "user": {
      "displayName": "莎娜shana",
      "photoUrl": "",
      "userId": "06539486535699047543"
     },
     "user_tz": 360
    },
    "id": "nW4kJOjtq1XY",
    "outputId": "01c0b900-7a95-477b-fab9-38d2d4de8ade"
   },
   "outputs": [
    {
     "data": {
      "text/html": [],
      "text/plain": [
       "<IPython.core.display.HTML object>"
      ]
     },
     "metadata": {
      "tags": []
     },
     "output_type": "display_data"
    },
    {
     "data": {
      "text/html": [],
      "text/plain": [
       "<IPython.core.display.HTML object>"
      ]
     },
     "metadata": {
      "tags": []
     },
     "output_type": "display_data"
    }
   ],
   "source": [
    "data_clf = (TextList.from_df(df, path=path, cols='TEXT')\n",
    "           .split_by_rand_pct(seed=67)\n",
    "           .label_from_df(cols='PERF_1W',label_cls=CategoryList)\n",
    "           .databunch(bs=64, num_workers=2))"
   ]
  },
  {
   "cell_type": "code",
   "execution_count": 125,
   "metadata": {
    "colab": {
     "base_uri": "https://localhost:8080/",
     "height": 566
    },
    "colab_type": "code",
    "executionInfo": {
     "elapsed": 1656,
     "status": "ok",
     "timestamp": 1576192390888,
     "user": {
      "displayName": "莎娜shana",
      "photoUrl": "",
      "userId": "06539486535699047543"
     },
     "user_tz": 360
    },
    "id": "jajIePMcq1Xb",
    "outputId": "b8cfcf03-4421-4a63-86cc-d6c9e867ab2c"
   },
   "outputs": [
    {
     "data": {
      "text/html": [
       "<table border=\"1\" class=\"dataframe\">\n",
       "  <thead>\n",
       "    <tr style=\"text-align: right;\">\n",
       "      <th>text</th>\n",
       "      <th>target</th>\n",
       "    </tr>\n",
       "  </thead>\n",
       "  <tbody>\n",
       "    <tr>\n",
       "      <td>xxbos xxup llc 5 / 1 / 2015 4 / 30 / 2030 480 xxmaj eaglewood xxup xxunk xxmaj beacon xxmaj health xxmaj management 8 / 1 / 2015 7 / 31 / 2025 720 xxmaj eaglewood xxmaj care xxmaj center xxmaj beacon xxmaj health xxmaj management 8 / 1 / 2015 7 / 31 / 2025 720 h c of xxmaj xxunk xxmaj beacon xxmaj health xxmaj management 8</td>\n",
       "      <td>1</td>\n",
       "    </tr>\n",
       "    <tr>\n",
       "      <td>xxbos enforcement programs : 4 g xxmaj wireless technology ( 1 ) xxmaj messaging technology xxmaj application xxmaj authentication technology ( 1 ) xxmaj minimally xxmaj xxunk xxmaj surgery technology ( 1)(2 ) xxmaj audio xxmaj communications xxmaj fraud xxmaj detection technology xxmaj mobile xxmaj computer xxmaj synchronization technology xxmaj automotive xxmaj safety , xxmaj navigation and xxmaj diagnostics technology ( 1 ) xxmaj network xxmaj monitoring technology xxmaj bone</td>\n",
       "      <td>-1</td>\n",
       "    </tr>\n",
       "    <tr>\n",
       "      <td>xxbos 6 / 17 / 2015 0.51563 8.25 % xxmaj series a 8 / 14 / 2015 8 / 31 / 2015 9 / 17 / 2015 0.51563 8.25 % xxmaj series a 11 / 13 / 2015 11 / 30 / 2015 12 / 17 / 2015 0.51563 xxmaj dividend xxmaj declaration xxmaj date xxmaj record xxmaj date xxmaj payment xxmaj date xxmaj dividend xxmaj per xxmaj share 8.00</td>\n",
       "      <td>1</td>\n",
       "    </tr>\n",
       "    <tr>\n",
       "      <td>xxbos projected future taxable income , potential tax - planning strategies , and projected future reversals of deferred tax items . xxmaj these assessments are subjective and may change . xxmaj based on these criteria , and in particular our projections for future taxable income , we currently believe that it is more - likely - than - not that we will realize our net deferred tax asset in future</td>\n",
       "      <td>1</td>\n",
       "    </tr>\n",
       "    <tr>\n",
       "      <td>xxbos on industry data of loans of similar type segregated by year of origination , to the extent applicable , and estimated loss severity based on current loss rates for similar loans , our historical rescission rates and the current pipeline of unresolved demands . xxmaj our historical loss severity considers the historical loss experience that we incur upon sale or liquidation of a repurchased loan as well as current</td>\n",
       "      <td>1</td>\n",
       "    </tr>\n",
       "  </tbody>\n",
       "</table>"
      ],
      "text/plain": [
       "<IPython.core.display.HTML object>"
      ]
     },
     "metadata": {
      "tags": []
     },
     "output_type": "display_data"
    }
   ],
   "source": [
    "data_clf.show_batch()"
   ]
  },
  {
   "cell_type": "code",
   "execution_count": 0,
   "metadata": {
    "colab": {},
    "colab_type": "code",
    "id": "P51npj7Nq1Xe"
   },
   "outputs": [],
   "source": [
    "learn_c2 = text_classifier_learner(data_clf, AWD_LSTM, drop_mult=0.3) #.to_fp16()\n",
    "learn_c2.load_encoder(new_path/'fine_tuned_enc')\n",
    "learn_c2.freeze()"
   ]
  },
  {
   "cell_type": "code",
   "execution_count": 127,
   "metadata": {
    "colab": {
     "base_uri": "https://localhost:8080/",
     "height": 35
    },
    "colab_type": "code",
    "executionInfo": {
     "elapsed": 36479,
     "status": "ok",
     "timestamp": 1576192431811,
     "user": {
      "displayName": "莎娜shana",
      "photoUrl": "",
      "userId": "06539486535699047543"
     },
     "user_tz": 360
    },
    "id": "NO4Na7mWq1Xj",
    "outputId": "957843cf-532c-41ad-d042-075bf3a5dd97"
   },
   "outputs": [
    {
     "data": {
      "text/html": [],
      "text/plain": [
       "<IPython.core.display.HTML object>"
      ]
     },
     "metadata": {
      "tags": []
     },
     "output_type": "display_data"
    },
    {
     "name": "stdout",
     "output_type": "stream",
     "text": [
      "LR Finder is complete, type {learner_name}.recorder.plot() to see the graph.\n"
     ]
    }
   ],
   "source": [
    "learn_c2.lr_find()"
   ]
  },
  {
   "cell_type": "code",
   "execution_count": 128,
   "metadata": {
    "colab": {
     "base_uri": "https://localhost:8080/",
     "height": 279
    },
    "colab_type": "code",
    "executionInfo": {
     "elapsed": 36203,
     "status": "ok",
     "timestamp": 1576192432155,
     "user": {
      "displayName": "莎娜shana",
      "photoUrl": "",
      "userId": "06539486535699047543"
     },
     "user_tz": 360
    },
    "id": "wh-wH66Kq1Xm",
    "outputId": "69ed747e-afce-46c1-dd6b-b54b7e3f5beb"
   },
   "outputs": [
    {
     "data": {
      "image/png": "[encoded data removed]",
      "text/plain": [
       "<Figure size 432x288 with 1 Axes>"
      ]
     },
     "metadata": {
      "tags": []
     },
     "output_type": "display_data"
    }
   ],
   "source": [
    "learn_c2.recorder.plot()"
   ]
  },
  {
   "cell_type": "code",
   "execution_count": 0,
   "metadata": {
    "colab": {},
    "colab_type": "code",
    "id": "CJE_HPj2ZHbB"
   },
   "outputs": [],
   "source": [
    "lr = 5e-3   # set learning rate according to the plot"
   ]
  },
  {
   "cell_type": "code",
   "execution_count": 131,
   "metadata": {
    "colab": {
     "base_uri": "https://localhost:8080/",
     "height": 355
    },
    "colab_type": "code",
    "executionInfo": {
     "elapsed": 690262,
     "status": "ok",
     "timestamp": 1576193339092,
     "user": {
      "displayName": "莎娜shana",
      "photoUrl": "",
      "userId": "06539486535699047543"
     },
     "user_tz": 360
    },
    "id": "ImVqP34iq1Xq",
    "outputId": "c9459206-7615-4302-8173-219e200ad9a7"
   },
   "outputs": [
    {
     "data": {
      "text/html": [
       "<table border=\"1\" class=\"dataframe\">\n",
       "  <thead>\n",
       "    <tr style=\"text-align: left;\">\n",
       "      <th>epoch</th>\n",
       "      <th>train_loss</th>\n",
       "      <th>valid_loss</th>\n",
       "      <th>accuracy</th>\n",
       "      <th>time</th>\n",
       "    </tr>\n",
       "  </thead>\n",
       "  <tbody>\n",
       "    <tr>\n",
       "      <td>0</td>\n",
       "      <td>1.130805</td>\n",
       "      <td>1.091971</td>\n",
       "      <td>0.420776</td>\n",
       "      <td>01:10</td>\n",
       "    </tr>\n",
       "    <tr>\n",
       "      <td>1</td>\n",
       "      <td>1.053501</td>\n",
       "      <td>1.046720</td>\n",
       "      <td>0.437753</td>\n",
       "      <td>01:09</td>\n",
       "    </tr>\n",
       "    <tr>\n",
       "      <td>2</td>\n",
       "      <td>1.042528</td>\n",
       "      <td>1.042613</td>\n",
       "      <td>0.436136</td>\n",
       "      <td>01:09</td>\n",
       "    </tr>\n",
       "    <tr>\n",
       "      <td>3</td>\n",
       "      <td>1.031996</td>\n",
       "      <td>1.049541</td>\n",
       "      <td>0.431285</td>\n",
       "      <td>01:08</td>\n",
       "    </tr>\n",
       "    <tr>\n",
       "      <td>4</td>\n",
       "      <td>1.018730</td>\n",
       "      <td>1.038823</td>\n",
       "      <td>0.444220</td>\n",
       "      <td>01:09</td>\n",
       "    </tr>\n",
       "    <tr>\n",
       "      <td>5</td>\n",
       "      <td>1.012812</td>\n",
       "      <td>1.040935</td>\n",
       "      <td>0.434115</td>\n",
       "      <td>01:09</td>\n",
       "    </tr>\n",
       "    <tr>\n",
       "      <td>6</td>\n",
       "      <td>0.988639</td>\n",
       "      <td>1.053175</td>\n",
       "      <td>0.427648</td>\n",
       "      <td>01:08</td>\n",
       "    </tr>\n",
       "    <tr>\n",
       "      <td>7</td>\n",
       "      <td>0.961860</td>\n",
       "      <td>1.059370</td>\n",
       "      <td>0.427243</td>\n",
       "      <td>01:08</td>\n",
       "    </tr>\n",
       "    <tr>\n",
       "      <td>8</td>\n",
       "      <td>0.936594</td>\n",
       "      <td>1.085965</td>\n",
       "      <td>0.430881</td>\n",
       "      <td>01:07</td>\n",
       "    </tr>\n",
       "    <tr>\n",
       "      <td>9</td>\n",
       "      <td>0.925221</td>\n",
       "      <td>1.066486</td>\n",
       "      <td>0.426839</td>\n",
       "      <td>01:08</td>\n",
       "    </tr>\n",
       "  </tbody>\n",
       "</table>"
      ],
      "text/plain": [
       "<IPython.core.display.HTML object>"
      ]
     },
     "metadata": {
      "tags": []
     },
     "output_type": "display_data"
    }
   ],
   "source": [
    "learn_c2.fit_one_cycle(10, lr, moms=(0.8,0.7))"
   ]
  },
  {
   "cell_type": "markdown",
   "metadata": {
    "colab_type": "text",
    "id": "j3h9sw_aoAEV"
   },
   "source": [
    "The 5th epoch has the highest accuracy, which is 0.444220."
   ]
  },
  {
   "cell_type": "code",
   "execution_count": 0,
   "metadata": {
    "colab": {},
    "colab_type": "code",
    "id": "k-hm2I0yq1Xs"
   },
   "outputs": [],
   "source": [
    "learn_c2.save(new_path/'1week_1st')"
   ]
  },
  {
   "cell_type": "markdown",
   "metadata": {
    "colab_type": "text",
    "id": "bxt7Le6qrFxc"
   },
   "source": [
    "### (2) 2-Week Classification Model \n",
    "- Model for the stock performance 2 weeks after the release of the 10-K form"
   ]
  },
  {
   "cell_type": "code",
   "execution_count": 146,
   "metadata": {
    "colab": {
     "base_uri": "https://localhost:8080/",
     "height": 17
    },
    "colab_type": "code",
    "executionInfo": {
     "elapsed": 29922,
     "status": "ok",
     "timestamp": 1576194594150,
     "user": {
      "displayName": "莎娜shana",
      "photoUrl": "",
      "userId": "06539486535699047543"
     },
     "user_tz": 360
    },
    "id": "_PaMSSjirMXY",
    "outputId": "23c73b8f-ed78-429f-d268-ff3f0f2085b6"
   },
   "outputs": [
    {
     "data": {
      "text/html": [],
      "text/plain": [
       "<IPython.core.display.HTML object>"
      ]
     },
     "metadata": {
      "tags": []
     },
     "output_type": "display_data"
    },
    {
     "data": {
      "text/html": [],
      "text/plain": [
       "<IPython.core.display.HTML object>"
      ]
     },
     "metadata": {
      "tags": []
     },
     "output_type": "display_data"
    }
   ],
   "source": [
    "data_clf = (TextList.from_df(df, path=path, cols='TEXT')\n",
    "           .split_by_rand_pct(seed=67)\n",
    "           .label_from_df(cols='PERF_2W',label_cls=CategoryList)\n",
    "           .databunch(bs=64, num_workers=2))"
   ]
  },
  {
   "cell_type": "code",
   "execution_count": 147,
   "metadata": {
    "colab": {
     "base_uri": "https://localhost:8080/",
     "height": 566
    },
    "colab_type": "code",
    "executionInfo": {
     "elapsed": 30663,
     "status": "ok",
     "timestamp": 1576194595841,
     "user": {
      "displayName": "莎娜shana",
      "photoUrl": "",
      "userId": "06539486535699047543"
     },
     "user_tz": 360
    },
    "id": "MSRG43azrMXb",
    "outputId": "1191552e-c0ef-4fbd-cded-ca22dd12673e"
   },
   "outputs": [
    {
     "data": {
      "text/html": [
       "<table border=\"1\" class=\"dataframe\">\n",
       "  <thead>\n",
       "    <tr style=\"text-align: right;\">\n",
       "      <th>text</th>\n",
       "      <th>target</th>\n",
       "    </tr>\n",
       "  </thead>\n",
       "  <tbody>\n",
       "    <tr>\n",
       "      <td>xxbos xxup llc 5 / 1 / 2015 4 / 30 / 2030 480 xxmaj eaglewood xxup xxunk xxmaj beacon xxmaj health xxmaj management 8 / 1 / 2015 7 / 31 / 2025 720 xxmaj eaglewood xxmaj care xxmaj center xxmaj beacon xxmaj health xxmaj management 8 / 1 / 2015 7 / 31 / 2025 720 h c of xxmaj xxunk xxmaj beacon xxmaj health xxmaj management 8</td>\n",
       "      <td>0</td>\n",
       "    </tr>\n",
       "    <tr>\n",
       "      <td>xxbos enforcement programs : 4 g xxmaj wireless technology ( 1 ) xxmaj messaging technology xxmaj application xxmaj authentication technology ( 1 ) xxmaj minimally xxmaj xxunk xxmaj surgery technology ( 1)(2 ) xxmaj audio xxmaj communications xxmaj fraud xxmaj detection technology xxmaj mobile xxmaj computer xxmaj synchronization technology xxmaj automotive xxmaj safety , xxmaj navigation and xxmaj diagnostics technology ( 1 ) xxmaj network xxmaj monitoring technology xxmaj bone</td>\n",
       "      <td>1</td>\n",
       "    </tr>\n",
       "    <tr>\n",
       "      <td>xxbos 6 / 17 / 2015 0.51563 8.25 % xxmaj series a 8 / 14 / 2015 8 / 31 / 2015 9 / 17 / 2015 0.51563 8.25 % xxmaj series a 11 / 13 / 2015 11 / 30 / 2015 12 / 17 / 2015 0.51563 xxmaj dividend xxmaj declaration xxmaj date xxmaj record xxmaj date xxmaj payment xxmaj date xxmaj dividend xxmaj per xxmaj share 8.00</td>\n",
       "      <td>0</td>\n",
       "    </tr>\n",
       "    <tr>\n",
       "      <td>xxbos projected future taxable income , potential tax - planning strategies , and projected future reversals of deferred tax items . xxmaj these assessments are subjective and may change . xxmaj based on these criteria , and in particular our projections for future taxable income , we currently believe that it is more - likely - than - not that we will realize our net deferred tax asset in future</td>\n",
       "      <td>1</td>\n",
       "    </tr>\n",
       "    <tr>\n",
       "      <td>xxbos on industry data of loans of similar type segregated by year of origination , to the extent applicable , and estimated loss severity based on current loss rates for similar loans , our historical rescission rates and the current pipeline of unresolved demands . xxmaj our historical loss severity considers the historical loss experience that we incur upon sale or liquidation of a repurchased loan as well as current</td>\n",
       "      <td>1</td>\n",
       "    </tr>\n",
       "  </tbody>\n",
       "</table>"
      ],
      "text/plain": [
       "<IPython.core.display.HTML object>"
      ]
     },
     "metadata": {
      "tags": []
     },
     "output_type": "display_data"
    }
   ],
   "source": [
    "data_clf.show_batch()"
   ]
  },
  {
   "cell_type": "code",
   "execution_count": 0,
   "metadata": {
    "colab": {},
    "colab_type": "code",
    "id": "aPYs1VMprMXd"
   },
   "outputs": [],
   "source": [
    "learn_c3 = text_classifier_learner(data_clf, AWD_LSTM, drop_mult=0.3) #.to_fp16() \n",
    "learn_c3.load_encoder(new_path/'fine_tuned_enc')\n",
    "learn_c3.freeze()"
   ]
  },
  {
   "cell_type": "code",
   "execution_count": 149,
   "metadata": {
    "colab": {
     "base_uri": "https://localhost:8080/",
     "height": 35
    },
    "colab_type": "code",
    "executionInfo": {
     "elapsed": 64577,
     "status": "ok",
     "timestamp": 1576194632884,
     "user": {
      "displayName": "莎娜shana",
      "photoUrl": "",
      "userId": "06539486535699047543"
     },
     "user_tz": 360
    },
    "id": "JT8K2p6YrMXo",
    "outputId": "86b7c5d0-bd7d-4f5e-8d9d-eb0cbb8375e0"
   },
   "outputs": [
    {
     "data": {
      "text/html": [],
      "text/plain": [
       "<IPython.core.display.HTML object>"
      ]
     },
     "metadata": {
      "tags": []
     },
     "output_type": "display_data"
    },
    {
     "name": "stdout",
     "output_type": "stream",
     "text": [
      "LR Finder is complete, type {learner_name}.recorder.plot() to see the graph.\n"
     ]
    }
   ],
   "source": [
    "learn_c3.lr_find()"
   ]
  },
  {
   "cell_type": "code",
   "execution_count": 150,
   "metadata": {
    "colab": {
     "base_uri": "https://localhost:8080/",
     "height": 279
    },
    "colab_type": "code",
    "executionInfo": {
     "elapsed": 63999,
     "status": "ok",
     "timestamp": 1576194633293,
     "user": {
      "displayName": "莎娜shana",
      "photoUrl": "",
      "userId": "06539486535699047543"
     },
     "user_tz": 360
    },
    "id": "V1dVBG5CrMXq",
    "outputId": "7e28b1cb-4ebd-456e-a34c-41cabe651e90"
   },
   "outputs": [
    {
     "data": {
      "image/png": "[encoded data removed]",
      "text/plain": [
       "<Figure size 432x288 with 1 Axes>"
      ]
     },
     "metadata": {
      "tags": []
     },
     "output_type": "display_data"
    }
   ],
   "source": [
    "learn_c3.recorder.plot()"
   ]
  },
  {
   "cell_type": "code",
   "execution_count": 0,
   "metadata": {
    "colab": {},
    "colab_type": "code",
    "id": "8JM-KvK9cvbi"
   },
   "outputs": [],
   "source": [
    "lr = 5e-3   # set learning rate according to the plot"
   ]
  },
  {
   "cell_type": "code",
   "execution_count": 152,
   "metadata": {
    "colab": {
     "base_uri": "https://localhost:8080/",
     "height": 355
    },
    "colab_type": "code",
    "executionInfo": {
     "elapsed": 690608,
     "status": "ok",
     "timestamp": 1576195323938,
     "user": {
      "displayName": "莎娜shana",
      "photoUrl": "",
      "userId": "06539486535699047543"
     },
     "user_tz": 360
    },
    "id": "0IPZR4otrMXt",
    "outputId": "a9c62d4e-4b53-479d-96ad-44840a3e0d7f"
   },
   "outputs": [
    {
     "data": {
      "text/html": [
       "<table border=\"1\" class=\"dataframe\">\n",
       "  <thead>\n",
       "    <tr style=\"text-align: left;\">\n",
       "      <th>epoch</th>\n",
       "      <th>train_loss</th>\n",
       "      <th>valid_loss</th>\n",
       "      <th>accuracy</th>\n",
       "      <th>time</th>\n",
       "    </tr>\n",
       "  </thead>\n",
       "  <tbody>\n",
       "    <tr>\n",
       "      <td>0</td>\n",
       "      <td>1.088822</td>\n",
       "      <td>1.040307</td>\n",
       "      <td>0.433306</td>\n",
       "      <td>01:10</td>\n",
       "    </tr>\n",
       "    <tr>\n",
       "      <td>1</td>\n",
       "      <td>1.017981</td>\n",
       "      <td>1.018048</td>\n",
       "      <td>0.464834</td>\n",
       "      <td>01:09</td>\n",
       "    </tr>\n",
       "    <tr>\n",
       "      <td>2</td>\n",
       "      <td>0.993062</td>\n",
       "      <td>0.997974</td>\n",
       "      <td>0.470897</td>\n",
       "      <td>01:09</td>\n",
       "    </tr>\n",
       "    <tr>\n",
       "      <td>3</td>\n",
       "      <td>0.983364</td>\n",
       "      <td>1.019694</td>\n",
       "      <td>0.466855</td>\n",
       "      <td>01:08</td>\n",
       "    </tr>\n",
       "    <tr>\n",
       "      <td>4</td>\n",
       "      <td>0.972454</td>\n",
       "      <td>1.003678</td>\n",
       "      <td>0.468876</td>\n",
       "      <td>01:09</td>\n",
       "    </tr>\n",
       "    <tr>\n",
       "      <td>5</td>\n",
       "      <td>0.971872</td>\n",
       "      <td>1.000222</td>\n",
       "      <td>0.466451</td>\n",
       "      <td>01:09</td>\n",
       "    </tr>\n",
       "    <tr>\n",
       "      <td>6</td>\n",
       "      <td>0.946927</td>\n",
       "      <td>1.011721</td>\n",
       "      <td>0.461601</td>\n",
       "      <td>01:08</td>\n",
       "    </tr>\n",
       "    <tr>\n",
       "      <td>7</td>\n",
       "      <td>0.916791</td>\n",
       "      <td>1.024168</td>\n",
       "      <td>0.467259</td>\n",
       "      <td>01:08</td>\n",
       "    </tr>\n",
       "    <tr>\n",
       "      <td>8</td>\n",
       "      <td>0.889226</td>\n",
       "      <td>1.039986</td>\n",
       "      <td>0.469281</td>\n",
       "      <td>01:07</td>\n",
       "    </tr>\n",
       "    <tr>\n",
       "      <td>9</td>\n",
       "      <td>0.878427</td>\n",
       "      <td>1.031930</td>\n",
       "      <td>0.469281</td>\n",
       "      <td>01:08</td>\n",
       "    </tr>\n",
       "  </tbody>\n",
       "</table>"
      ],
      "text/plain": [
       "<IPython.core.display.HTML object>"
      ]
     },
     "metadata": {
      "tags": []
     },
     "output_type": "display_data"
    }
   ],
   "source": [
    "learn_c3.fit_one_cycle(10, lr, moms=(0.8,0.7))"
   ]
  },
  {
   "cell_type": "markdown",
   "metadata": {
    "colab_type": "text",
    "id": "lRjoh2oUoGIu"
   },
   "source": [
    "The 3th epoch has the highest accuracy, which is 0.470897."
   ]
  },
  {
   "cell_type": "code",
   "execution_count": 0,
   "metadata": {
    "colab": {},
    "colab_type": "code",
    "id": "tmtfCxlJrMXw"
   },
   "outputs": [],
   "source": [
    "learn_c3.save(new_path/'2week_1st')"
   ]
  },
  {
   "cell_type": "markdown",
   "metadata": {
    "colab_type": "text",
    "id": "nuBjdpSMwaMz"
   },
   "source": [
    "## Results\n",
    "\n",
    "According to above classification results, the accuracy for each model is shown as below:\n",
    "\n",
    "- (1) **1 day**: the 7th epoch has the highest accuracy, which is 0.489491.\n",
    "- (2) **1 week**: the 5th epoch has the highest accuracy, which is 0.444220.\n",
    "- (3) **2 weeks**: the 3th epoch has the highest accuracy, which is 0.470897.\n",
    "\n",
    "Therefore, we can see that the 1-day model has the best performance, i.e. highest accuracy, followed by 2-week model. And the 1-week model has the worst performance. However, all the three models have accuracies that are much higher than a random model whose accuracy would be only about 0.33.\n",
    "\n",
    "As a result, we may conclude that the texts in the 10-K forms can be used to predict the performance of the company's stock performance after the release of the 10-K forms. And it provides the best prediction for the stock performance 1 day after releasing 10-K forms."
   ]
  },
  {
   "cell_type": "code",
   "execution_count": null,
   "metadata": {},
   "outputs": [],
   "source": []
  }
 ],
 "metadata": {
  "accelerator": "GPU",
  "colab": {
   "collapsed_sections": [],
   "name": "Final Project.ipynb",
   "provenance": [],
   "toc_visible": true
  },
  "kernelspec": {
   "display_name": "Python 3",
   "language": "python",
   "name": "python3"
  },
  "language_info": {
   "codemirror_mode": {
    "name": "ipython",
    "version": 3
   },
   "file_extension": ".py",
   "mimetype": "text/x-python",
   "name": "python",
   "nbconvert_exporter": "python",
   "pygments_lexer": "ipython3",
   "version": "3.7.1"
  }
 },
 "nbformat": 4,
 "nbformat_minor": 1
}
