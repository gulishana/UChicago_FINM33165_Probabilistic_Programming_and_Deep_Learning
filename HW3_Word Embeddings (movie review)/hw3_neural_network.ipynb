{
 "cells": [
  {
   "cell_type": "markdown",
   "metadata": {},
   "source": [
    "# Classification Neural Net (self-written layers)"
   ]
  },
  {
   "cell_type": "markdown",
   "metadata": {},
   "source": [
    "<div id=\"toc\"></div>"
   ]
  },
  {
   "cell_type": "code",
   "execution_count": 3,
   "metadata": {},
   "outputs": [
    {
     "data": {
      "application/javascript": [
       "$.getScript('https://kmahelona.github.io/ipython_notebook_goodies/ipython_notebook_toc.js')\n"
      ],
      "text/plain": [
       "<IPython.core.display.Javascript object>"
      ]
     },
     "metadata": {},
     "output_type": "display_data"
    }
   ],
   "source": [
    "%%javascript\n",
    "$.getScript('https://kmahelona.github.io/ipython_notebook_goodies/ipython_notebook_toc.js')"
   ]
  },
  {
   "cell_type": "code",
   "execution_count": 2,
   "metadata": {},
   "outputs": [],
   "source": [
    "import torch\n",
    "import torch.nn as nn\n",
    "import torch.nn.functional as F\n",
    "import torch.optim as optim\n",
    "from torch.utils.data import DataLoader, Dataset,TensorDataset"
   ]
  },
  {
   "cell_type": "code",
   "execution_count": 3,
   "metadata": {},
   "outputs": [],
   "source": [
    "from sklearn.feature_extraction.text import CountVectorizer, TfidfVectorizer\n",
    "from sklearn.feature_extraction.text import strip_tags\n",
    "from sklearn.model_selection import train_test_split\n",
    "from sklearn.decomposition import LatentDirichletAllocation"
   ]
  },
  {
   "cell_type": "code",
   "execution_count": 4,
   "metadata": {},
   "outputs": [],
   "source": [
    "import numpy as np\n",
    "import matplotlib.pyplot as plt\n",
    "%matplotlib inline"
   ]
  },
  {
   "cell_type": "code",
   "execution_count": 5,
   "metadata": {},
   "outputs": [],
   "source": [
    "from pathlib import Path\n",
    "import os"
   ]
  },
  {
   "cell_type": "markdown",
   "metadata": {},
   "source": [
    "## 1. Load Data"
   ]
  },
  {
   "cell_type": "code",
   "execution_count": 6,
   "metadata": {},
   "outputs": [],
   "source": [
    "data_path = Path(os.getcwd())/'aclImdb'\n",
    "train_path = data_path/'train'\n",
    "test_path = data_path/'test'"
   ]
  },
  {
   "cell_type": "code",
   "execution_count": 7,
   "metadata": {},
   "outputs": [],
   "source": [
    "train_labels_data = []\n",
    "train_reviews = []\n",
    "\n",
    "for review in ['pos','neg']:\n",
    "    for p in (train_path/review).glob('*.txt'):\n",
    "        with open(p, encoding='utf-8') as f:\n",
    "            train_reviews.append(f.read())\n",
    "        if review == 'pos':\n",
    "            train_labels_data.append(1)\n",
    "        else: \n",
    "            train_labels_data.append(0)"
   ]
  },
  {
   "cell_type": "code",
   "execution_count": 8,
   "metadata": {},
   "outputs": [],
   "source": [
    "test_labels = []\n",
    "test_reviews = []\n",
    "\n",
    "for review in ['pos','neg']:\n",
    "    for p in (test_path/review).glob('*.txt'):\n",
    "        with open(p, encoding='utf-8') as f:\n",
    "            test_reviews.append(f.read())\n",
    "        if review == 'pos':\n",
    "            test_labels.append(1)\n",
    "        else: test_labels.append(0)"
   ]
  },
  {
   "cell_type": "code",
   "execution_count": 9,
   "metadata": {},
   "outputs": [],
   "source": [
    "# remove tags in the strings\n",
    "train_reviews = list(map(strip_tags, train_reviews))\n",
    "test_reviews = list(map(strip_tags, test_reviews))"
   ]
  },
  {
   "cell_type": "code",
   "execution_count": 10,
   "metadata": {},
   "outputs": [],
   "source": [
    "all_reviews = train_reviews + test_reviews"
   ]
  },
  {
   "cell_type": "code",
   "execution_count": 11,
   "metadata": {},
   "outputs": [
    {
     "data": {
      "text/plain": [
       "(25000, 25000, 50000)"
      ]
     },
     "execution_count": 11,
     "metadata": {},
     "output_type": "execute_result"
    }
   ],
   "source": [
    "len(train_reviews), len(test_reviews), len(all_reviews)"
   ]
  },
  {
   "cell_type": "code",
   "execution_count": 12,
   "metadata": {},
   "outputs": [
    {
     "data": {
      "text/plain": [
       "(25000, 25000)"
      ]
     },
     "execution_count": 12,
     "metadata": {},
     "output_type": "execute_result"
    }
   ],
   "source": [
    "len(train_labels_data), len(test_labels)"
   ]
  },
  {
   "cell_type": "markdown",
   "metadata": {},
   "source": [
    "## 2. Vectorizer & DTM"
   ]
  },
  {
   "cell_type": "code",
   "execution_count": 13,
   "metadata": {},
   "outputs": [],
   "source": [
    "# vectorizer = CountVectorizer(max_df=.3, min_df=.01, stop_words='english',\n",
    "#                              binary='False', ngram_range=(1,2))      # include single tokens & pairs of tokens"
   ]
  },
  {
   "cell_type": "code",
   "execution_count": 14,
   "metadata": {},
   "outputs": [],
   "source": [
    "vectorizer = TfidfVectorizer(max_df=.3, min_df=.01, stop_words='english',\n",
    "                             strip_accents='unicode', ngram_range=(1,2))  "
   ]
  },
  {
   "cell_type": "code",
   "execution_count": 15,
   "metadata": {},
   "outputs": [],
   "source": [
    "all_dtm = vectorizer.fit_transform(all_reviews)"
   ]
  },
  {
   "cell_type": "code",
   "execution_count": 16,
   "metadata": {},
   "outputs": [
    {
     "data": {
      "text/plain": [
       "1640"
      ]
     },
     "execution_count": 16,
     "metadata": {},
     "output_type": "execute_result"
    }
   ],
   "source": [
    "len(vectorizer.vocabulary_)"
   ]
  },
  {
   "cell_type": "code",
   "execution_count": 17,
   "metadata": {},
   "outputs": [
    {
     "data": {
      "text/plain": [
       "<50000x1640 sparse matrix of type '<class 'numpy.float64'>'\n",
       "\twith 2568140 stored elements in Compressed Sparse Row format>"
      ]
     },
     "execution_count": 17,
     "metadata": {},
     "output_type": "execute_result"
    }
   ],
   "source": [
    "all_dtm"
   ]
  },
  {
   "cell_type": "markdown",
   "metadata": {},
   "source": [
    "## 3. Use 4 topics"
   ]
  },
  {
   "cell_type": "markdown",
   "metadata": {},
   "source": [
    "### (1) LDA - base model with 'batch' method (4)\n",
    "- Generate an array of topic distributions as an encoding for both training and test datasets."
   ]
  },
  {
   "cell_type": "code",
   "execution_count": 18,
   "metadata": {},
   "outputs": [],
   "source": [
    "n_components = 4"
   ]
  },
  {
   "cell_type": "code",
   "execution_count": 20,
   "metadata": {},
   "outputs": [
    {
     "name": "stdout",
     "output_type": "stream",
     "text": [
      "iteration: 1 of max_iter: 100\n",
      "iteration: 2 of max_iter: 100\n",
      "iteration: 3 of max_iter: 100\n",
      "iteration: 4 of max_iter: 100\n",
      "iteration: 5 of max_iter: 100\n",
      "iteration: 6 of max_iter: 100\n",
      "iteration: 7 of max_iter: 100\n",
      "iteration: 8 of max_iter: 100\n",
      "iteration: 9 of max_iter: 100\n",
      "iteration: 10 of max_iter: 100, perplexity: 1896.0016\n",
      "iteration: 11 of max_iter: 100\n",
      "iteration: 12 of max_iter: 100\n",
      "iteration: 13 of max_iter: 100\n",
      "iteration: 14 of max_iter: 100\n",
      "iteration: 15 of max_iter: 100\n",
      "iteration: 16 of max_iter: 100\n",
      "iteration: 17 of max_iter: 100\n",
      "iteration: 18 of max_iter: 100\n",
      "iteration: 19 of max_iter: 100\n",
      "iteration: 20 of max_iter: 100, perplexity: 1890.7128\n",
      "iteration: 21 of max_iter: 100\n",
      "iteration: 22 of max_iter: 100\n",
      "iteration: 23 of max_iter: 100\n",
      "iteration: 24 of max_iter: 100\n",
      "iteration: 25 of max_iter: 100\n",
      "iteration: 26 of max_iter: 100\n",
      "iteration: 27 of max_iter: 100\n",
      "iteration: 28 of max_iter: 100\n",
      "iteration: 29 of max_iter: 100\n",
      "iteration: 30 of max_iter: 100, perplexity: 1889.9149\n",
      "iteration: 31 of max_iter: 100\n",
      "iteration: 32 of max_iter: 100\n",
      "iteration: 33 of max_iter: 100\n",
      "iteration: 34 of max_iter: 100\n",
      "iteration: 35 of max_iter: 100\n",
      "iteration: 36 of max_iter: 100\n",
      "iteration: 37 of max_iter: 100\n",
      "iteration: 38 of max_iter: 100\n",
      "iteration: 39 of max_iter: 100\n",
      "iteration: 40 of max_iter: 100, perplexity: 1889.8393\n"
     ]
    },
    {
     "data": {
      "text/plain": [
       "LatentDirichletAllocation(batch_size=128, doc_topic_prior=None,\n",
       "             evaluate_every=10, learning_decay=0.7,\n",
       "             learning_method='batch', learning_offset=10.0,\n",
       "             max_doc_update_iter=100, max_iter=100, mean_change_tol=0.001,\n",
       "             n_components=4, n_jobs=-1, n_topics=None, perp_tol=0.1,\n",
       "             random_state=None, topic_word_prior=None,\n",
       "             total_samples=1000000.0, verbose=1)"
      ]
     },
     "execution_count": 20,
     "metadata": {},
     "output_type": "execute_result"
    }
   ],
   "source": [
    "lda_base = LatentDirichletAllocation(n_components = n_components,\n",
    "                                     learning_method = 'batch',\n",
    "                                     max_iter = 100,\n",
    "                                     evaluate_every=10,\n",
    "                                     verbose = 1,\n",
    "                                     n_jobs = -1) # use all processors\n",
    "lda_base.fit(all_dtm)"
   ]
  },
  {
   "cell_type": "code",
   "execution_count": 21,
   "metadata": {},
   "outputs": [
    {
     "data": {
      "text/plain": [
       "(4, 1640)"
      ]
     },
     "execution_count": 21,
     "metadata": {},
     "output_type": "execute_result"
    }
   ],
   "source": [
    "topics_count = lda_base.components_\n",
    "topics_count.shape"
   ]
  },
  {
   "cell_type": "code",
   "execution_count": 22,
   "metadata": {},
   "outputs": [],
   "source": [
    "topics_prob = topics_count/topics_count.sum(axis=1).reshape(-1,1)"
   ]
  },
  {
   "cell_type": "code",
   "execution_count": 23,
   "metadata": {},
   "outputs": [],
   "source": [
    "thetas = lda_base.transform(all_dtm)"
   ]
  },
  {
   "cell_type": "code",
   "execution_count": 24,
   "metadata": {},
   "outputs": [],
   "source": [
    "all_encoding = thetas @ topics_prob"
   ]
  },
  {
   "cell_type": "code",
   "execution_count": 25,
   "metadata": {},
   "outputs": [],
   "source": [
    "train_encoding = all_encoding[:25000]\n",
    "test_encoding = all_encoding[25000:]"
   ]
  },
  {
   "cell_type": "code",
   "execution_count": 26,
   "metadata": {},
   "outputs": [
    {
     "data": {
      "text/plain": [
       "((25000, 1640), (25000, 1640), (50000, 1640))"
      ]
     },
     "execution_count": 26,
     "metadata": {},
     "output_type": "execute_result"
    }
   ],
   "source": [
    "train_encoding.shape, test_encoding.shape, all_encoding.shape"
   ]
  },
  {
   "cell_type": "code",
   "execution_count": 34,
   "metadata": {},
   "outputs": [
    {
     "data": {
      "text/plain": [
       "array([0.00232412, 0.00049374, 0.00033289, ..., 0.00053836, 0.0001713 ,\n",
       "       0.00052257])"
      ]
     },
     "execution_count": 34,
     "metadata": {},
     "output_type": "execute_result"
    }
   ],
   "source": [
    "train_encoding[0]"
   ]
  },
  {
   "cell_type": "markdown",
   "metadata": {},
   "source": [
    "### (2) Classification Neural Net (4)\n",
    "- Write a neural network with several layers with different activation functions \n",
    "- Use the encoding from the topic distributions from LDA to train the Classification Neural Network using training data and evaluate the model using test data.\n",
    "- Note: fit the model using Cross Entropy loss function, and the Adam optimizer"
   ]
  },
  {
   "cell_type": "code",
   "execution_count": 47,
   "metadata": {},
   "outputs": [],
   "source": [
    "# training data: split into train & valid\n",
    "train_set, valid_set, train_labels, valid_labels = train_test_split(train_encoding, train_labels_data, \n",
    "                                                                    test_size=0.1, shuffle=True)"
   ]
  },
  {
   "cell_type": "code",
   "execution_count": 48,
   "metadata": {},
   "outputs": [],
   "source": [
    "train_tensors = torch.Tensor(train_set)\n",
    "valid_tensors = torch.Tensor(valid_set)\n",
    "\n",
    "train_labels = torch.LongTensor(train_labels)\n",
    "valid_labels = torch.LongTensor(valid_labels)"
   ]
  },
  {
   "cell_type": "code",
   "execution_count": 49,
   "metadata": {},
   "outputs": [
    {
     "data": {
      "text/plain": [
       "(torch.Size([22500, 1640]), torch.Size([2500, 1640]))"
      ]
     },
     "execution_count": 49,
     "metadata": {},
     "output_type": "execute_result"
    }
   ],
   "source": [
    "train_tensors.shape, valid_tensors.shape"
   ]
  },
  {
   "cell_type": "code",
   "execution_count": 50,
   "metadata": {},
   "outputs": [],
   "source": [
    "# test data\n",
    "test_tensors = torch.Tensor(test_encoding)"
   ]
  },
  {
   "cell_type": "code",
   "execution_count": 51,
   "metadata": {},
   "outputs": [
    {
     "data": {
      "text/plain": [
       "torch.Size([25000, 1640])"
      ]
     },
     "execution_count": 51,
     "metadata": {},
     "output_type": "execute_result"
    }
   ],
   "source": [
    "test_tensors.shape"
   ]
  },
  {
   "cell_type": "code",
   "execution_count": 99,
   "metadata": {},
   "outputs": [],
   "source": [
    "class DropoutMovieReviewClassifier(nn.Module):\n",
    "    \n",
    "    def __init__(self, vocab_size, embedding_dim):\n",
    "        super().__init__()\n",
    "        self.vocab_size = vocab_size\n",
    "        self.embedding_dim = embedding_dim\n",
    "        \n",
    "        self.fc0 = nn.Linear(self.vocab_size, self.embedding_dim)\n",
    "        self.fc1 = nn.Linear(self.embedding_dim, 50)\n",
    "        self.fc2 = nn.Linear(50, 2)\n",
    "        self.relu = nn.ReLU()      \n",
    "        self.dropout_0 = nn.Dropout(0.6)\n",
    "        self.dropout_1 = nn.Dropout(0.5)\n",
    "        \n",
    "    def forward(self, inputs):\n",
    "        out = self.fc0(inputs)\n",
    "        out = self.dropout_0(out)\n",
    "        \n",
    "        out = self.relu(out)\n",
    "        out = self.fc1(out)\n",
    "        out = self.dropout_1(out)\n",
    "        \n",
    "        out = self.relu(out)\n",
    "        out = self.fc2(out)\n",
    "        \n",
    "        prob = torch.softmax(out, 1)   \n",
    "        return prob"
   ]
  },
  {
   "cell_type": "code",
   "execution_count": 100,
   "metadata": {},
   "outputs": [],
   "source": [
    "model = DropoutMovieReviewClassifier(vocab_size=len(vectorizer.vocabulary_), embedding_dim=64)"
   ]
  },
  {
   "cell_type": "code",
   "execution_count": 101,
   "metadata": {},
   "outputs": [],
   "source": [
    "loss_function = nn.CrossEntropyLoss()\n",
    "optimizer = optim.Adam(model.parameters(), lr=0.001)     # use Adam optimizer"
   ]
  },
  {
   "cell_type": "code",
   "execution_count": 102,
   "metadata": {},
   "outputs": [],
   "source": [
    "train_set = TensorDataset(train_tensors, train_labels)\n",
    "valid_set = TensorDataset(valid_tensors, valid_labels)"
   ]
  },
  {
   "cell_type": "code",
   "execution_count": 103,
   "metadata": {},
   "outputs": [],
   "source": [
    "data_loader = DataLoader(train_set, batch_size=256)"
   ]
  },
  {
   "cell_type": "code",
   "execution_count": 104,
   "metadata": {},
   "outputs": [
    {
     "data": {
      "text/plain": [
       "88"
      ]
     },
     "execution_count": 104,
     "metadata": {},
     "output_type": "execute_result"
    }
   ],
   "source": [
    "len(data_loader)"
   ]
  },
  {
   "cell_type": "code",
   "execution_count": 105,
   "metadata": {},
   "outputs": [
    {
     "data": {
      "text/plain": [
       "tensor(0.6934, grad_fn=<NllLossBackward>)"
      ]
     },
     "execution_count": 105,
     "metadata": {},
     "output_type": "execute_result"
    }
   ],
   "source": [
    "batch = next(iter(data_loader))\n",
    "# batch\n",
    "# batch[0]   # the input features\n",
    "# batch[1]   # the labels\n",
    "# model(batch[0])  # the output probs for each label from the NN model\n",
    "loss_function(model(batch[0]), batch[1])  # the loss computed for this batch"
   ]
  },
  {
   "cell_type": "code",
   "execution_count": 68,
   "metadata": {},
   "outputs": [
    {
     "name": "stdout",
     "output_type": "stream",
     "text": [
      "(1, 0.6070410072803496, 0.6752611994743347)\n",
      "(2, 0.5485891723632814, 0.5833370685577393)\n",
      "(3, 0.4977596926689146, 0.5635492205619812)\n",
      "(4, 0.48589767456054683, 0.5539677143096924)\n",
      "(5, 0.48120275557041164, 0.5522963404655457)\n",
      "(6, 0.4790387558937075, 0.5525303483009338)\n",
      "(7, 0.47741312652826323, 0.5510824918746948)\n",
      "(8, 0.475621935725212, 0.5510105490684509)\n",
      "(9, 0.47477861464023585, 0.5467371344566345)\n",
      "(10, 0.47558979153633124, 0.5475261211395264)\n",
      "(11, 0.4760843217372896, 0.5471673607826233)\n",
      "(12, 0.4751555645465849, 0.5490910410881042)\n",
      "(13, 0.4744142597913744, 0.5480917096138)\n",
      "(14, 0.4748287680745125, 0.5490391850471497)\n",
      "(15, 0.4745420140028002, 0.5496672987937927)\n",
      "(16, 0.47299739211797714, 0.5504743456840515)\n",
      "(17, 0.4733844250440596, 0.5469009280204773)\n",
      "(18, 0.4734008362889289, 0.5483916997909546)\n",
      "(19, 0.47508610665798184, 0.5476292967796326)\n",
      "(20, 0.47372845858335505, 0.5453813672065735)\n",
      "(21, 0.47358956515789014, 0.5489489436149597)\n",
      "(22, 0.47339731216430675, 0.5467628240585327)\n",
      "(23, 0.47328512668609607, 0.5461546182632446)\n",
      "(24, 0.4739066669344903, 0.5426941514015198)\n",
      "(25, 0.47417769730091097, 0.5470988154411316)\n",
      "(26, 0.47218825459480307, 0.547309398651123)\n",
      "(27, 0.472673632800579, 0.5476712584495544)\n",
      "(28, 0.4732700955867767, 0.5436792969703674)\n",
      "(29, 0.4722346192598343, 0.5448182225227356)\n",
      "(30, 0.47311277925968165, 0.5426494479179382)\n",
      "(31, 0.47206134885549544, 0.5446610450744629)\n",
      "(32, 0.4721775332093238, 0.5462428331375122)\n",
      "(33, 0.4720420122146604, 0.5425752401351929)\n",
      "(34, 0.47367886602878573, 0.5449836254119873)\n",
      "(35, 0.4729086154699325, 0.5469685792922974)\n",
      "(36, 0.47259787946939463, 0.5442013740539551)\n",
      "(37, 0.47181971549987783, 0.5424797534942627)\n",
      "(38, 0.4720333644747732, 0.544440746307373)\n",
      "(39, 0.4719933572411536, 0.5422979593276978)\n",
      "(40, 0.47188049644231816, 0.5438714623451233)\n",
      "(41, 0.4719608265161514, 0.542931318283081)\n",
      "(42, 0.47199868470430373, 0.5459939241409302)\n",
      "(43, 0.47130932807922366, 0.5413843989372253)\n",
      "(44, 0.47139204382896444, 0.5449773073196411)\n",
      "(45, 0.4714158555865289, 0.5418263673782349)\n",
      "(46, 0.4711607888340952, 0.5454486608505249)\n",
      "(47, 0.4713181281089782, 0.5447027683258057)\n",
      "(48, 0.47157097041606905, 0.5424429774284363)\n",
      "(49, 0.47182830899953837, 0.5418267846107483)\n",
      "(50, 0.4707834818959238, 0.5431171655654907)\n",
      "(51, 0.47120586812496185, 0.544579267501831)\n",
      "(52, 0.4715912872552871, 0.5422946214675903)\n",
      "(53, 0.4714403092861176, 0.5443274974822998)\n",
      "(54, 0.47135824799537657, 0.5422785878181458)\n",
      "(55, 0.4708350357413292, 0.5453062653541565)\n",
      "(56, 0.47140047788620004, 0.5457543730735779)\n",
      "(57, 0.47175535768270493, 0.544130265712738)\n",
      "(58, 0.47109529197216027, 0.5423707365989685)\n",
      "(59, 0.4716861525177955, 0.5414075255393982)\n",
      "(60, 0.47135543763637533, 0.5425213575363159)\n",
      "(61, 0.4715880820155143, 0.5418663024902344)\n",
      "(62, 0.4707236856222152, 0.5420998334884644)\n",
      "(63, 0.47085655391216286, 0.5431121587753296)\n",
      "(64, 0.4709347581863403, 0.544443666934967)\n",
      "(65, 0.47136010169982884, 0.5430378913879395)\n",
      "(66, 0.47053827196359654, 0.5433259010314941)\n",
      "(67, 0.4715155410766601, 0.5423936247825623)\n",
      "(68, 0.47132962167263037, 0.5426772236824036)\n",
      "(69, 0.47122691214084617, 0.5434257388114929)\n",
      "(70, 0.47127425998449324, 0.5440461039543152)\n",
      "(71, 0.47117205232381815, 0.5423924922943115)\n",
      "(72, 0.47064515054225914, 0.5419502854347229)\n",
      "(73, 0.47075927525758743, 0.541616678237915)\n",
      "(74, 0.47114300340414045, 0.5415579676628113)\n",
      "(75, 0.471265822649002, 0.5421146750450134)\n",
      "(76, 0.4712674981355666, 0.5411716103553772)\n",
      "(77, 0.4714677417278289, 0.5433744788169861)\n",
      "(78, 0.4701060512661933, 0.5438482761383057)\n",
      "(79, 0.47061233490705495, 0.5429458618164062)\n",
      "(80, 0.47096496194601056, 0.540210485458374)\n",
      "(81, 0.4707571068406103, 0.5438309907913208)\n",
      "(82, 0.4713890129327774, 0.542216420173645)\n",
      "(83, 0.4707164651155472, 0.5441794991493225)\n",
      "(84, 0.47110933691263174, 0.5458551049232483)\n",
      "(85, 0.47077234923839567, 0.5444221496582031)\n",
      "(86, 0.4709374678134918, 0.542975664138794)\n",
      "(87, 0.4714474719762803, 0.5453274846076965)\n",
      "(88, 0.47088151395320904, 0.5432180762290955)\n",
      "(89, 0.4707997703552245, 0.5421456098556519)\n",
      "(90, 0.47059619456529606, 0.5428184866905212)\n",
      "(91, 0.4709540808200836, 0.5421599745750427)\n",
      "(92, 0.47072660863399496, 0.5444676876068115)\n",
      "(93, 0.4702412766218184, 0.5447056889533997)\n",
      "(94, 0.4711934104561806, 0.542828381061554)\n",
      "(95, 0.4709090077877044, 0.5422670841217041)\n",
      "(96, 0.47074660211801533, 0.5434568524360657)\n",
      "(97, 0.47088717192411433, 0.5453421473503113)\n",
      "(98, 0.47106617391109495, 0.5437278747558594)\n",
      "(99, 0.4707367375493047, 0.5424514412879944)\n",
      "(100, 0.4707693377137184, 0.5442391037940979)\n"
     ]
    }
   ],
   "source": [
    "losses = []\n",
    "valid_losses = []\n",
    "\n",
    "for epoch in range(100):\n",
    "    running_loss = 0\n",
    "    for context, target in data_loader:\n",
    "        \n",
    "        model.zero_grad()\n",
    "        \n",
    "        prob = model(context)\n",
    "        \n",
    "        loss = loss_function(prob, target)\n",
    "        loss.backward()\n",
    "        optimizer.step()\n",
    "        \n",
    "        running_loss += loss.item()/100.\n",
    "    \n",
    "    valid_pred = model(valid_tensors)\n",
    "    valid_loss = loss_function(valid_pred,valid_labels).item()\n",
    "    losses.append(running_loss)\n",
    "    valid_losses.append(valid_loss)\n",
    "    print(f'{epoch+1, running_loss, valid_loss}')"
   ]
  },
  {
   "cell_type": "code",
   "execution_count": 69,
   "metadata": {},
   "outputs": [
    {
     "data": {
      "image/png": "[encoded data removed]",
      "text/plain": [
       "<Figure size 432x288 with 1 Axes>"
      ]
     },
     "metadata": {
      "needs_background": "light"
     },
     "output_type": "display_data"
    }
   ],
   "source": [
    "plt.plot(losses, label='Training Loss');\n",
    "plt.plot(valid_losses, label='Validation Loss');\n",
    "plt.legend();"
   ]
  },
  {
   "cell_type": "code",
   "execution_count": 111,
   "metadata": {},
   "outputs": [],
   "source": [
    "# predicted label for test\n",
    "model.train = False\n",
    "predictions = model(test_tensors).detach().numpy()\n",
    "predictions = np.array(list(map(lambda x: np.argmax(x), predictions)))"
   ]
  },
  {
   "cell_type": "code",
   "execution_count": 112,
   "metadata": {},
   "outputs": [],
   "source": [
    "# true label of test\n",
    "test_labels = np.array(test_labels)  "
   ]
  },
  {
   "cell_type": "code",
   "execution_count": 113,
   "metadata": {},
   "outputs": [
    {
     "data": {
      "text/plain": [
       "0.49988"
      ]
     },
     "execution_count": 113,
     "metadata": {},
     "output_type": "execute_result"
    }
   ],
   "source": [
    "# prediction accuracy\n",
    "precision = len(test_labels[test_labels==predictions]) / len(test_labels)\n",
    "precision"
   ]
  },
  {
   "cell_type": "markdown",
   "metadata": {},
   "source": [
    "## 4. Use 5 topics"
   ]
  },
  {
   "cell_type": "markdown",
   "metadata": {},
   "source": [
    "### (1) LDA - base model with 'batch' method (5)\n",
    "- Generate an array of topic distributions as an encoding for both training and test datasets."
   ]
  },
  {
   "cell_type": "code",
   "execution_count": 114,
   "metadata": {},
   "outputs": [],
   "source": [
    "n_components = 5"
   ]
  },
  {
   "cell_type": "code",
   "execution_count": 115,
   "metadata": {},
   "outputs": [
    {
     "name": "stdout",
     "output_type": "stream",
     "text": [
      "iteration: 1 of max_iter: 100\n",
      "iteration: 2 of max_iter: 100\n",
      "iteration: 3 of max_iter: 100\n",
      "iteration: 4 of max_iter: 100\n",
      "iteration: 5 of max_iter: 100\n",
      "iteration: 6 of max_iter: 100\n",
      "iteration: 7 of max_iter: 100\n",
      "iteration: 8 of max_iter: 100\n",
      "iteration: 9 of max_iter: 100\n",
      "iteration: 10 of max_iter: 100, perplexity: 2014.9149\n",
      "iteration: 11 of max_iter: 100\n",
      "iteration: 12 of max_iter: 100\n",
      "iteration: 13 of max_iter: 100\n",
      "iteration: 14 of max_iter: 100\n",
      "iteration: 15 of max_iter: 100\n",
      "iteration: 16 of max_iter: 100\n",
      "iteration: 17 of max_iter: 100\n",
      "iteration: 18 of max_iter: 100\n",
      "iteration: 19 of max_iter: 100\n",
      "iteration: 20 of max_iter: 100, perplexity: 2013.5109\n",
      "iteration: 21 of max_iter: 100\n",
      "iteration: 22 of max_iter: 100\n",
      "iteration: 23 of max_iter: 100\n",
      "iteration: 24 of max_iter: 100\n",
      "iteration: 25 of max_iter: 100\n",
      "iteration: 26 of max_iter: 100\n",
      "iteration: 27 of max_iter: 100\n",
      "iteration: 28 of max_iter: 100\n",
      "iteration: 29 of max_iter: 100\n",
      "iteration: 30 of max_iter: 100, perplexity: 2013.1869\n",
      "iteration: 31 of max_iter: 100\n",
      "iteration: 32 of max_iter: 100\n",
      "iteration: 33 of max_iter: 100\n",
      "iteration: 34 of max_iter: 100\n",
      "iteration: 35 of max_iter: 100\n",
      "iteration: 36 of max_iter: 100\n",
      "iteration: 37 of max_iter: 100\n",
      "iteration: 38 of max_iter: 100\n",
      "iteration: 39 of max_iter: 100\n",
      "iteration: 40 of max_iter: 100, perplexity: 2012.7229\n",
      "iteration: 41 of max_iter: 100\n",
      "iteration: 42 of max_iter: 100\n",
      "iteration: 43 of max_iter: 100\n",
      "iteration: 44 of max_iter: 100\n",
      "iteration: 45 of max_iter: 100\n",
      "iteration: 46 of max_iter: 100\n",
      "iteration: 47 of max_iter: 100\n",
      "iteration: 48 of max_iter: 100\n",
      "iteration: 49 of max_iter: 100\n",
      "iteration: 50 of max_iter: 100, perplexity: 2010.8431\n",
      "iteration: 51 of max_iter: 100\n",
      "iteration: 52 of max_iter: 100\n",
      "iteration: 53 of max_iter: 100\n",
      "iteration: 54 of max_iter: 100\n",
      "iteration: 55 of max_iter: 100\n",
      "iteration: 56 of max_iter: 100\n",
      "iteration: 57 of max_iter: 100\n",
      "iteration: 58 of max_iter: 100\n",
      "iteration: 59 of max_iter: 100\n",
      "iteration: 60 of max_iter: 100, perplexity: 2003.7285\n",
      "iteration: 61 of max_iter: 100\n",
      "iteration: 62 of max_iter: 100\n",
      "iteration: 63 of max_iter: 100\n",
      "iteration: 64 of max_iter: 100\n",
      "iteration: 65 of max_iter: 100\n",
      "iteration: 66 of max_iter: 100\n",
      "iteration: 67 of max_iter: 100\n",
      "iteration: 68 of max_iter: 100\n",
      "iteration: 69 of max_iter: 100\n",
      "iteration: 70 of max_iter: 100, perplexity: 2000.8933\n",
      "iteration: 71 of max_iter: 100\n",
      "iteration: 72 of max_iter: 100\n",
      "iteration: 73 of max_iter: 100\n",
      "iteration: 74 of max_iter: 100\n",
      "iteration: 75 of max_iter: 100\n",
      "iteration: 76 of max_iter: 100\n",
      "iteration: 77 of max_iter: 100\n",
      "iteration: 78 of max_iter: 100\n",
      "iteration: 79 of max_iter: 100\n",
      "iteration: 80 of max_iter: 100, perplexity: 2000.2347\n",
      "iteration: 81 of max_iter: 100\n",
      "iteration: 82 of max_iter: 100\n",
      "iteration: 83 of max_iter: 100\n",
      "iteration: 84 of max_iter: 100\n",
      "iteration: 85 of max_iter: 100\n",
      "iteration: 86 of max_iter: 100\n",
      "iteration: 87 of max_iter: 100\n",
      "iteration: 88 of max_iter: 100\n",
      "iteration: 89 of max_iter: 100\n",
      "iteration: 90 of max_iter: 100, perplexity: 2000.1084\n",
      "iteration: 91 of max_iter: 100\n",
      "iteration: 92 of max_iter: 100\n",
      "iteration: 93 of max_iter: 100\n",
      "iteration: 94 of max_iter: 100\n",
      "iteration: 95 of max_iter: 100\n",
      "iteration: 96 of max_iter: 100\n",
      "iteration: 97 of max_iter: 100\n",
      "iteration: 98 of max_iter: 100\n",
      "iteration: 99 of max_iter: 100\n",
      "iteration: 100 of max_iter: 100, perplexity: 1999.9724\n"
     ]
    },
    {
     "data": {
      "text/plain": [
       "LatentDirichletAllocation(batch_size=128, doc_topic_prior=None,\n",
       "             evaluate_every=10, learning_decay=0.7,\n",
       "             learning_method='batch', learning_offset=10.0,\n",
       "             max_doc_update_iter=100, max_iter=100, mean_change_tol=0.001,\n",
       "             n_components=5, n_jobs=-1, n_topics=None, perp_tol=0.1,\n",
       "             random_state=None, topic_word_prior=None,\n",
       "             total_samples=1000000.0, verbose=1)"
      ]
     },
     "execution_count": 115,
     "metadata": {},
     "output_type": "execute_result"
    }
   ],
   "source": [
    "lda_base = LatentDirichletAllocation(n_components = n_components,\n",
    "                                     learning_method = 'batch',\n",
    "                                     max_iter = 100,\n",
    "                                     evaluate_every=10,\n",
    "                                     verbose = 1,\n",
    "                                     n_jobs = -1) # use all processors\n",
    "lda_base.fit(all_dtm)"
   ]
  },
  {
   "cell_type": "code",
   "execution_count": 116,
   "metadata": {},
   "outputs": [
    {
     "data": {
      "text/plain": [
       "(5, 1640)"
      ]
     },
     "execution_count": 116,
     "metadata": {},
     "output_type": "execute_result"
    }
   ],
   "source": [
    "topics_count = lda_base.components_\n",
    "topics_count.shape"
   ]
  },
  {
   "cell_type": "code",
   "execution_count": 117,
   "metadata": {},
   "outputs": [],
   "source": [
    "topics_prob = topics_count/topics_count.sum(axis=1).reshape(-1,1)"
   ]
  },
  {
   "cell_type": "code",
   "execution_count": 118,
   "metadata": {},
   "outputs": [],
   "source": [
    "thetas = lda_base.transform(all_dtm)"
   ]
  },
  {
   "cell_type": "code",
   "execution_count": 119,
   "metadata": {},
   "outputs": [],
   "source": [
    "all_encoding = thetas @ topics_prob"
   ]
  },
  {
   "cell_type": "code",
   "execution_count": 120,
   "metadata": {},
   "outputs": [],
   "source": [
    "train_encoding = all_encoding[:25000]\n",
    "test_encoding = all_encoding[25000:]"
   ]
  },
  {
   "cell_type": "code",
   "execution_count": 121,
   "metadata": {},
   "outputs": [
    {
     "data": {
      "text/plain": [
       "((25000, 1640), (25000, 1640), (50000, 1640))"
      ]
     },
     "execution_count": 121,
     "metadata": {},
     "output_type": "execute_result"
    }
   ],
   "source": [
    "train_encoding.shape, test_encoding.shape, all_encoding.shape"
   ]
  },
  {
   "cell_type": "code",
   "execution_count": 122,
   "metadata": {},
   "outputs": [
    {
     "data": {
      "text/plain": [
       "array([0.00150791, 0.00020592, 0.00025215, ..., 0.00053598, 0.00016005,\n",
       "       0.00029668])"
      ]
     },
     "execution_count": 122,
     "metadata": {},
     "output_type": "execute_result"
    }
   ],
   "source": [
    "train_encoding[0]"
   ]
  },
  {
   "cell_type": "markdown",
   "metadata": {},
   "source": [
    "### (2) Classification Neural Net (5)\n",
    "- Write a neural network with several layers with different activation functions \n",
    "- Use the encoding from the topic distributions from LDA to train the Classification Neural Network using training data and evaluate the model using test data.\n",
    "- Note: fit the model using Cross Entropy loss function, and the Adam optimizer"
   ]
  },
  {
   "cell_type": "code",
   "execution_count": 126,
   "metadata": {},
   "outputs": [],
   "source": [
    "# training data: split into train & valid\n",
    "train_set, valid_set, train_labels, valid_labels = train_test_split(train_encoding, train_labels_data, \n",
    "                                                                    test_size=0.1, shuffle=True)"
   ]
  },
  {
   "cell_type": "code",
   "execution_count": 127,
   "metadata": {},
   "outputs": [],
   "source": [
    "train_tensors = torch.Tensor(train_set)\n",
    "valid_tensors = torch.Tensor(valid_set)\n",
    "\n",
    "train_labels = torch.LongTensor(train_labels)\n",
    "valid_labels = torch.LongTensor(valid_labels)"
   ]
  },
  {
   "cell_type": "code",
   "execution_count": 128,
   "metadata": {},
   "outputs": [
    {
     "data": {
      "text/plain": [
       "(torch.Size([22500, 1640]), torch.Size([2500, 1640]))"
      ]
     },
     "execution_count": 128,
     "metadata": {},
     "output_type": "execute_result"
    }
   ],
   "source": [
    "train_tensors.shape, valid_tensors.shape"
   ]
  },
  {
   "cell_type": "code",
   "execution_count": 129,
   "metadata": {},
   "outputs": [],
   "source": [
    "# test data\n",
    "test_tensors = torch.Tensor(test_encoding)"
   ]
  },
  {
   "cell_type": "code",
   "execution_count": 130,
   "metadata": {},
   "outputs": [
    {
     "data": {
      "text/plain": [
       "torch.Size([25000, 1640])"
      ]
     },
     "execution_count": 130,
     "metadata": {},
     "output_type": "execute_result"
    }
   ],
   "source": [
    "test_tensors.shape"
   ]
  },
  {
   "cell_type": "code",
   "execution_count": 131,
   "metadata": {},
   "outputs": [],
   "source": [
    "class DropoutMovieReviewClassifier(nn.Module):\n",
    "    \n",
    "    def __init__(self, vocab_size, embedding_dim):\n",
    "        super().__init__()\n",
    "        self.vocab_size = vocab_size\n",
    "        self.embedding_dim = embedding_dim\n",
    "        \n",
    "        self.fc0 = nn.Linear(self.vocab_size, self.embedding_dim)\n",
    "        self.fc1 = nn.Linear(self.embedding_dim, 50)\n",
    "        self.fc2 = nn.Linear(50, 2)\n",
    "        self.relu = nn.ReLU()      \n",
    "        self.dropout_0 = nn.Dropout(0.6)\n",
    "        self.dropout_1 = nn.Dropout(0.5)\n",
    "        \n",
    "    def forward(self, inputs):\n",
    "        out = self.fc0(inputs)\n",
    "        out = self.dropout_0(out)\n",
    "        \n",
    "        out = self.relu(out)\n",
    "        out = self.fc1(out)\n",
    "        out = self.dropout_1(out)\n",
    "        \n",
    "        out = self.relu(out)\n",
    "        out = self.fc2(out)\n",
    "        \n",
    "        prob = torch.softmax(out, 1)   \n",
    "        return prob"
   ]
  },
  {
   "cell_type": "code",
   "execution_count": 132,
   "metadata": {},
   "outputs": [],
   "source": [
    "model = DropoutMovieReviewClassifier(vocab_size=len(vectorizer.vocabulary_), embedding_dim=64)"
   ]
  },
  {
   "cell_type": "code",
   "execution_count": 133,
   "metadata": {},
   "outputs": [],
   "source": [
    "loss_function = nn.CrossEntropyLoss()\n",
    "optimizer = optim.Adam(model.parameters(), lr=0.001)     # use Adam optimizer"
   ]
  },
  {
   "cell_type": "code",
   "execution_count": 134,
   "metadata": {},
   "outputs": [],
   "source": [
    "train_set = TensorDataset(train_tensors, train_labels)\n",
    "valid_set = TensorDataset(valid_tensors, valid_labels)"
   ]
  },
  {
   "cell_type": "code",
   "execution_count": 135,
   "metadata": {},
   "outputs": [],
   "source": [
    "data_loader = DataLoader(train_set, batch_size=256)"
   ]
  },
  {
   "cell_type": "code",
   "execution_count": 136,
   "metadata": {},
   "outputs": [
    {
     "data": {
      "text/plain": [
       "88"
      ]
     },
     "execution_count": 136,
     "metadata": {},
     "output_type": "execute_result"
    }
   ],
   "source": [
    "len(data_loader)"
   ]
  },
  {
   "cell_type": "code",
   "execution_count": 137,
   "metadata": {},
   "outputs": [
    {
     "data": {
      "text/plain": [
       "tensor(0.6923, grad_fn=<NllLossBackward>)"
      ]
     },
     "execution_count": 137,
     "metadata": {},
     "output_type": "execute_result"
    }
   ],
   "source": [
    "batch = next(iter(data_loader))\n",
    "# batch\n",
    "# batch[0]   # the input features\n",
    "# batch[1]   # the labels\n",
    "# model(batch[0])  # the output probs for each label from the NN model\n",
    "loss_function(model(batch[0]), batch[1])  # the loss computed for this batch"
   ]
  },
  {
   "cell_type": "code",
   "execution_count": 138,
   "metadata": {},
   "outputs": [
    {
     "name": "stdout",
     "output_type": "stream",
     "text": [
      "(1, 0.6052886319160462, 0.6682671308517456)\n",
      "(2, 0.5403685456514359, 0.580305814743042)\n",
      "(3, 0.499920790195465, 0.5677986145019531)\n",
      "(4, 0.4932781469821931, 0.5650897026062012)\n",
      "(5, 0.4901494562625884, 0.5634192228317261)\n",
      "(6, 0.4886767303943633, 0.5641675591468811)\n",
      "(7, 0.4887469854950904, 0.5616903305053711)\n",
      "(8, 0.4869280940294265, 0.562683641910553)\n",
      "(9, 0.4865537577867509, 0.559740424156189)\n",
      "(10, 0.4865375363826752, 0.5599561929702759)\n",
      "(11, 0.48604884922504443, 0.5630185604095459)\n",
      "(12, 0.4859671080112458, 0.5600020289421082)\n",
      "(13, 0.4846315184235574, 0.5604970455169678)\n",
      "(14, 0.48543724596500404, 0.5608579516410828)\n",
      "(15, 0.48536373019218454, 0.5622210502624512)\n",
      "(16, 0.48492009729146934, 0.5607587695121765)\n",
      "(17, 0.48536528259515765, 0.5602861046791077)\n",
      "(18, 0.4852355968952178, 0.5600785613059998)\n",
      "(19, 0.48454621672630316, 0.5607052445411682)\n",
      "(20, 0.48467173695564286, 0.5582805871963501)\n",
      "(21, 0.4845355987548831, 0.5586020946502686)\n",
      "(22, 0.4842129695415495, 0.5603294968605042)\n",
      "(23, 0.4842389813065528, 0.5603123903274536)\n",
      "(24, 0.4841571703553199, 0.5603310465812683)\n",
      "(25, 0.4840351656079291, 0.5584448575973511)\n",
      "(26, 0.48384126603603345, 0.5601384043693542)\n",
      "(27, 0.48411496877670296, 0.559116005897522)\n",
      "(28, 0.4841903871297835, 0.5587918758392334)\n",
      "(29, 0.48382329374551764, 0.5587822198867798)\n",
      "(30, 0.483884579539299, 0.5580416321754456)\n",
      "(31, 0.48353958308696754, 0.5587169528007507)\n",
      "(32, 0.48384262770414344, 0.5569263100624084)\n",
      "(33, 0.4837185421586037, 0.5580845475196838)\n",
      "(34, 0.4837786787748336, 0.5597914457321167)\n",
      "(35, 0.4836928388476371, 0.5593109726905823)\n",
      "(36, 0.4836346316337586, 0.5582160353660583)\n",
      "(37, 0.48364318162202846, 0.5578106045722961)\n",
      "(38, 0.4838800197839736, 0.5561597943305969)\n",
      "(39, 0.48370422422885906, 0.5572737455368042)\n",
      "(40, 0.48322475165128725, 0.5567185282707214)\n",
      "(41, 0.48341949373483656, 0.5584269762039185)\n",
      "(42, 0.4832064372301103, 0.5595896244049072)\n",
      "(43, 0.48340078532695774, 0.5571005344390869)\n",
      "(44, 0.48297653764486326, 0.559136152267456)\n",
      "(45, 0.48297702759504313, 0.559288501739502)\n",
      "(46, 0.48279303997755035, 0.5576742887496948)\n",
      "(47, 0.4834034937620164, 0.5578926205635071)\n",
      "(48, 0.4832728689908981, 0.5568851828575134)\n",
      "(49, 0.48360941320657724, 0.5600428581237793)\n",
      "(50, 0.4834696662425993, 0.5571255087852478)\n",
      "(51, 0.4836455881595612, 0.5568844676017761)\n",
      "(52, 0.4830022379755975, 0.5576475858688354)\n",
      "(53, 0.48327800869941717, 0.5578460097312927)\n",
      "(54, 0.4828936037421227, 0.5579049587249756)\n",
      "(55, 0.483130656182766, 0.5568390488624573)\n",
      "(56, 0.4831613060832023, 0.5578606724739075)\n",
      "(57, 0.4831087055802345, 0.5578371286392212)\n",
      "(58, 0.48311443299055107, 0.5566580295562744)\n",
      "(59, 0.4832370245456697, 0.5585902333259583)\n",
      "(60, 0.48291698187589643, 0.5571649074554443)\n",
      "(61, 0.4830069613456725, 0.5573174953460693)\n",
      "(62, 0.4834415259957313, 0.5574204921722412)\n",
      "(63, 0.4832116982340812, 0.5582780838012695)\n",
      "(64, 0.48340631365776066, 0.5562823414802551)\n",
      "(65, 0.48313861012458803, 0.5575161576271057)\n",
      "(66, 0.48317024320364, 0.5556193590164185)\n",
      "(67, 0.4831991252303124, 0.5573139786720276)\n",
      "(68, 0.483081668317318, 0.5571905374526978)\n",
      "(69, 0.4830666598677636, 0.5573397874832153)\n",
      "(70, 0.4827902451157568, 0.5562861561775208)\n",
      "(71, 0.48302646934986104, 0.5576208233833313)\n",
      "(72, 0.4830562719702721, 0.5570031404495239)\n",
      "(73, 0.48291332185268404, 0.5561949014663696)\n",
      "(74, 0.48330480545759197, 0.5597754120826721)\n",
      "(75, 0.4831776323914528, 0.5589478611946106)\n",
      "(76, 0.4829030430316924, 0.5573441982269287)\n",
      "(77, 0.4830376914143562, 0.5580412745475769)\n",
      "(78, 0.4827938413619993, 0.5581539273262024)\n",
      "(79, 0.48295799732208244, 0.5583619475364685)\n",
      "(80, 0.4827727854251861, 0.5579686164855957)\n",
      "(81, 0.48291676610708223, 0.5570542216300964)\n",
      "(82, 0.48286624133586875, 0.5574244260787964)\n",
      "(83, 0.48258639216423027, 0.5575963854789734)\n",
      "(84, 0.4836321699619293, 0.5555564165115356)\n",
      "(85, 0.4830439585447311, 0.5584394335746765)\n",
      "(86, 0.4831065776944161, 0.5568767189979553)\n",
      "(87, 0.483349424302578, 0.5570558309555054)\n",
      "(88, 0.4831905987858772, 0.5574500560760498)\n",
      "(89, 0.48343655407428754, 0.5574609041213989)\n",
      "(90, 0.4830101504921913, 0.5571781992912292)\n",
      "(91, 0.48302987873554243, 0.5580872893333435)\n",
      "(92, 0.4827999010682106, 0.557479739189148)\n",
      "(93, 0.48270860552787764, 0.5575703382492065)\n",
      "(94, 0.4829861626029015, 0.557765007019043)\n",
      "(95, 0.48293415158987046, 0.5568696856498718)\n",
      "(96, 0.48248256653547306, 0.558400571346283)\n",
      "(97, 0.4829352486133575, 0.5575111508369446)\n",
      "(98, 0.48273699462413805, 0.5584630370140076)\n",
      "(99, 0.4832486560940744, 0.5585410594940186)\n",
      "(100, 0.4830120313167571, 0.5566703081130981)\n"
     ]
    }
   ],
   "source": [
    "losses = []\n",
    "valid_losses = []\n",
    "\n",
    "for epoch in range(100):\n",
    "    running_loss = 0\n",
    "    for context, target in data_loader:\n",
    "        \n",
    "        model.zero_grad()\n",
    "        \n",
    "        prob = model(context)\n",
    "        \n",
    "        loss = loss_function(prob, target)\n",
    "        loss.backward()\n",
    "        optimizer.step()\n",
    "        \n",
    "        running_loss += loss.item()/100.\n",
    "    \n",
    "    valid_pred = model(valid_tensors)\n",
    "    valid_loss = loss_function(valid_pred,valid_labels).item()\n",
    "    losses.append(running_loss)\n",
    "    valid_losses.append(valid_loss)\n",
    "    print(f'{epoch+1, running_loss, valid_loss}')"
   ]
  },
  {
   "cell_type": "code",
   "execution_count": 139,
   "metadata": {},
   "outputs": [
    {
     "data": {
      "image/png": "[encoded data removed]",
      "text/plain": [
       "<Figure size 432x288 with 1 Axes>"
      ]
     },
     "metadata": {
      "needs_background": "light"
     },
     "output_type": "display_data"
    }
   ],
   "source": [
    "plt.plot(losses, label='Training Loss');\n",
    "plt.plot(valid_losses, label='Validation Loss');\n",
    "plt.legend();"
   ]
  },
  {
   "cell_type": "code",
   "execution_count": 140,
   "metadata": {},
   "outputs": [],
   "source": [
    "# predicted label for test\n",
    "model.train = False\n",
    "predictions = model(test_tensors).detach().numpy()\n",
    "predictions = np.array(list(map(lambda x: np.argmax(x), predictions)))"
   ]
  },
  {
   "cell_type": "code",
   "execution_count": 141,
   "metadata": {},
   "outputs": [],
   "source": [
    "# true label of test\n",
    "test_labels = np.array(test_labels)  "
   ]
  },
  {
   "cell_type": "code",
   "execution_count": 142,
   "metadata": {},
   "outputs": [
    {
     "data": {
      "text/plain": [
       "0.75488"
      ]
     },
     "execution_count": 142,
     "metadata": {},
     "output_type": "execute_result"
    }
   ],
   "source": [
    "# prediction accuracy\n",
    "precision = len(test_labels[test_labels==predictions]) / len(test_labels)\n",
    "precision"
   ]
  },
  {
   "cell_type": "markdown",
   "metadata": {},
   "source": [
    "## 5. Use 6 topics"
   ]
  },
  {
   "cell_type": "markdown",
   "metadata": {},
   "source": [
    "### (1) LDA - base model with 'batch' method (6)\n",
    "- Generate an array of topic distributions as an encoding for both training and test datasets."
   ]
  },
  {
   "cell_type": "code",
   "execution_count": 143,
   "metadata": {},
   "outputs": [],
   "source": [
    "n_components = 6"
   ]
  },
  {
   "cell_type": "code",
   "execution_count": 144,
   "metadata": {},
   "outputs": [
    {
     "name": "stdout",
     "output_type": "stream",
     "text": [
      "iteration: 1 of max_iter: 100\n",
      "iteration: 2 of max_iter: 100\n",
      "iteration: 3 of max_iter: 100\n",
      "iteration: 4 of max_iter: 100\n",
      "iteration: 5 of max_iter: 100\n",
      "iteration: 6 of max_iter: 100\n",
      "iteration: 7 of max_iter: 100\n",
      "iteration: 8 of max_iter: 100\n",
      "iteration: 9 of max_iter: 100\n",
      "iteration: 10 of max_iter: 100, perplexity: 2120.6760\n",
      "iteration: 11 of max_iter: 100\n",
      "iteration: 12 of max_iter: 100\n",
      "iteration: 13 of max_iter: 100\n",
      "iteration: 14 of max_iter: 100\n",
      "iteration: 15 of max_iter: 100\n",
      "iteration: 16 of max_iter: 100\n",
      "iteration: 17 of max_iter: 100\n",
      "iteration: 18 of max_iter: 100\n",
      "iteration: 19 of max_iter: 100\n",
      "iteration: 20 of max_iter: 100, perplexity: 2113.5614\n",
      "iteration: 21 of max_iter: 100\n",
      "iteration: 22 of max_iter: 100\n",
      "iteration: 23 of max_iter: 100\n",
      "iteration: 24 of max_iter: 100\n",
      "iteration: 25 of max_iter: 100\n",
      "iteration: 26 of max_iter: 100\n",
      "iteration: 27 of max_iter: 100\n",
      "iteration: 28 of max_iter: 100\n",
      "iteration: 29 of max_iter: 100\n",
      "iteration: 30 of max_iter: 100, perplexity: 2110.9272\n",
      "iteration: 31 of max_iter: 100\n",
      "iteration: 32 of max_iter: 100\n",
      "iteration: 33 of max_iter: 100\n",
      "iteration: 34 of max_iter: 100\n",
      "iteration: 35 of max_iter: 100\n",
      "iteration: 36 of max_iter: 100\n",
      "iteration: 37 of max_iter: 100\n",
      "iteration: 38 of max_iter: 100\n",
      "iteration: 39 of max_iter: 100\n",
      "iteration: 40 of max_iter: 100, perplexity: 2110.3001\n",
      "iteration: 41 of max_iter: 100\n",
      "iteration: 42 of max_iter: 100\n",
      "iteration: 43 of max_iter: 100\n",
      "iteration: 44 of max_iter: 100\n",
      "iteration: 45 of max_iter: 100\n",
      "iteration: 46 of max_iter: 100\n",
      "iteration: 47 of max_iter: 100\n",
      "iteration: 48 of max_iter: 100\n",
      "iteration: 49 of max_iter: 100\n",
      "iteration: 50 of max_iter: 100, perplexity: 2109.7210\n",
      "iteration: 51 of max_iter: 100\n",
      "iteration: 52 of max_iter: 100\n",
      "iteration: 53 of max_iter: 100\n",
      "iteration: 54 of max_iter: 100\n",
      "iteration: 55 of max_iter: 100\n",
      "iteration: 56 of max_iter: 100\n",
      "iteration: 57 of max_iter: 100\n",
      "iteration: 58 of max_iter: 100\n",
      "iteration: 59 of max_iter: 100\n",
      "iteration: 60 of max_iter: 100, perplexity: 2109.6561\n"
     ]
    },
    {
     "data": {
      "text/plain": [
       "LatentDirichletAllocation(batch_size=128, doc_topic_prior=None,\n",
       "             evaluate_every=10, learning_decay=0.7,\n",
       "             learning_method='batch', learning_offset=10.0,\n",
       "             max_doc_update_iter=100, max_iter=100, mean_change_tol=0.001,\n",
       "             n_components=6, n_jobs=-1, n_topics=None, perp_tol=0.1,\n",
       "             random_state=None, topic_word_prior=None,\n",
       "             total_samples=1000000.0, verbose=1)"
      ]
     },
     "execution_count": 144,
     "metadata": {},
     "output_type": "execute_result"
    }
   ],
   "source": [
    "lda_base = LatentDirichletAllocation(n_components = n_components,\n",
    "                                     learning_method = 'batch',\n",
    "                                     max_iter = 100,\n",
    "                                     evaluate_every=10,\n",
    "                                     verbose = 1,\n",
    "                                     n_jobs = -1) # use all processors\n",
    "lda_base.fit(all_dtm)"
   ]
  },
  {
   "cell_type": "code",
   "execution_count": 145,
   "metadata": {},
   "outputs": [
    {
     "data": {
      "text/plain": [
       "(6, 1640)"
      ]
     },
     "execution_count": 145,
     "metadata": {},
     "output_type": "execute_result"
    }
   ],
   "source": [
    "topics_count = lda_base.components_\n",
    "topics_count.shape"
   ]
  },
  {
   "cell_type": "code",
   "execution_count": 146,
   "metadata": {},
   "outputs": [],
   "source": [
    "topics_prob = topics_count/topics_count.sum(axis=1).reshape(-1,1)"
   ]
  },
  {
   "cell_type": "code",
   "execution_count": 147,
   "metadata": {},
   "outputs": [],
   "source": [
    "thetas = lda_base.transform(all_dtm)"
   ]
  },
  {
   "cell_type": "code",
   "execution_count": 148,
   "metadata": {},
   "outputs": [],
   "source": [
    "all_encoding = thetas @ topics_prob"
   ]
  },
  {
   "cell_type": "code",
   "execution_count": 149,
   "metadata": {},
   "outputs": [],
   "source": [
    "train_encoding = all_encoding[:25000]\n",
    "test_encoding = all_encoding[25000:]"
   ]
  },
  {
   "cell_type": "code",
   "execution_count": 150,
   "metadata": {},
   "outputs": [
    {
     "data": {
      "text/plain": [
       "((25000, 1640), (25000, 1640), (50000, 1640))"
      ]
     },
     "execution_count": 150,
     "metadata": {},
     "output_type": "execute_result"
    }
   ],
   "source": [
    "train_encoding.shape, test_encoding.shape, all_encoding.shape"
   ]
  },
  {
   "cell_type": "code",
   "execution_count": 151,
   "metadata": {},
   "outputs": [
    {
     "data": {
      "text/plain": [
       "array([3.10246778e-03, 7.16564598e-04, 3.89974772e-04, ...,\n",
       "       8.43699732e-04, 1.18413292e-04, 8.71837834e-05])"
      ]
     },
     "execution_count": 151,
     "metadata": {},
     "output_type": "execute_result"
    }
   ],
   "source": [
    "train_encoding[0]"
   ]
  },
  {
   "cell_type": "markdown",
   "metadata": {},
   "source": [
    "### (2) Classification Neural Net (6)\n",
    "- Write a neural network with several layers with different activation functions \n",
    "- Use the encoding from the topic distributions from LDA to train the Classification Neural Network using training data and evaluate the model using test data.\n",
    "- Note: fit the model using Cross Entropy loss function, and the Adam optimizer"
   ]
  },
  {
   "cell_type": "code",
   "execution_count": 152,
   "metadata": {},
   "outputs": [],
   "source": [
    "# training data: split into train & valid\n",
    "train_set, valid_set, train_labels, valid_labels = train_test_split(train_encoding, train_labels_data, \n",
    "                                                                    test_size=0.1, shuffle=True)"
   ]
  },
  {
   "cell_type": "code",
   "execution_count": 153,
   "metadata": {},
   "outputs": [],
   "source": [
    "train_tensors = torch.Tensor(train_set)\n",
    "valid_tensors = torch.Tensor(valid_set)\n",
    "\n",
    "train_labels = torch.LongTensor(train_labels)\n",
    "valid_labels = torch.LongTensor(valid_labels)"
   ]
  },
  {
   "cell_type": "code",
   "execution_count": 154,
   "metadata": {},
   "outputs": [
    {
     "data": {
      "text/plain": [
       "(torch.Size([22500, 1640]), torch.Size([2500, 1640]))"
      ]
     },
     "execution_count": 154,
     "metadata": {},
     "output_type": "execute_result"
    }
   ],
   "source": [
    "train_tensors.shape, valid_tensors.shape"
   ]
  },
  {
   "cell_type": "code",
   "execution_count": 155,
   "metadata": {},
   "outputs": [],
   "source": [
    "# test data\n",
    "test_tensors = torch.Tensor(test_encoding)"
   ]
  },
  {
   "cell_type": "code",
   "execution_count": 156,
   "metadata": {},
   "outputs": [
    {
     "data": {
      "text/plain": [
       "torch.Size([25000, 1640])"
      ]
     },
     "execution_count": 156,
     "metadata": {},
     "output_type": "execute_result"
    }
   ],
   "source": [
    "test_tensors.shape"
   ]
  },
  {
   "cell_type": "code",
   "execution_count": 157,
   "metadata": {},
   "outputs": [],
   "source": [
    "class DropoutMovieReviewClassifier(nn.Module):\n",
    "    \n",
    "    def __init__(self, vocab_size, embedding_dim):\n",
    "        super().__init__()\n",
    "        self.vocab_size = vocab_size\n",
    "        self.embedding_dim = embedding_dim\n",
    "        \n",
    "        self.fc0 = nn.Linear(self.vocab_size, self.embedding_dim)\n",
    "        self.fc1 = nn.Linear(self.embedding_dim, 50)\n",
    "        self.fc2 = nn.Linear(50, 2)\n",
    "        self.relu = nn.ReLU()      \n",
    "        self.dropout_0 = nn.Dropout(0.6)\n",
    "        self.dropout_1 = nn.Dropout(0.5)\n",
    "        \n",
    "    def forward(self, inputs):\n",
    "        out = self.fc0(inputs)\n",
    "        out = self.dropout_0(out)\n",
    "        \n",
    "        out = self.relu(out)\n",
    "        out = self.fc1(out)\n",
    "        out = self.dropout_1(out)\n",
    "        \n",
    "        out = self.relu(out)\n",
    "        out = self.fc2(out)\n",
    "        \n",
    "        prob = torch.softmax(out, 1)   \n",
    "        return prob"
   ]
  },
  {
   "cell_type": "code",
   "execution_count": 158,
   "metadata": {},
   "outputs": [],
   "source": [
    "model = DropoutMovieReviewClassifier(vocab_size=len(vectorizer.vocabulary_), embedding_dim=64)"
   ]
  },
  {
   "cell_type": "code",
   "execution_count": 159,
   "metadata": {},
   "outputs": [],
   "source": [
    "loss_function = nn.CrossEntropyLoss()\n",
    "optimizer = optim.Adam(model.parameters(), lr=0.001)     # use Adam optimizer"
   ]
  },
  {
   "cell_type": "code",
   "execution_count": 160,
   "metadata": {},
   "outputs": [],
   "source": [
    "train_set = TensorDataset(train_tensors, train_labels)\n",
    "valid_set = TensorDataset(valid_tensors, valid_labels)"
   ]
  },
  {
   "cell_type": "code",
   "execution_count": 161,
   "metadata": {},
   "outputs": [],
   "source": [
    "data_loader = DataLoader(train_set, batch_size=256)"
   ]
  },
  {
   "cell_type": "code",
   "execution_count": 162,
   "metadata": {},
   "outputs": [
    {
     "data": {
      "text/plain": [
       "88"
      ]
     },
     "execution_count": 162,
     "metadata": {},
     "output_type": "execute_result"
    }
   ],
   "source": [
    "len(data_loader)"
   ]
  },
  {
   "cell_type": "code",
   "execution_count": 163,
   "metadata": {},
   "outputs": [
    {
     "data": {
      "text/plain": [
       "tensor(0.6964, grad_fn=<NllLossBackward>)"
      ]
     },
     "execution_count": 163,
     "metadata": {},
     "output_type": "execute_result"
    }
   ],
   "source": [
    "batch = next(iter(data_loader))\n",
    "# batch\n",
    "# batch[0]   # the input features\n",
    "# batch[1]   # the labels\n",
    "# model(batch[0])  # the output probs for each label from the NN model\n",
    "loss_function(model(batch[0]), batch[1])  # the loss computed for this batch"
   ]
  },
  {
   "cell_type": "code",
   "execution_count": 164,
   "metadata": {},
   "outputs": [
    {
     "name": "stdout",
     "output_type": "stream",
     "text": [
      "(1, 0.60701467692852, 0.6779059171676636)\n",
      "(2, 0.5560256999731064, 0.5887598395347595)\n",
      "(3, 0.5092229366302489, 0.5721312761306763)\n",
      "(4, 0.5010752308368683, 0.5693526864051819)\n",
      "(5, 0.49641657471656797, 0.5676136016845703)\n",
      "(6, 0.4949499422311782, 0.5663478970527649)\n",
      "(7, 0.494926727414131, 0.5650187730789185)\n",
      "(8, 0.4942194926738739, 0.5601612329483032)\n",
      "(9, 0.4929244810342789, 0.5645074248313904)\n",
      "(10, 0.4919199359416959, 0.5633651614189148)\n",
      "(11, 0.49167075812816624, 0.5623024702072144)\n",
      "(12, 0.4916593575477599, 0.5631875991821289)\n",
      "(13, 0.49107300341129295, 0.5612450242042542)\n",
      "(14, 0.49030068010091793, 0.5613555312156677)\n",
      "(15, 0.49110421776771535, 0.5619827508926392)\n",
      "(16, 0.4904589694738388, 0.5600152611732483)\n",
      "(17, 0.4886917388439177, 0.5592461228370667)\n",
      "(18, 0.48998909831047044, 0.5634702444076538)\n",
      "(19, 0.4893537491559983, 0.5622383952140808)\n",
      "(20, 0.4898127657175063, 0.5612767934799194)\n",
      "(21, 0.4892180293798448, 0.5616015791893005)\n",
      "(22, 0.488867427110672, 0.5601691603660583)\n",
      "(23, 0.4889353686571123, 0.5612919330596924)\n",
      "(24, 0.4891602128744127, 0.559744119644165)\n",
      "(25, 0.4871601724624633, 0.5605524182319641)\n",
      "(26, 0.4881244134902954, 0.5610625743865967)\n",
      "(27, 0.4888579148054124, 0.5593833923339844)\n",
      "(28, 0.48822357416152956, 0.5595721006393433)\n",
      "(29, 0.48814050316810603, 0.558811604976654)\n",
      "(30, 0.4877614712715149, 0.5619838237762451)\n",
      "(31, 0.487650631070137, 0.5586540102958679)\n",
      "(32, 0.4874912083148958, 0.5604044198989868)\n",
      "(33, 0.48770573318004606, 0.5622813701629639)\n",
      "(34, 0.4878273320198059, 0.5620864033699036)\n",
      "(35, 0.48809547483921045, 0.5601525902748108)\n",
      "(36, 0.4871338737010954, 0.5599644184112549)\n",
      "(37, 0.4872009140253068, 0.560111939907074)\n",
      "(38, 0.48713227748870847, 0.5605055093765259)\n",
      "(39, 0.48761487185955027, 0.5597053170204163)\n",
      "(40, 0.48674811422824876, 0.5612457394599915)\n",
      "(41, 0.48758608877658843, 0.5605912804603577)\n",
      "(42, 0.48740976154804233, 0.5582466721534729)\n",
      "(43, 0.4866054064035417, 0.5585605502128601)\n",
      "(44, 0.4866695904731751, 0.5577207207679749)\n",
      "(45, 0.4875033599138258, 0.5598599314689636)\n",
      "(46, 0.48705076456069957, 0.5591692328453064)\n",
      "(47, 0.48628900408744824, 0.5589970946311951)\n",
      "(48, 0.48680681288242333, 0.5611256957054138)\n",
      "(49, 0.48678912162780763, 0.5586942434310913)\n",
      "(50, 0.4870791471004484, 0.5585352182388306)\n",
      "(51, 0.4869796639680861, 0.5610417127609253)\n",
      "(52, 0.48643783450126654, 0.5603633522987366)\n",
      "(53, 0.4868364197015762, 0.5591515302658081)\n",
      "(54, 0.4865599304437638, 0.5610913634300232)\n",
      "(55, 0.48661503672599804, 0.5586629509925842)\n",
      "(56, 0.48745664834976193, 0.5609930157661438)\n",
      "(57, 0.48632579267025006, 0.5590293407440186)\n",
      "(58, 0.4861279350519179, 0.5606371760368347)\n",
      "(59, 0.486566842198372, 0.5600727796554565)\n",
      "(60, 0.4862683004140854, 0.5584574937820435)\n",
      "(61, 0.4864665913581848, 0.5589718222618103)\n",
      "(62, 0.4865930289030076, 0.559952437877655)\n",
      "(63, 0.4861526757478713, 0.5600305795669556)\n",
      "(64, 0.4872384399175643, 0.5584936738014221)\n",
      "(65, 0.48669040620327003, 0.5578513741493225)\n",
      "(66, 0.48718209743499763, 0.560280978679657)\n",
      "(67, 0.4864189636707306, 0.5609737038612366)\n",
      "(68, 0.48622857391834273, 0.5594046711921692)\n",
      "(69, 0.48607278883457183, 0.5596719980239868)\n",
      "(70, 0.48661136865615845, 0.5598886013031006)\n",
      "(71, 0.4865662306547167, 0.5600507259368896)\n",
      "(72, 0.48629540085792544, 0.5597081780433655)\n",
      "(73, 0.48649151146411906, 0.5580610632896423)\n",
      "(74, 0.4869077634811401, 0.5591961145401001)\n",
      "(75, 0.48684948801994316, 0.5607060790061951)\n",
      "(76, 0.48643642067909254, 0.556817889213562)\n",
      "(77, 0.4861019551753998, 0.5600365996360779)\n",
      "(78, 0.4863602155447007, 0.5581568479537964)\n",
      "(79, 0.4863136327266691, 0.5594267845153809)\n",
      "(80, 0.4860305625200274, 0.5595415234565735)\n",
      "(81, 0.4865732914209365, 0.5582767128944397)\n",
      "(82, 0.486115956902504, 0.5587031841278076)\n",
      "(83, 0.4866110414266588, 0.5600318908691406)\n",
      "(84, 0.4868674647808076, 0.5594565272331238)\n",
      "(85, 0.4861262381076813, 0.5610271692276001)\n",
      "(86, 0.48612482011318214, 0.558782696723938)\n",
      "(87, 0.4860249680280686, 0.5566155314445496)\n",
      "(88, 0.485985575914383, 0.5589228272438049)\n",
      "(89, 0.48575551629066477, 0.5557752847671509)\n",
      "(90, 0.4856089049577712, 0.5590131282806396)\n",
      "(91, 0.48626305699348427, 0.5598092079162598)\n",
      "(92, 0.48628361403942116, 0.5583384037017822)\n",
      "(93, 0.48669078826904305, 0.5564478039741516)\n",
      "(94, 0.4860980790853501, 0.5596763491630554)\n",
      "(95, 0.4861931067705154, 0.5593963265419006)\n",
      "(96, 0.4857253128290176, 0.5593935251235962)\n",
      "(97, 0.48605019450187675, 0.5589621067047119)\n",
      "(98, 0.48685686111450216, 0.5567333698272705)\n",
      "(99, 0.4861630314588546, 0.5592808723449707)\n",
      "(100, 0.4863511502742766, 0.5596030950546265)\n"
     ]
    }
   ],
   "source": [
    "losses = []\n",
    "valid_losses = []\n",
    "\n",
    "for epoch in range(100):\n",
    "    running_loss = 0\n",
    "    for context, target in data_loader:\n",
    "        \n",
    "        model.zero_grad()\n",
    "        \n",
    "        prob = model(context)\n",
    "        \n",
    "        loss = loss_function(prob, target)\n",
    "        loss.backward()\n",
    "        optimizer.step()\n",
    "        \n",
    "        running_loss += loss.item()/100.\n",
    "    \n",
    "    valid_pred = model(valid_tensors)\n",
    "    valid_loss = loss_function(valid_pred,valid_labels).item()\n",
    "    losses.append(running_loss)\n",
    "    valid_losses.append(valid_loss)\n",
    "    print(f'{epoch+1, running_loss, valid_loss}')"
   ]
  },
  {
   "cell_type": "code",
   "execution_count": 165,
   "metadata": {},
   "outputs": [
    {
     "data": {
      "image/png": "[encoded data removed]",
      "text/plain": [
       "<Figure size 432x288 with 1 Axes>"
      ]
     },
     "metadata": {
      "needs_background": "light"
     },
     "output_type": "display_data"
    }
   ],
   "source": [
    "plt.plot(losses, label='Training Loss');\n",
    "plt.plot(valid_losses, label='Validation Loss');\n",
    "plt.legend();"
   ]
  },
  {
   "cell_type": "code",
   "execution_count": 166,
   "metadata": {},
   "outputs": [],
   "source": [
    "# predicted label for test\n",
    "model.train = False\n",
    "predictions = model(test_tensors).detach().numpy()\n",
    "predictions = np.array(list(map(lambda x: np.argmax(x), predictions)))"
   ]
  },
  {
   "cell_type": "code",
   "execution_count": 167,
   "metadata": {},
   "outputs": [],
   "source": [
    "# true label of test\n",
    "test_labels = np.array(test_labels)  "
   ]
  },
  {
   "cell_type": "code",
   "execution_count": 168,
   "metadata": {},
   "outputs": [
    {
     "data": {
      "text/plain": [
       "0.75912"
      ]
     },
     "execution_count": 168,
     "metadata": {},
     "output_type": "execute_result"
    }
   ],
   "source": [
    "# prediction accuracy\n",
    "precision = len(test_labels[test_labels==predictions]) / len(test_labels)\n",
    "precision"
   ]
  },
  {
   "cell_type": "markdown",
   "metadata": {},
   "source": [
    "## 6. Use 7 topics"
   ]
  },
  {
   "cell_type": "markdown",
   "metadata": {},
   "source": [
    "### (1) LDA - base model with 'batch' method (7)\n",
    "- Generate an array of topic distributions as an encoding for both training and test datasets."
   ]
  },
  {
   "cell_type": "code",
   "execution_count": 18,
   "metadata": {},
   "outputs": [],
   "source": [
    "n_components = 7"
   ]
  },
  {
   "cell_type": "code",
   "execution_count": 19,
   "metadata": {},
   "outputs": [
    {
     "name": "stdout",
     "output_type": "stream",
     "text": [
      "iteration: 1 of max_iter: 100\n",
      "iteration: 2 of max_iter: 100\n",
      "iteration: 3 of max_iter: 100\n",
      "iteration: 4 of max_iter: 100\n",
      "iteration: 5 of max_iter: 100\n",
      "iteration: 6 of max_iter: 100\n",
      "iteration: 7 of max_iter: 100\n",
      "iteration: 8 of max_iter: 100\n",
      "iteration: 9 of max_iter: 100\n",
      "iteration: 10 of max_iter: 100, perplexity: 2208.5825\n",
      "iteration: 11 of max_iter: 100\n",
      "iteration: 12 of max_iter: 100\n",
      "iteration: 13 of max_iter: 100\n",
      "iteration: 14 of max_iter: 100\n",
      "iteration: 15 of max_iter: 100\n",
      "iteration: 16 of max_iter: 100\n",
      "iteration: 17 of max_iter: 100\n",
      "iteration: 18 of max_iter: 100\n",
      "iteration: 19 of max_iter: 100\n",
      "iteration: 20 of max_iter: 100, perplexity: 2204.9613\n",
      "iteration: 21 of max_iter: 100\n",
      "iteration: 22 of max_iter: 100\n",
      "iteration: 23 of max_iter: 100\n",
      "iteration: 24 of max_iter: 100\n",
      "iteration: 25 of max_iter: 100\n",
      "iteration: 26 of max_iter: 100\n",
      "iteration: 27 of max_iter: 100\n",
      "iteration: 28 of max_iter: 100\n",
      "iteration: 29 of max_iter: 100\n",
      "iteration: 30 of max_iter: 100, perplexity: 2201.3653\n",
      "iteration: 31 of max_iter: 100\n",
      "iteration: 32 of max_iter: 100\n",
      "iteration: 33 of max_iter: 100\n",
      "iteration: 34 of max_iter: 100\n",
      "iteration: 35 of max_iter: 100\n",
      "iteration: 36 of max_iter: 100\n",
      "iteration: 37 of max_iter: 100\n",
      "iteration: 38 of max_iter: 100\n",
      "iteration: 39 of max_iter: 100\n",
      "iteration: 40 of max_iter: 100, perplexity: 2189.7175\n",
      "iteration: 41 of max_iter: 100\n",
      "iteration: 42 of max_iter: 100\n",
      "iteration: 43 of max_iter: 100\n",
      "iteration: 44 of max_iter: 100\n",
      "iteration: 45 of max_iter: 100\n",
      "iteration: 46 of max_iter: 100\n",
      "iteration: 47 of max_iter: 100\n",
      "iteration: 48 of max_iter: 100\n",
      "iteration: 49 of max_iter: 100\n",
      "iteration: 50 of max_iter: 100, perplexity: 2187.4710\n",
      "iteration: 51 of max_iter: 100\n",
      "iteration: 52 of max_iter: 100\n",
      "iteration: 53 of max_iter: 100\n",
      "iteration: 54 of max_iter: 100\n",
      "iteration: 55 of max_iter: 100\n",
      "iteration: 56 of max_iter: 100\n",
      "iteration: 57 of max_iter: 100\n",
      "iteration: 58 of max_iter: 100\n",
      "iteration: 59 of max_iter: 100\n",
      "iteration: 60 of max_iter: 100, perplexity: 2186.9023\n",
      "iteration: 61 of max_iter: 100\n",
      "iteration: 62 of max_iter: 100\n",
      "iteration: 63 of max_iter: 100\n",
      "iteration: 64 of max_iter: 100\n",
      "iteration: 65 of max_iter: 100\n",
      "iteration: 66 of max_iter: 100\n",
      "iteration: 67 of max_iter: 100\n",
      "iteration: 68 of max_iter: 100\n",
      "iteration: 69 of max_iter: 100\n",
      "iteration: 70 of max_iter: 100, perplexity: 2186.8521\n"
     ]
    },
    {
     "data": {
      "text/plain": [
       "LatentDirichletAllocation(batch_size=128, doc_topic_prior=None,\n",
       "             evaluate_every=10, learning_decay=0.7,\n",
       "             learning_method='batch', learning_offset=10.0,\n",
       "             max_doc_update_iter=100, max_iter=100, mean_change_tol=0.001,\n",
       "             n_components=7, n_jobs=-1, n_topics=None, perp_tol=0.1,\n",
       "             random_state=None, topic_word_prior=None,\n",
       "             total_samples=1000000.0, verbose=1)"
      ]
     },
     "execution_count": 19,
     "metadata": {},
     "output_type": "execute_result"
    }
   ],
   "source": [
    "lda_base = LatentDirichletAllocation(n_components = n_components,\n",
    "                                     learning_method = 'batch',\n",
    "                                     max_iter = 100,\n",
    "                                     evaluate_every=10,\n",
    "                                     verbose = 1,\n",
    "                                     n_jobs = -1) # use all processors\n",
    "lda_base.fit(all_dtm)"
   ]
  },
  {
   "cell_type": "code",
   "execution_count": 20,
   "metadata": {},
   "outputs": [
    {
     "data": {
      "text/plain": [
       "(7, 1640)"
      ]
     },
     "execution_count": 20,
     "metadata": {},
     "output_type": "execute_result"
    }
   ],
   "source": [
    "topics_count = lda_base.components_\n",
    "topics_count.shape"
   ]
  },
  {
   "cell_type": "code",
   "execution_count": 21,
   "metadata": {},
   "outputs": [],
   "source": [
    "topics_prob = topics_count/topics_count.sum(axis=1).reshape(-1,1)"
   ]
  },
  {
   "cell_type": "code",
   "execution_count": 22,
   "metadata": {},
   "outputs": [],
   "source": [
    "thetas = lda_base.transform(all_dtm)"
   ]
  },
  {
   "cell_type": "code",
   "execution_count": 23,
   "metadata": {},
   "outputs": [],
   "source": [
    "all_encoding = thetas @ topics_prob"
   ]
  },
  {
   "cell_type": "code",
   "execution_count": 24,
   "metadata": {},
   "outputs": [],
   "source": [
    "train_encoding = all_encoding[:25000]\n",
    "test_encoding = all_encoding[25000:]"
   ]
  },
  {
   "cell_type": "code",
   "execution_count": 25,
   "metadata": {},
   "outputs": [
    {
     "data": {
      "text/plain": [
       "((25000, 1640), (25000, 1640), (50000, 1640))"
      ]
     },
     "execution_count": 25,
     "metadata": {},
     "output_type": "execute_result"
    }
   ],
   "source": [
    "train_encoding.shape, test_encoding.shape, all_encoding.shape"
   ]
  },
  {
   "cell_type": "code",
   "execution_count": 26,
   "metadata": {},
   "outputs": [
    {
     "data": {
      "text/plain": [
       "array([0.00153925, 0.00019557, 0.00030198, ..., 0.00068887, 0.00020248,\n",
       "       0.00017442])"
      ]
     },
     "execution_count": 26,
     "metadata": {},
     "output_type": "execute_result"
    }
   ],
   "source": [
    "train_encoding[0]"
   ]
  },
  {
   "cell_type": "markdown",
   "metadata": {},
   "source": [
    "### (2) Classification Neural Net (7)\n",
    "- Write a neural network with several layers with different activation functions \n",
    "- Use the encoding from the topic distributions from LDA to train the Classification Neural Network using training data and evaluate the model using test data.\n",
    "- Note: fit the model using Cross Entropy loss function, and the Adam optimizer"
   ]
  },
  {
   "cell_type": "code",
   "execution_count": 27,
   "metadata": {},
   "outputs": [],
   "source": [
    "# training data: split into train & valid\n",
    "train_set, valid_set, train_labels, valid_labels = train_test_split(train_encoding, train_labels_data, \n",
    "                                                                    test_size=0.1, shuffle=True)"
   ]
  },
  {
   "cell_type": "code",
   "execution_count": 28,
   "metadata": {},
   "outputs": [],
   "source": [
    "train_tensors = torch.Tensor(train_set)\n",
    "valid_tensors = torch.Tensor(valid_set)\n",
    "\n",
    "train_labels = torch.LongTensor(train_labels)\n",
    "valid_labels = torch.LongTensor(valid_labels)"
   ]
  },
  {
   "cell_type": "code",
   "execution_count": 29,
   "metadata": {},
   "outputs": [
    {
     "data": {
      "text/plain": [
       "(torch.Size([22500, 1640]), torch.Size([2500, 1640]))"
      ]
     },
     "execution_count": 29,
     "metadata": {},
     "output_type": "execute_result"
    }
   ],
   "source": [
    "train_tensors.shape, valid_tensors.shape"
   ]
  },
  {
   "cell_type": "code",
   "execution_count": 30,
   "metadata": {},
   "outputs": [],
   "source": [
    "# test data\n",
    "test_tensors = torch.Tensor(test_encoding)"
   ]
  },
  {
   "cell_type": "code",
   "execution_count": 31,
   "metadata": {},
   "outputs": [
    {
     "data": {
      "text/plain": [
       "torch.Size([25000, 1640])"
      ]
     },
     "execution_count": 31,
     "metadata": {},
     "output_type": "execute_result"
    }
   ],
   "source": [
    "test_tensors.shape"
   ]
  },
  {
   "cell_type": "code",
   "execution_count": 32,
   "metadata": {},
   "outputs": [],
   "source": [
    "class DropoutMovieReviewClassifier(nn.Module):\n",
    "    \n",
    "    def __init__(self, vocab_size, embedding_dim):\n",
    "        super().__init__()\n",
    "        self.vocab_size = vocab_size\n",
    "        self.embedding_dim = embedding_dim\n",
    "        \n",
    "        self.fc0 = nn.Linear(self.vocab_size, self.embedding_dim)\n",
    "        self.fc1 = nn.Linear(self.embedding_dim, 50)\n",
    "        self.fc2 = nn.Linear(50, 2)\n",
    "        self.relu = nn.ReLU()      \n",
    "        self.dropout_0 = nn.Dropout(0.6)\n",
    "        self.dropout_1 = nn.Dropout(0.5)\n",
    "        \n",
    "    def forward(self, inputs):\n",
    "        out = self.fc0(inputs)\n",
    "        out = self.dropout_0(out)\n",
    "        \n",
    "        out = self.relu(out)\n",
    "        out = self.fc1(out)\n",
    "        out = self.dropout_1(out)\n",
    "        \n",
    "        out = self.relu(out)\n",
    "        out = self.fc2(out)\n",
    "        \n",
    "        prob = torch.softmax(out, 1)   \n",
    "        return prob"
   ]
  },
  {
   "cell_type": "code",
   "execution_count": 33,
   "metadata": {},
   "outputs": [],
   "source": [
    "model = DropoutMovieReviewClassifier(vocab_size=len(vectorizer.vocabulary_), embedding_dim=64)"
   ]
  },
  {
   "cell_type": "code",
   "execution_count": 34,
   "metadata": {},
   "outputs": [],
   "source": [
    "loss_function = nn.CrossEntropyLoss()\n",
    "optimizer = optim.Adam(model.parameters(), lr=0.001)     # use Adam optimizer"
   ]
  },
  {
   "cell_type": "code",
   "execution_count": 35,
   "metadata": {},
   "outputs": [],
   "source": [
    "train_set = TensorDataset(train_tensors, train_labels)\n",
    "valid_set = TensorDataset(valid_tensors, valid_labels)"
   ]
  },
  {
   "cell_type": "code",
   "execution_count": 36,
   "metadata": {},
   "outputs": [],
   "source": [
    "data_loader = DataLoader(train_set, batch_size=256)"
   ]
  },
  {
   "cell_type": "code",
   "execution_count": 37,
   "metadata": {},
   "outputs": [
    {
     "data": {
      "text/plain": [
       "88"
      ]
     },
     "execution_count": 37,
     "metadata": {},
     "output_type": "execute_result"
    }
   ],
   "source": [
    "len(data_loader)"
   ]
  },
  {
   "cell_type": "code",
   "execution_count": 38,
   "metadata": {},
   "outputs": [
    {
     "data": {
      "text/plain": [
       "tensor(0.6932, grad_fn=<NllLossBackward>)"
      ]
     },
     "execution_count": 38,
     "metadata": {},
     "output_type": "execute_result"
    }
   ],
   "source": [
    "batch = next(iter(data_loader))\n",
    "# batch\n",
    "# batch[0]   # the input features\n",
    "# batch[1]   # the labels\n",
    "# model(batch[0])  # the output probs for each label from the NN model\n",
    "loss_function(model(batch[0]), batch[1])  # the loss computed for this batch"
   ]
  },
  {
   "cell_type": "code",
   "execution_count": 39,
   "metadata": {},
   "outputs": [
    {
     "name": "stdout",
     "output_type": "stream",
     "text": [
      "(1, 0.6069779342412954, 0.6765757203102112)\n",
      "(2, 0.5531528377532958, 0.583331286907196)\n",
      "(3, 0.5094244378805161, 0.5684912800788879)\n",
      "(4, 0.5026240974664689, 0.564281702041626)\n",
      "(5, 0.4996073091030122, 0.559272289276123)\n",
      "(6, 0.49728246390819525, 0.5600306987762451)\n",
      "(7, 0.497074385881424, 0.5625910758972168)\n",
      "(8, 0.49654533684253704, 0.5583384037017822)\n",
      "(9, 0.49513080596923836, 0.5570482611656189)\n",
      "(10, 0.49471333026886005, 0.5558308362960815)\n",
      "(11, 0.49388461410999307, 0.5565588474273682)\n",
      "(12, 0.4943635147809982, 0.5569625496864319)\n",
      "(13, 0.49284231424331665, 0.5586915612220764)\n",
      "(14, 0.49363419234752665, 0.5569464564323425)\n",
      "(15, 0.4926480305194855, 0.5572473406791687)\n",
      "(16, 0.4916831266880036, 0.5589306354522705)\n",
      "(17, 0.4920183277130126, 0.5563476085662842)\n",
      "(18, 0.4917566269636154, 0.5558330416679382)\n",
      "(19, 0.4920965605974199, 0.5559006929397583)\n",
      "(20, 0.4915189427137375, 0.5547791719436646)\n",
      "(21, 0.49206019222736347, 0.555969774723053)\n",
      "(22, 0.49147094964981075, 0.5548352003097534)\n",
      "(23, 0.49109766662120813, 0.5556997656822205)\n",
      "(24, 0.49115770995616903, 0.5573827028274536)\n",
      "(25, 0.49076809704303737, 0.5531775951385498)\n",
      "(26, 0.4908720839023588, 0.5542606711387634)\n",
      "(27, 0.4908117586374283, 0.5529797673225403)\n",
      "(28, 0.4909080892801284, 0.5558838248252869)\n",
      "(29, 0.4908780658245085, 0.5555896759033203)\n",
      "(30, 0.49103818237781527, 0.5545306205749512)\n",
      "(31, 0.4906046587228777, 0.5546677708625793)\n",
      "(32, 0.4906582546234131, 0.5556577444076538)\n",
      "(33, 0.49062573909759516, 0.5539592504501343)\n",
      "(34, 0.4905728590488433, 0.5525357127189636)\n",
      "(35, 0.49065399289131184, 0.5545384287834167)\n",
      "(36, 0.49051739692687996, 0.5540248155593872)\n",
      "(37, 0.4906821966171266, 0.5552881956100464)\n",
      "(38, 0.4899496763944627, 0.5549942851066589)\n",
      "(39, 0.49036088585853577, 0.5529912710189819)\n",
      "(40, 0.49057353556156164, 0.5542124509811401)\n",
      "(41, 0.4908043372631073, 0.5549122095108032)\n",
      "(42, 0.49011786401271806, 0.5542967915534973)\n",
      "(43, 0.49023735821247094, 0.554627001285553)\n",
      "(44, 0.49038606703281384, 0.5539700984954834)\n",
      "(45, 0.48992495298385613, 0.554053783416748)\n",
      "(46, 0.49058536082506166, 0.5549739003181458)\n",
      "(47, 0.4903600323200225, 0.5555472373962402)\n",
      "(48, 0.49062245726585385, 0.5536808371543884)\n",
      "(49, 0.4901469111442569, 0.5545930862426758)\n",
      "(50, 0.4900057530403137, 0.5529622435569763)\n",
      "(51, 0.4901867508888244, 0.5535112619400024)\n",
      "(52, 0.489998498558998, 0.5532919764518738)\n",
      "(53, 0.49007956981658934, 0.5532186031341553)\n",
      "(54, 0.489999000430107, 0.5544053912162781)\n",
      "(55, 0.4902527302503587, 0.5555548667907715)\n",
      "(56, 0.49024034917354586, 0.5528558492660522)\n",
      "(57, 0.49011854827404017, 0.5547840595245361)\n",
      "(58, 0.4898312425613403, 0.5550896525382996)\n",
      "(59, 0.49005574524402606, 0.5562376976013184)\n",
      "(60, 0.4903043240308761, 0.5544348359107971)\n",
      "(61, 0.4898248744010925, 0.5539652109146118)\n",
      "(62, 0.49026063501834866, 0.5517446398735046)\n",
      "(63, 0.4898949843645096, 0.5550590753555298)\n",
      "(64, 0.4901366674900055, 0.5540382266044617)\n",
      "(65, 0.4897256958484651, 0.5538269877433777)\n",
      "(66, 0.49019809007644655, 0.554037868976593)\n",
      "(67, 0.49014484882354725, 0.554017186164856)\n",
      "(68, 0.48967459797859175, 0.5562540292739868)\n",
      "(69, 0.490456107854843, 0.5558797121047974)\n",
      "(70, 0.4902847635746003, 0.5530385375022888)\n",
      "(71, 0.4901008528470993, 0.555182695388794)\n",
      "(72, 0.4896547710895539, 0.553871214389801)\n",
      "(73, 0.49027460873126993, 0.5544978976249695)\n",
      "(74, 0.48984767556190484, 0.5531429648399353)\n",
      "(75, 0.4893469858169555, 0.5537514090538025)\n",
      "(76, 0.489959873557091, 0.5553035736083984)\n",
      "(77, 0.48997282564640054, 0.5562518835067749)\n",
      "(78, 0.49002979397773744, 0.5551323890686035)\n",
      "(79, 0.48919804513454457, 0.5540432333946228)\n",
      "(80, 0.4896056258678436, 0.5538682341575623)\n",
      "(81, 0.4901357913017273, 0.5554781556129456)\n",
      "(82, 0.49011843025684354, 0.5546436309814453)\n",
      "(83, 0.4903124117851258, 0.553475022315979)\n",
      "(84, 0.48975401699543003, 0.5541164875030518)\n",
      "(85, 0.4896550190448761, 0.5558280944824219)\n",
      "(86, 0.4900062876939774, 0.5557907819747925)\n",
      "(87, 0.4903479123115539, 0.5518376231193542)\n",
      "(88, 0.4895391380786895, 0.5536047220230103)\n",
      "(89, 0.4901058030128479, 0.5543203353881836)\n",
      "(90, 0.4902198749780657, 0.5540453195571899)\n",
      "(91, 0.490016598701477, 0.5549971461296082)\n",
      "(92, 0.48965206146240237, 0.5556516051292419)\n",
      "(93, 0.4903812026977538, 0.5523337125778198)\n",
      "(94, 0.49056737542152423, 0.5557586550712585)\n",
      "(95, 0.48963717699050924, 0.5546278357505798)\n",
      "(96, 0.4897413086891173, 0.5536712408065796)\n",
      "(97, 0.48987016618251794, 0.5538901686668396)\n",
      "(98, 0.4901242500543594, 0.553026556968689)\n",
      "(99, 0.4898599570989608, 0.555351972579956)\n",
      "(100, 0.48989223003387455, 0.5551607608795166)\n"
     ]
    }
   ],
   "source": [
    "losses = []\n",
    "valid_losses = []\n",
    "\n",
    "for epoch in range(100):\n",
    "    running_loss = 0\n",
    "    for context, target in data_loader:\n",
    "        \n",
    "        model.zero_grad()\n",
    "        \n",
    "        prob = model(context)\n",
    "        \n",
    "        loss = loss_function(prob, target)\n",
    "        loss.backward()\n",
    "        optimizer.step()\n",
    "        \n",
    "        running_loss += loss.item()/100.\n",
    "    \n",
    "    valid_pred = model(valid_tensors)\n",
    "    valid_loss = loss_function(valid_pred,valid_labels).item()\n",
    "    losses.append(running_loss)\n",
    "    valid_losses.append(valid_loss)\n",
    "    print(f'{epoch+1, running_loss, valid_loss}')"
   ]
  },
  {
   "cell_type": "code",
   "execution_count": 40,
   "metadata": {},
   "outputs": [
    {
     "data": {
      "image/png": "[encoded data removed]",
      "text/plain": [
       "<Figure size 432x288 with 1 Axes>"
      ]
     },
     "metadata": {
      "needs_background": "light"
     },
     "output_type": "display_data"
    }
   ],
   "source": [
    "plt.plot(losses, label='Training Loss');\n",
    "plt.plot(valid_losses, label='Validation Loss');\n",
    "plt.legend();"
   ]
  },
  {
   "cell_type": "code",
   "execution_count": 41,
   "metadata": {},
   "outputs": [],
   "source": [
    "# predicted label for test\n",
    "model.train = False\n",
    "predictions = model(test_tensors).detach().numpy()\n",
    "predictions = np.array(list(map(lambda x: np.argmax(x), predictions)))"
   ]
  },
  {
   "cell_type": "code",
   "execution_count": 42,
   "metadata": {},
   "outputs": [],
   "source": [
    "# true label of test\n",
    "test_labels = np.array(test_labels)  "
   ]
  },
  {
   "cell_type": "code",
   "execution_count": 43,
   "metadata": {},
   "outputs": [
    {
     "data": {
      "text/plain": [
       "0.7468"
      ]
     },
     "execution_count": 43,
     "metadata": {},
     "output_type": "execute_result"
    }
   ],
   "source": [
    "# prediction accuracy\n",
    "precision = len(test_labels[test_labels==predictions]) / len(test_labels)\n",
    "precision"
   ]
  },
  {
   "cell_type": "markdown",
   "metadata": {},
   "source": [
    "## 7. Results"
   ]
  },
  {
   "cell_type": "markdown",
   "metadata": {},
   "source": [
    "Using my own Classification Neural Network, the precision for each topic is shown as below:\n",
    "\n",
    "- (1) **4 topics**: precision = 0.49988\n",
    "- (2) **5 topics**: precision = 0.75488\n",
    "- (3) **6 topics**: precision = 0.75912\n",
    "- (4) **7 topics**: precision = 0.7468\n",
    "\n",
    "As a result, the 6-topic LDA model provides the highest precision, thus it is the best model to encode movie reviews in this question for my own written Classification Neural Network."
   ]
  },
  {
   "cell_type": "code",
   "execution_count": null,
   "metadata": {},
   "outputs": [],
   "source": []
  }
 ],
 "metadata": {
  "kernelspec": {
   "display_name": "Python 3",
   "language": "python",
   "name": "python3"
  },
  "language_info": {
   "codemirror_mode": {
    "name": "ipython",
    "version": 3
   },
   "file_extension": ".py",
   "mimetype": "text/x-python",
   "name": "python",
   "nbconvert_exporter": "python",
   "pygments_lexer": "ipython3",
   "version": "3.7.1"
  }
 },
 "nbformat": 4,
 "nbformat_minor": 2
}
