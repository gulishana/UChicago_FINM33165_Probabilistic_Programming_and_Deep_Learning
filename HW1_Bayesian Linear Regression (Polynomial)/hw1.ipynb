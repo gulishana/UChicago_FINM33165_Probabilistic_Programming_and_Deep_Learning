{
 "cells": [
  {
   "cell_type": "markdown",
   "metadata": {},
   "source": [
    "## Polynomial Regression"
   ]
  },
  {
   "cell_type": "code",
   "execution_count": 1,
   "metadata": {},
   "outputs": [],
   "source": [
    "import numpy as np\n",
    "import pandas as pd\n",
    "import matplotlib.pyplot as plt\n",
    "from sklearn import preprocessing\n",
    "from sklearn import linear_model\n",
    "from sklearn import metrics\n",
    "%matplotlib inline"
   ]
  },
  {
   "cell_type": "markdown",
   "metadata": {},
   "source": [
    "### 1. Explore the dataset"
   ]
  },
  {
   "cell_type": "code",
   "execution_count": 2,
   "metadata": {},
   "outputs": [],
   "source": [
    "poly = pd.read_csv('polynomial_reg.csv')"
   ]
  },
  {
   "cell_type": "code",
   "execution_count": 3,
   "metadata": {},
   "outputs": [
    {
     "data": {
      "text/html": [
       "<div>\n",
       "<style scoped>\n",
       "    .dataframe tbody tr th:only-of-type {\n",
       "        vertical-align: middle;\n",
       "    }\n",
       "\n",
       "    .dataframe tbody tr th {\n",
       "        vertical-align: top;\n",
       "    }\n",
       "\n",
       "    .dataframe thead th {\n",
       "        text-align: right;\n",
       "    }\n",
       "</style>\n",
       "<table border=\"1\" class=\"dataframe\">\n",
       "  <thead>\n",
       "    <tr style=\"text-align: right;\">\n",
       "      <th></th>\n",
       "      <th>Unnamed: 0</th>\n",
       "      <th>x</th>\n",
       "      <th>y</th>\n",
       "    </tr>\n",
       "  </thead>\n",
       "  <tbody>\n",
       "    <tr>\n",
       "      <th>0</th>\n",
       "      <td>0</td>\n",
       "      <td>-0.218372</td>\n",
       "      <td>-1.153546</td>\n",
       "    </tr>\n",
       "    <tr>\n",
       "      <th>1</th>\n",
       "      <td>1</td>\n",
       "      <td>-1.202117</td>\n",
       "      <td>-11.147821</td>\n",
       "    </tr>\n",
       "    <tr>\n",
       "      <th>2</th>\n",
       "      <td>2</td>\n",
       "      <td>-1.219273</td>\n",
       "      <td>7.139288</td>\n",
       "    </tr>\n",
       "    <tr>\n",
       "      <th>3</th>\n",
       "      <td>3</td>\n",
       "      <td>0.614203</td>\n",
       "      <td>-1.534392</td>\n",
       "    </tr>\n",
       "    <tr>\n",
       "      <th>4</th>\n",
       "      <td>4</td>\n",
       "      <td>0.175771</td>\n",
       "      <td>2.473738</td>\n",
       "    </tr>\n",
       "    <tr>\n",
       "      <th>5</th>\n",
       "      <td>5</td>\n",
       "      <td>-0.526240</td>\n",
       "      <td>-2.983978</td>\n",
       "    </tr>\n",
       "    <tr>\n",
       "      <th>6</th>\n",
       "      <td>6</td>\n",
       "      <td>-0.365348</td>\n",
       "      <td>-9.153118</td>\n",
       "    </tr>\n",
       "    <tr>\n",
       "      <th>7</th>\n",
       "      <td>7</td>\n",
       "      <td>1.146567</td>\n",
       "      <td>6.574776</td>\n",
       "    </tr>\n",
       "  </tbody>\n",
       "</table>\n",
       "</div>"
      ],
      "text/plain": [
       "   Unnamed: 0         x          y\n",
       "0           0 -0.218372  -1.153546\n",
       "1           1 -1.202117 -11.147821\n",
       "2           2 -1.219273   7.139288\n",
       "3           3  0.614203  -1.534392\n",
       "4           4  0.175771   2.473738\n",
       "5           5 -0.526240  -2.983978\n",
       "6           6 -0.365348  -9.153118\n",
       "7           7  1.146567   6.574776"
      ]
     },
     "execution_count": 3,
     "metadata": {},
     "output_type": "execute_result"
    }
   ],
   "source": [
    "poly"
   ]
  },
  {
   "cell_type": "code",
   "execution_count": 4,
   "metadata": {},
   "outputs": [],
   "source": [
    "poly.sort_values(by='x', inplace=True)\n",
    "x = poly['x'].values\n",
    "y = poly['y'].values"
   ]
  },
  {
   "cell_type": "code",
   "execution_count": 5,
   "metadata": {},
   "outputs": [
    {
     "data": {
      "text/plain": [
       "array([-1.21927293, -1.20211674, -0.52624011, -0.36534834, -0.21837184,\n",
       "        0.17577089,  0.61420293,  1.14656704])"
      ]
     },
     "execution_count": 5,
     "metadata": {},
     "output_type": "execute_result"
    }
   ],
   "source": [
    "x"
   ]
  },
  {
   "cell_type": "code",
   "execution_count": 6,
   "metadata": {},
   "outputs": [
    {
     "data": {
      "text/plain": [
       "array([  7.13928837, -11.1478206 ,  -2.98397802,  -9.15311837,\n",
       "        -1.15354604,   2.47373811,  -1.53439198,   6.57477564])"
      ]
     },
     "execution_count": 6,
     "metadata": {},
     "output_type": "execute_result"
    }
   ],
   "source": [
    "y"
   ]
  },
  {
   "cell_type": "code",
   "execution_count": 7,
   "metadata": {},
   "outputs": [
    {
     "data": {
      "image/png": "[encoded data removed]",
      "text/plain": [
       "<Figure size 432x288 with 1 Axes>"
      ]
     },
     "metadata": {
      "needs_background": "light"
     },
     "output_type": "display_data"
    }
   ],
   "source": [
    "plt.scatter(x,y)\n",
    "plt.plot(x,y)\n",
    "plt.xlabel('x')\n",
    "plt.ylabel('y');"
   ]
  },
  {
   "cell_type": "markdown",
   "metadata": {},
   "source": [
    "### 2. Compute $R^2$ for each degree model"
   ]
  },
  {
   "cell_type": "code",
   "execution_count": 8,
   "metadata": {},
   "outputs": [
    {
     "name": "stdout",
     "output_type": "stream",
     "text": [
      "R^2 for degree 1 is 0.1507142478228365\n",
      "R^2 for degree 2 is 0.2638482927478246\n",
      "R^2 for degree 3 is 0.272059463054085\n",
      "R^2 for degree 4 is 0.37467394118841657\n",
      "R^2 for degree 5 is 0.37811972122042037\n",
      "R^2 for degree 6 is 0.7778494109650003\n",
      "R^2 for degree 7 is 1.0\n",
      "R^2 for degree 8 is 1.0\n"
     ]
    }
   ],
   "source": [
    "for n in range(1,9):\n",
    "    polyf = preprocessing.PolynomialFeatures(degree = n)\n",
    "    X_poly = polyf.fit_transform(x.reshape(-1,1))\n",
    "    \n",
    "    lm_lr = linear_model.LinearRegression()\n",
    "    lm_lr.fit(X_poly, y)\n",
    "    y_pred = lm_lr.predict(X_poly)\n",
    "    \n",
    "    r2 = metrics.r2_score(y, y_pred)\n",
    "    print('R^2 for degree %s is %s' % (n, r2))        "
   ]
  },
  {
   "cell_type": "markdown",
   "metadata": {},
   "source": [
    "Result:\n",
    "\n",
    "- When the degree $n$ increases, the $R^2$ also increases.\n",
    "- $R^2$ reaches $1$ when the degree $n \\geq 7$.\n",
    "- $R^2$ increases because the model becomes more complex the fits the data better. \n",
    "- However, there are only 8 data points, thus the $R^2$ will become $100\\%$ when degree $n \\geq 7$ where the degree of freedom for the model is $8-8 = 0$.\n"
   ]
  },
  {
   "cell_type": "markdown",
   "metadata": {},
   "source": [
    "### 3. Compute $argmax_n \\ p(M_n|D)$"
   ]
  },
  {
   "cell_type": "markdown",
   "metadata": {},
   "source": [
    "From question (a) to (d), we have that:\n",
    "\n",
    "$argmax_n \\ p(M_n|D) = argmax_n \\ p(D|M_n)$\n",
    "\n",
    "and:\n",
    "$$p(D|X_n)  = p(X) \\int N(y;X_nw,\\sigma^2I_N) \\ N(w;0,\\Sigma_p) $$\n",
    "\n",
    "where:\n",
    "$$\\int N(y;X_nw,\\sigma^2I_N) \\ N(w;0,\\Sigma_p) = \\frac{ \\sqrt{\\text{det}A}} {(2\\pi)^{N/2} \\sigma^{N} \\sqrt{\\text{det}\\Sigma_p}} \\ \\exp\\left\\{ -\\frac{1}{2} y^T \\left( \\frac{1}{\\sigma^2}I_N - \\frac{1}{\\sigma^4}X_nA^TX_n^T \\right)y \\right\\}$$\n",
    "\n",
    "$$A = \\left( \\frac{1}{\\sigma^2}X_n^TX_n + \\Sigma_p^{-1} \\right)^{-1}$$\n",
    "\n",
    "In this question, we use: $\\sigma^2 = 1$ and $\\Sigma_p = 0.85I_{n+1}$\n",
    "\n",
    "where $n = 1,2,3,4,5,6,7,8$ and the number of data point $N = 8$"
   ]
  },
  {
   "cell_type": "code",
   "execution_count": 9,
   "metadata": {},
   "outputs": [],
   "source": [
    "probs = []\n",
    "\n",
    "for n in range(1,9):\n",
    "    polyf = preprocessing.PolynomialFeatures(degree = n)\n",
    "    X_poly = polyf.fit_transform(x.reshape(-1,1))\n",
    "\n",
    "    Sigma_p = 0.85 * np.eye(n+1)\n",
    "    A = np.linalg.inv(X_poly.T.dot(X_poly) + np.linalg.inv(Sigma_p))\n",
    "\n",
    "    prob = np.linalg.det(A)**0.5 / ( (2*np.pi)**4 * np.linalg.det(Sigma_p)**0.5 ) * \\\n",
    "           np.exp( -0.5 * y.T.dot( np.eye(8) - X_poly.dot(A.T).dot(X_poly.T) ).dot(y) )\n",
    "\n",
    "    probs.append(prob)"
   ]
  },
  {
   "cell_type": "code",
   "execution_count": 10,
   "metadata": {},
   "outputs": [
    {
     "name": "stdout",
     "output_type": "stream",
     "text": [
      "Conditional probability p(D|Mn) for degree 1 is 8.212638793848954e-64\n",
      "Conditional probability p(D|Mn) for degree 2 is 3.074557086829451e-60\n",
      "Conditional probability p(D|Mn) for degree 3 is 2.82960743167754e-60\n",
      "Conditional probability p(D|Mn) for degree 4 is 4.2673415425960274e-58\n",
      "Conditional probability p(D|Mn) for degree 5 is 2.861550657314426e-58\n",
      "Conditional probability p(D|Mn) for degree 6 is 5.215166827352842e-57\n",
      "Conditional probability p(D|Mn) for degree 7 is 3.6607910713648737e-57\n",
      "Conditional probability p(D|Mn) for degree 8 is 4.311090773540813e-56\n"
     ]
    }
   ],
   "source": [
    "for prob in probs:\n",
    "    print('Conditional probability p(D|Mn) for degree %s is %s' % (probs.index(prob)+1, prob)) "
   ]
  },
  {
   "cell_type": "code",
   "execution_count": 11,
   "metadata": {},
   "outputs": [
    {
     "data": {
      "text/plain": [
       "4.311090773540813e-56"
      ]
     },
     "execution_count": 11,
     "metadata": {},
     "output_type": "execute_result"
    }
   ],
   "source": [
    "max(probs)"
   ]
  },
  {
   "cell_type": "code",
   "execution_count": 12,
   "metadata": {},
   "outputs": [
    {
     "data": {
      "text/plain": [
       "8"
      ]
     },
     "execution_count": 12,
     "metadata": {},
     "output_type": "execute_result"
    }
   ],
   "source": [
    "np.argmax(probs) + 1"
   ]
  },
  {
   "cell_type": "markdown",
   "metadata": {},
   "source": [
    "Result:\n",
    "\n",
    "- Maximum conditional probability $p(D|Mn)$ = 4.311090773540813e-56 is reached when degree $n=8$\n",
    "- Again, the model prefers the largest degree n, which the most complex model. This happens because the model is not adding any penalty term for balancing the model complexity to prevent overfitting problem."
   ]
  },
  {
   "cell_type": "markdown",
   "metadata": {},
   "source": [
    "### 4. Run polynomial regression using best n = 8"
   ]
  },
  {
   "cell_type": "code",
   "execution_count": 13,
   "metadata": {},
   "outputs": [],
   "source": [
    "n = 8\n",
    "polyf = preprocessing.PolynomialFeatures(degree = n)\n",
    "X_poly = polyf.fit_transform(x.reshape(-1,1))\n",
    "\n",
    "lm_lr = linear_model.LinearRegression()\n",
    "lm_lr.fit(X_poly, y)\n",
    "y_pred = lm_lr.predict(X_poly)"
   ]
  },
  {
   "cell_type": "code",
   "execution_count": 14,
   "metadata": {},
   "outputs": [
    {
     "data": {
      "text/plain": [
       "array([-1.04487530e-11,  5.41944128e+00, -3.07116472e+02, -1.57610286e+02,\n",
       "        1.16018272e+03,  4.13727395e+02, -1.20914069e+03, -2.16878831e+02,\n",
       "        3.74368799e+02])"
      ]
     },
     "execution_count": 14,
     "metadata": {},
     "output_type": "execute_result"
    }
   ],
   "source": [
    "# coefficients w\n",
    "lm_lr.coef_    "
   ]
  },
  {
   "cell_type": "code",
   "execution_count": 15,
   "metadata": {},
   "outputs": [
    {
     "data": {
      "text/plain": [
       "array([  7.13928837, -11.1478206 ,  -2.98397802,  -9.15311837,\n",
       "        -1.15354604,   2.47373811,  -1.53439198,   6.57477564])"
      ]
     },
     "execution_count": 15,
     "metadata": {},
     "output_type": "execute_result"
    }
   ],
   "source": [
    "y_pred"
   ]
  },
  {
   "cell_type": "code",
   "execution_count": 16,
   "metadata": {},
   "outputs": [
    {
     "data": {
      "text/plain": [
       "1.0"
      ]
     },
     "execution_count": 16,
     "metadata": {},
     "output_type": "execute_result"
    }
   ],
   "source": [
    "# r^2\n",
    "metrics.r2_score(y, y_pred)"
   ]
  },
  {
   "cell_type": "code",
   "execution_count": 17,
   "metadata": {},
   "outputs": [
    {
     "data": {
      "text/plain": [
       "9.638378960890516e-26"
      ]
     },
     "execution_count": 17,
     "metadata": {},
     "output_type": "execute_result"
    }
   ],
   "source": [
    "# MSE: mean square error\n",
    "metrics.mean_squared_error(y, y_pred)"
   ]
  },
  {
   "cell_type": "code",
   "execution_count": 18,
   "metadata": {},
   "outputs": [
    {
     "data": {
      "image/png": "[encoded data removed]",
      "text/plain": [
       "<Figure size 432x288 with 1 Axes>"
      ]
     },
     "metadata": {
      "needs_background": "light"
     },
     "output_type": "display_data"
    }
   ],
   "source": [
    "# plot predicted line\n",
    "plt.scatter(x, y)\n",
    "plt.plot(x, y_pred, color='r', linewidth=2)\n",
    "plt.xlabel('x')\n",
    "plt.ylabel('y');"
   ]
  },
  {
   "cell_type": "markdown",
   "metadata": {},
   "source": [
    "Result:\n",
    "\n",
    "- The $R^2$ is 1.0, which is a perfect model where the fitted y explains all of the data y's variance.\n",
    "- The MSE is 9.638378960890516e-26, which is nearly 0.\n",
    "- The fitted line goes through each data point precisely.\n",
    "- In short, this is a perfect model for the given dataset. However, it can be an overfitting model as well if use it on the some new dataset in the future."
   ]
  },
  {
   "cell_type": "code",
   "execution_count": null,
   "metadata": {},
   "outputs": [],
   "source": []
  }
 ],
 "metadata": {
  "kernelspec": {
   "display_name": "Python 3",
   "language": "python",
   "name": "python3"
  },
  "language_info": {
   "codemirror_mode": {
    "name": "ipython",
    "version": 3
   },
   "file_extension": ".py",
   "mimetype": "text/x-python",
   "name": "python",
   "nbconvert_exporter": "python",
   "pygments_lexer": "ipython3",
   "version": "3.7.1"
  }
 },
 "nbformat": 4,
 "nbformat_minor": 2
}
